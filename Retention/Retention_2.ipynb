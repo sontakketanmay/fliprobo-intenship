{
 "cells": [
  {
   "cell_type": "code",
   "execution_count": 1,
   "metadata": {},
   "outputs": [],
   "source": [
    "import numpy as np\n",
    "import pandas as pd\n",
    "import sklearn\n",
    "import seaborn as sns\n",
    "import matplotlib.pyplot as plt\n",
    "sns.set()\n"
   ]
  },
  {
   "cell_type": "code",
   "execution_count": 2,
   "metadata": {},
   "outputs": [],
   "source": [
    "df=pd.read_csv('Retention_2.csv')\n",
    "df=pd.DataFrame(df) "
   ]
  },
  {
   "cell_type": "code",
   "execution_count": 3,
   "metadata": {},
   "outputs": [
    {
     "data": {
      "text/html": [
       "<div>\n",
       "<style scoped>\n",
       "    .dataframe tbody tr th:only-of-type {\n",
       "        vertical-align: middle;\n",
       "    }\n",
       "\n",
       "    .dataframe tbody tr th {\n",
       "        vertical-align: top;\n",
       "    }\n",
       "\n",
       "    .dataframe thead th {\n",
       "        text-align: right;\n",
       "    }\n",
       "</style>\n",
       "<table border=\"1\" class=\"dataframe\">\n",
       "  <thead>\n",
       "    <tr style=\"text-align: right;\">\n",
       "      <th></th>\n",
       "      <th>1Gender of respondent</th>\n",
       "      <th>2 How old are you?</th>\n",
       "      <th>3 Which city do you shop online from?</th>\n",
       "      <th>4 What is the Pin Code of where you shop online from?</th>\n",
       "      <th>5 Since How Long You are Shopping Online ?</th>\n",
       "      <th>6 How many times you have made an online purchase in the past 1 year?</th>\n",
       "      <th>7 How do you access the internet while shopping on-line?</th>\n",
       "      <th>8 Which device do you use to access the online shopping?</th>\n",
       "      <th>9 What is the screen size of your mobile device?\\t\\t\\t\\t\\t\\t</th>\n",
       "      <th>10 What is the operating system (OS) of your device?\\t\\t\\t\\t</th>\n",
       "      <th>...</th>\n",
       "      <th>Longer time to get logged in (promotion, sales period)</th>\n",
       "      <th>Longer time in displaying graphics and photos (promotion, sales period)</th>\n",
       "      <th>Late declaration of price (promotion, sales period)</th>\n",
       "      <th>Longer page loading time (promotion, sales period)</th>\n",
       "      <th>Limited mode of payment on most products (promotion, sales period)</th>\n",
       "      <th>Longer delivery period</th>\n",
       "      <th>Change in website/Application design</th>\n",
       "      <th>Frequent disruption when moving from one page to another</th>\n",
       "      <th>Website is as efficient as before</th>\n",
       "      <th>Which of the Indian online retailer would you recommend to a friend?</th>\n",
       "    </tr>\n",
       "  </thead>\n",
       "  <tbody>\n",
       "    <tr>\n",
       "      <th>0</th>\n",
       "      <td>Male</td>\n",
       "      <td>31-40 years</td>\n",
       "      <td>Delhi</td>\n",
       "      <td>110009</td>\n",
       "      <td>Above 4 years</td>\n",
       "      <td>31-40 times</td>\n",
       "      <td>Dial-up</td>\n",
       "      <td>Desktop</td>\n",
       "      <td>Others</td>\n",
       "      <td>Window/windows Mobile</td>\n",
       "      <td>...</td>\n",
       "      <td>Amazon.in</td>\n",
       "      <td>Amazon.in</td>\n",
       "      <td>Flipkart.com</td>\n",
       "      <td>Flipkart.com</td>\n",
       "      <td>Amazon.in</td>\n",
       "      <td>Paytm.com</td>\n",
       "      <td>Flipkart.com</td>\n",
       "      <td>Amazon.in</td>\n",
       "      <td>Amazon.in</td>\n",
       "      <td>Flipkart.com</td>\n",
       "    </tr>\n",
       "    <tr>\n",
       "      <th>1</th>\n",
       "      <td>Female</td>\n",
       "      <td>21-30 years</td>\n",
       "      <td>Delhi</td>\n",
       "      <td>110030</td>\n",
       "      <td>Above 4 years</td>\n",
       "      <td>41 times and above</td>\n",
       "      <td>Wi-Fi</td>\n",
       "      <td>Smartphone</td>\n",
       "      <td>4.7 inches</td>\n",
       "      <td>IOS/Mac</td>\n",
       "      <td>...</td>\n",
       "      <td>Amazon.in, Flipkart.com</td>\n",
       "      <td>Myntra.com</td>\n",
       "      <td>snapdeal.com</td>\n",
       "      <td>Snapdeal.com</td>\n",
       "      <td>Snapdeal.com</td>\n",
       "      <td>Snapdeal.com</td>\n",
       "      <td>Amazon.in</td>\n",
       "      <td>Myntra.com</td>\n",
       "      <td>Amazon.in, Flipkart.com</td>\n",
       "      <td>Amazon.in, Myntra.com</td>\n",
       "    </tr>\n",
       "    <tr>\n",
       "      <th>2</th>\n",
       "      <td>Female</td>\n",
       "      <td>21-30 years</td>\n",
       "      <td>Greater Noida</td>\n",
       "      <td>201308</td>\n",
       "      <td>3-4 years</td>\n",
       "      <td>41 times and above</td>\n",
       "      <td>Mobile Internet</td>\n",
       "      <td>Smartphone</td>\n",
       "      <td>5.5 inches</td>\n",
       "      <td>Android</td>\n",
       "      <td>...</td>\n",
       "      <td>Myntra.com</td>\n",
       "      <td>Myntra.com</td>\n",
       "      <td>Myntra.com</td>\n",
       "      <td>Myntra.com</td>\n",
       "      <td>Amazon.in</td>\n",
       "      <td>Paytm.com</td>\n",
       "      <td>Paytm.com</td>\n",
       "      <td>Paytm.com</td>\n",
       "      <td>Amazon.in</td>\n",
       "      <td>Amazon.in, Paytm.com, Myntra.com</td>\n",
       "    </tr>\n",
       "    <tr>\n",
       "      <th>3</th>\n",
       "      <td>Male</td>\n",
       "      <td>21-30 years</td>\n",
       "      <td>Karnal</td>\n",
       "      <td>132001</td>\n",
       "      <td>3-4 years</td>\n",
       "      <td>Less than 10 times</td>\n",
       "      <td>Mobile Internet</td>\n",
       "      <td>Smartphone</td>\n",
       "      <td>5.5 inches</td>\n",
       "      <td>IOS/Mac</td>\n",
       "      <td>...</td>\n",
       "      <td>Snapdeal.com</td>\n",
       "      <td>Myntra.com, Snapdeal.com</td>\n",
       "      <td>Myntra.com</td>\n",
       "      <td>Paytm.com</td>\n",
       "      <td>Paytm.com</td>\n",
       "      <td>Paytm.com</td>\n",
       "      <td>Amazon.in, Flipkart.com</td>\n",
       "      <td>Amazon.in, Flipkart.com</td>\n",
       "      <td>Amazon.in, Flipkart.com, Paytm.com</td>\n",
       "      <td>Amazon.in, Flipkart.com</td>\n",
       "    </tr>\n",
       "    <tr>\n",
       "      <th>4</th>\n",
       "      <td>Female</td>\n",
       "      <td>21-30 years</td>\n",
       "      <td>Bangalore</td>\n",
       "      <td>530068</td>\n",
       "      <td>2-3 years</td>\n",
       "      <td>11-20 times</td>\n",
       "      <td>Wi-Fi</td>\n",
       "      <td>Smartphone</td>\n",
       "      <td>4.7 inches</td>\n",
       "      <td>IOS/Mac</td>\n",
       "      <td>...</td>\n",
       "      <td>Flipkart.com, Paytm.com</td>\n",
       "      <td>Paytm.com</td>\n",
       "      <td>Paytm.com</td>\n",
       "      <td>Paytm.com</td>\n",
       "      <td>Snapdeal.com</td>\n",
       "      <td>Paytm.com</td>\n",
       "      <td>Amazon.in</td>\n",
       "      <td>Snapdeal.com</td>\n",
       "      <td>Paytm.com</td>\n",
       "      <td>Amazon.in, Myntra.com</td>\n",
       "    </tr>\n",
       "  </tbody>\n",
       "</table>\n",
       "<p>5 rows × 71 columns</p>\n",
       "</div>"
      ],
      "text/plain": [
       "  1Gender of respondent 2 How old are you?   \\\n",
       "0                  Male         31-40 years   \n",
       "1                Female         21-30 years   \n",
       "2                Female         21-30 years   \n",
       "3                  Male         21-30 years   \n",
       "4                Female         21-30 years   \n",
       "\n",
       "  3 Which city do you shop online from?  \\\n",
       "0                                 Delhi   \n",
       "1                                 Delhi   \n",
       "2                         Greater Noida   \n",
       "3                               Karnal    \n",
       "4                            Bangalore    \n",
       "\n",
       "   4 What is the Pin Code of where you shop online from?  \\\n",
       "0                                             110009       \n",
       "1                                             110030       \n",
       "2                                             201308       \n",
       "3                                             132001       \n",
       "4                                             530068       \n",
       "\n",
       "  5 Since How Long You are Shopping Online ?  \\\n",
       "0                              Above 4 years   \n",
       "1                              Above 4 years   \n",
       "2                                  3-4 years   \n",
       "3                                  3-4 years   \n",
       "4                                  2-3 years   \n",
       "\n",
       "  6 How many times you have made an online purchase in the past 1 year?  \\\n",
       "0                                        31-40 times                      \n",
       "1                                 41 times and above                      \n",
       "2                                 41 times and above                      \n",
       "3                                 Less than 10 times                      \n",
       "4                                        11-20 times                      \n",
       "\n",
       "  7 How do you access the internet while shopping on-line?  \\\n",
       "0                                            Dial-up         \n",
       "1                                              Wi-Fi         \n",
       "2                                    Mobile Internet         \n",
       "3                                    Mobile Internet         \n",
       "4                                              Wi-Fi         \n",
       "\n",
       "  8 Which device do you use to access the online shopping?  \\\n",
       "0                                            Desktop         \n",
       "1                                         Smartphone         \n",
       "2                                         Smartphone         \n",
       "3                                         Smartphone         \n",
       "4                                         Smartphone         \n",
       "\n",
       "  9 What is the screen size of your mobile device?\\t\\t\\t\\t\\t\\t                                          \\\n",
       "0                                             Others                                                     \n",
       "1                                         4.7 inches                                                     \n",
       "2                                         5.5 inches                                                     \n",
       "3                                         5.5 inches                                                     \n",
       "4                                         4.7 inches                                                     \n",
       "\n",
       "  10 What is the operating system (OS) of your device?\\t\\t\\t\\t                                            \\\n",
       "0                              Window/windows Mobile                                                       \n",
       "1                                            IOS/Mac                                                       \n",
       "2                                            Android                                                       \n",
       "3                                            IOS/Mac                                                       \n",
       "4                                            IOS/Mac                                                       \n",
       "\n",
       "   ... Longer time to get logged in (promotion, sales period)  \\\n",
       "0  ...                                          Amazon.in       \n",
       "1  ...                            Amazon.in, Flipkart.com       \n",
       "2  ...                                         Myntra.com       \n",
       "3  ...                                       Snapdeal.com       \n",
       "4  ...                            Flipkart.com, Paytm.com       \n",
       "\n",
       "  Longer time in displaying graphics and photos (promotion, sales period)  \\\n",
       "0                                          Amazon.in                        \n",
       "1                                         Myntra.com                        \n",
       "2                                         Myntra.com                        \n",
       "3                           Myntra.com, Snapdeal.com                        \n",
       "4                                          Paytm.com                        \n",
       "\n",
       "  Late declaration of price (promotion, sales period)  \\\n",
       "0                                       Flipkart.com    \n",
       "1                                       snapdeal.com    \n",
       "2                                         Myntra.com    \n",
       "3                                         Myntra.com    \n",
       "4                                          Paytm.com    \n",
       "\n",
       "  Longer page loading time (promotion, sales period)  \\\n",
       "0                                       Flipkart.com   \n",
       "1                                       Snapdeal.com   \n",
       "2                                         Myntra.com   \n",
       "3                                          Paytm.com   \n",
       "4                                          Paytm.com   \n",
       "\n",
       "  Limited mode of payment on most products (promotion, sales period)  \\\n",
       "0                                          Amazon.in                   \n",
       "1                                       Snapdeal.com                   \n",
       "2                                          Amazon.in                   \n",
       "3                                          Paytm.com                   \n",
       "4                                       Snapdeal.com                   \n",
       "\n",
       "  Longer delivery period Change in website/Application design  \\\n",
       "0              Paytm.com                         Flipkart.com   \n",
       "1           Snapdeal.com                            Amazon.in   \n",
       "2              Paytm.com                            Paytm.com   \n",
       "3              Paytm.com              Amazon.in, Flipkart.com   \n",
       "4              Paytm.com                            Amazon.in   \n",
       "\n",
       "  Frequent disruption when moving from one page to another  \\\n",
       "0                                          Amazon.in         \n",
       "1                                         Myntra.com         \n",
       "2                                          Paytm.com         \n",
       "3                            Amazon.in, Flipkart.com         \n",
       "4                                       Snapdeal.com         \n",
       "\n",
       "    Website is as efficient as before  \\\n",
       "0                           Amazon.in   \n",
       "1             Amazon.in, Flipkart.com   \n",
       "2                           Amazon.in   \n",
       "3  Amazon.in, Flipkart.com, Paytm.com   \n",
       "4                           Paytm.com   \n",
       "\n",
       "  Which of the Indian online retailer would you recommend to a friend?  \n",
       "0                                       Flipkart.com                    \n",
       "1                              Amazon.in, Myntra.com                    \n",
       "2                   Amazon.in, Paytm.com, Myntra.com                    \n",
       "3                            Amazon.in, Flipkart.com                    \n",
       "4                              Amazon.in, Myntra.com                    \n",
       "\n",
       "[5 rows x 71 columns]"
      ]
     },
     "execution_count": 3,
     "metadata": {},
     "output_type": "execute_result"
    }
   ],
   "source": [
    "df.head()"
   ]
  },
  {
   "cell_type": "code",
   "execution_count": 4,
   "metadata": {},
   "outputs": [
    {
     "data": {
      "text/plain": [
       "(269, 71)"
      ]
     },
     "execution_count": 4,
     "metadata": {},
     "output_type": "execute_result"
    }
   ],
   "source": [
    "df.shape            # dimension of data set is 269 rows and 71 columns."
   ]
  },
  {
   "cell_type": "code",
   "execution_count": 5,
   "metadata": {},
   "outputs": [
    {
     "data": {
      "text/plain": [
       "Index(['1Gender of respondent', '2 How old are you? ',\n",
       "       '3 Which city do you shop online from?',\n",
       "       '4 What is the Pin Code of where you shop online from?',\n",
       "       '5 Since How Long You are Shopping Online ?',\n",
       "       '6 How many times you have made an online purchase in the past 1 year?',\n",
       "       '7 How do you access the internet while shopping on-line?',\n",
       "       '8 Which device do you use to access the online shopping?',\n",
       "       '9 What is the screen size of your mobile device?\\t\\t\\t\\t\\t\\t                                        ',\n",
       "       '10 What is the operating system (OS) of your device?\\t\\t\\t\\t                                          ',\n",
       "       '11 What browser do you run on your device to access the website?\\t\\t\\t                                                          ',\n",
       "       '12 Which channel did you follow to arrive at your favorite online store for the first time?                                                                   ',\n",
       "       '13 After first visit, how do you reach the online retail store?\\t\\t\\t\\t                                                   ',\n",
       "       '14 How much time do you explore the e- retail store before making a purchase decision?                                                                   ',\n",
       "       '15 What is your preferred payment Option?\\t\\t\\t\\t\\t                                                                                                                               ',\n",
       "       '16 How frequently do you abandon (selecting an items and leaving without making payment) your shopping cart?\\t\\t\\t\\t\\t\\t\\t                                                   ',\n",
       "       '17 Why did you abandon the “Bag”, “Shopping Cart”?\\t\\t\\t\\t\\t                                                                                                                                                       ',\n",
       "       '18 The content on the website must be easy to read and understand',\n",
       "       '19 Information on similar product to the one highlighted  is important for product comparison',\n",
       "       '20 Complete information on listed seller and product being offered is important for purchase decision.',\n",
       "       '21 All relevant information on listed products must be stated clearly',\n",
       "       '22 Ease of navigation in website', '23 Loading and processing speed',\n",
       "       '24 User friendly Interface of the website',\n",
       "       '25 Convenient Payment methods',\n",
       "       '26 Trust that the online retail store will fulfill its part of the transaction at the stipulated time',\n",
       "       '27 Empathy (readiness to assist with queries) towards the customers',\n",
       "       '28 Being able to guarantee the privacy of the customer',\n",
       "       '29 Responsiveness, availability of several communication channels (email, online rep, twitter, phone etc.)',\n",
       "       '30 Online shopping gives monetary benefit and discounts',\n",
       "       '31 Enjoyment is derived from shopping online',\n",
       "       '32 Shopping online is convenient and flexible',\n",
       "       '33 Return and replacement policy of the e-tailer is important for purchase decision',\n",
       "       '34 Gaining access to loyalty programs is a benefit of shopping online',\n",
       "       '35 Displaying quality Information on the website improves satisfaction of customers',\n",
       "       '36 User derive satisfaction while shopping on a good quality website or application',\n",
       "       '37 Net Benefit derived from shopping online can lead to users satisfaction',\n",
       "       '38 User satisfaction cannot exist without trust',\n",
       "       '39 Offering a wide variety of listed product in several category',\n",
       "       '40 Provision of complete and relevant product information',\n",
       "       '41 Monetary savings',\n",
       "       '42 The Convenience of patronizing the online retailer',\n",
       "       '43 Shopping on the website gives you the sense of adventure',\n",
       "       '44 Shopping on your preferred e-tailer enhances your social status',\n",
       "       '45 You feel gratification shopping on your favorite e-tailer',\n",
       "       '46 Shopping on the website helps you fulfill certain roles',\n",
       "       '47 Getting value for money spent',\n",
       "       'From the following, tick any (or all) of the online retailers you have shopped from;                                                                           ',\n",
       "       'Easy to use website or application',\n",
       "       'Visual appealing web-page layout', 'Wild variety of product on offer',\n",
       "       'Complete, relevant description information of products',\n",
       "       'Fast loading website speed of website and application',\n",
       "       'Reliability of the website or application',\n",
       "       'Quickness to complete purchase',\n",
       "       'Availability of several payment options', 'Speedy order delivery ',\n",
       "       'Privacy of customers’ information',\n",
       "       'Security of customer financial information',\n",
       "       'Perceived Trustworthiness',\n",
       "       'Presence of online assistance through multi-channel',\n",
       "       'Longer time to get logged in (promotion, sales period)',\n",
       "       'Longer time in displaying graphics and photos (promotion, sales period)',\n",
       "       'Late declaration of price (promotion, sales period)',\n",
       "       'Longer page loading time (promotion, sales period)',\n",
       "       'Limited mode of payment on most products (promotion, sales period)',\n",
       "       'Longer delivery period', 'Change in website/Application design',\n",
       "       'Frequent disruption when moving from one page to another',\n",
       "       'Website is as efficient as before',\n",
       "       'Which of the Indian online retailer would you recommend to a friend?'],\n",
       "      dtype='object')"
      ]
     },
     "execution_count": 5,
     "metadata": {},
     "output_type": "execute_result"
    }
   ],
   "source": [
    "df.keys()           # names of columns"
   ]
  },
  {
   "cell_type": "code",
   "execution_count": 6,
   "metadata": {},
   "outputs": [
    {
     "name": "stdout",
     "output_type": "stream",
     "text": [
      "<class 'pandas.core.frame.DataFrame'>\n",
      "RangeIndex: 269 entries, 0 to 268\n",
      "Data columns (total 71 columns):\n",
      " #   Column                                                                                                                                                                                                          Non-Null Count  Dtype \n",
      "---  ------                                                                                                                                                                                                          --------------  ----- \n",
      " 0   1Gender of respondent                                                                                                                                                                                           269 non-null    object\n",
      " 1   2 How old are you?                                                                                                                                                                                              269 non-null    object\n",
      " 2   3 Which city do you shop online from?                                                                                                                                                                           269 non-null    object\n",
      " 3   4 What is the Pin Code of where you shop online from?                                                                                                                                                           269 non-null    int64 \n",
      " 4   5 Since How Long You are Shopping Online ?                                                                                                                                                                      269 non-null    object\n",
      " 5   6 How many times you have made an online purchase in the past 1 year?                                                                                                                                           269 non-null    object\n",
      " 6   7 How do you access the internet while shopping on-line?                                                                                                                                                        269 non-null    object\n",
      " 7   8 Which device do you use to access the online shopping?                                                                                                                                                        269 non-null    object\n",
      " 8   9 What is the screen size of your mobile device?\t\t\t\t\t\t                                                                                                                                                          269 non-null    object\n",
      " 9   10 What is the operating system (OS) of your device?\t\t\t\t                                                                                                                                                        269 non-null    object\n",
      " 10  11 What browser do you run on your device to access the website?\t\t\t                                                                                                                                             269 non-null    object\n",
      " 11  12 Which channel did you follow to arrive at your favorite online store for the first time?                                                                                                                     269 non-null    object\n",
      " 12  13 After first visit, how do you reach the online retail store?\t\t\t\t                                                                                                                                             269 non-null    object\n",
      " 13  14 How much time do you explore the e- retail store before making a purchase decision?                                                                                                                          269 non-null    object\n",
      " 14  15 What is your preferred payment Option?\t\t\t\t\t                                                                                                                                                                  269 non-null    object\n",
      " 15  16 How frequently do you abandon (selecting an items and leaving without making payment) your shopping cart?\t\t\t\t\t\t\t                                                                                             269 non-null    object\n",
      " 16  17 Why did you abandon the “Bag”, “Shopping Cart”?\t\t\t\t\t                                                                                                                                                         269 non-null    object\n",
      " 17  18 The content on the website must be easy to read and understand                                                                                                                                               269 non-null    object\n",
      " 18  19 Information on similar product to the one highlighted  is important for product comparison                                                                                                                   269 non-null    object\n",
      " 19  20 Complete information on listed seller and product being offered is important for purchase decision.                                                                                                          269 non-null    object\n",
      " 20  21 All relevant information on listed products must be stated clearly                                                                                                                                           269 non-null    object\n",
      " 21  22 Ease of navigation in website                                                                                                                                                                                269 non-null    object\n",
      " 22  23 Loading and processing speed                                                                                                                                                                                 269 non-null    object\n",
      " 23  24 User friendly Interface of the website                                                                                                                                                                       269 non-null    object\n",
      " 24  25 Convenient Payment methods                                                                                                                                                                                   269 non-null    object\n",
      " 25  26 Trust that the online retail store will fulfill its part of the transaction at the stipulated time                                                                                                           269 non-null    object\n",
      " 26  27 Empathy (readiness to assist with queries) towards the customers                                                                                                                                             269 non-null    object\n",
      " 27  28 Being able to guarantee the privacy of the customer                                                                                                                                                          269 non-null    object\n",
      " 28  29 Responsiveness, availability of several communication channels (email, online rep, twitter, phone etc.)                                                                                                      269 non-null    object\n",
      " 29  30 Online shopping gives monetary benefit and discounts                                                                                                                                                         269 non-null    object\n",
      " 30  31 Enjoyment is derived from shopping online                                                                                                                                                                    269 non-null    object\n",
      " 31  32 Shopping online is convenient and flexible                                                                                                                                                                   269 non-null    object\n",
      " 32  33 Return and replacement policy of the e-tailer is important for purchase decision                                                                                                                             269 non-null    object\n",
      " 33  34 Gaining access to loyalty programs is a benefit of shopping online                                                                                                                                           269 non-null    object\n",
      " 34  35 Displaying quality Information on the website improves satisfaction of customers                                                                                                                             269 non-null    object\n",
      " 35  36 User derive satisfaction while shopping on a good quality website or application                                                                                                                             269 non-null    object\n",
      " 36  37 Net Benefit derived from shopping online can lead to users satisfaction                                                                                                                                      269 non-null    object\n",
      " 37  38 User satisfaction cannot exist without trust                                                                                                                                                                 269 non-null    object\n",
      " 38  39 Offering a wide variety of listed product in several category                                                                                                                                                269 non-null    object\n",
      " 39  40 Provision of complete and relevant product information                                                                                                                                                       269 non-null    object\n",
      " 40  41 Monetary savings                                                                                                                                                                                             269 non-null    object\n",
      " 41  42 The Convenience of patronizing the online retailer                                                                                                                                                           269 non-null    object\n",
      " 42  43 Shopping on the website gives you the sense of adventure                                                                                                                                                     269 non-null    object\n",
      " 43  44 Shopping on your preferred e-tailer enhances your social status                                                                                                                                              269 non-null    object\n",
      " 44  45 You feel gratification shopping on your favorite e-tailer                                                                                                                                                    269 non-null    object\n",
      " 45  46 Shopping on the website helps you fulfill certain roles                                                                                                                                                      269 non-null    object\n",
      " 46  47 Getting value for money spent                                                                                                                                                                                269 non-null    object\n",
      " 47  From the following, tick any (or all) of the online retailers you have shopped from;                                                                                                                            269 non-null    object\n",
      " 48  Easy to use website or application                                                                                                                                                                              269 non-null    object\n",
      " 49  Visual appealing web-page layout                                                                                                                                                                                269 non-null    object\n",
      " 50  Wild variety of product on offer                                                                                                                                                                                269 non-null    object\n",
      " 51  Complete, relevant description information of products                                                                                                                                                          269 non-null    object\n",
      " 52  Fast loading website speed of website and application                                                                                                                                                           269 non-null    object\n",
      " 53  Reliability of the website or application                                                                                                                                                                       269 non-null    object\n",
      " 54  Quickness to complete purchase                                                                                                                                                                                  269 non-null    object\n",
      " 55  Availability of several payment options                                                                                                                                                                         269 non-null    object\n",
      " 56  Speedy order delivery                                                                                                                                                                                           269 non-null    object\n",
      " 57  Privacy of customers’ information                                                                                                                                                                               269 non-null    object\n",
      " 58  Security of customer financial information                                                                                                                                                                      269 non-null    object\n",
      " 59  Perceived Trustworthiness                                                                                                                                                                                       269 non-null    object\n",
      " 60  Presence of online assistance through multi-channel                                                                                                                                                             269 non-null    object\n",
      " 61  Longer time to get logged in (promotion, sales period)                                                                                                                                                          269 non-null    object\n",
      " 62  Longer time in displaying graphics and photos (promotion, sales period)                                                                                                                                         269 non-null    object\n",
      " 63  Late declaration of price (promotion, sales period)                                                                                                                                                             269 non-null    object\n",
      " 64  Longer page loading time (promotion, sales period)                                                                                                                                                              269 non-null    object\n",
      " 65  Limited mode of payment on most products (promotion, sales period)                                                                                                                                              269 non-null    object\n",
      " 66  Longer delivery period                                                                                                                                                                                          269 non-null    object\n",
      " 67  Change in website/Application design                                                                                                                                                                            269 non-null    object\n",
      " 68  Frequent disruption when moving from one page to another                                                                                                                                                        269 non-null    object\n",
      " 69  Website is as efficient as before                                                                                                                                                                               269 non-null    object\n",
      " 70  Which of the Indian online retailer would you recommend to a friend?                                                                                                                                            269 non-null    object\n",
      "dtypes: int64(1), object(70)\n",
      "memory usage: 149.3+ KB\n"
     ]
    }
   ],
   "source": [
    "df.info()      # here we have integer and objects present in data"
   ]
  },
  {
   "cell_type": "code",
   "execution_count": 7,
   "metadata": {},
   "outputs": [
    {
     "data": {
      "text/plain": [
       "1Gender of respondent                                                   0\n",
       "2 How old are you?                                                      0\n",
       "3 Which city do you shop online from?                                   0\n",
       "4 What is the Pin Code of where you shop online from?                   0\n",
       "5 Since How Long You are Shopping Online ?                              0\n",
       "                                                                       ..\n",
       "Longer delivery period                                                  0\n",
       "Change in website/Application design                                    0\n",
       "Frequent disruption when moving from one page to another                0\n",
       "Website is as efficient as before                                       0\n",
       "Which of the Indian online retailer would you recommend to a friend?    0\n",
       "Length: 71, dtype: int64"
      ]
     },
     "execution_count": 7,
     "metadata": {},
     "output_type": "execute_result"
    }
   ],
   "source": [
    "df.isnull().sum()     # we do not have any null values present in data set."
   ]
  },
  {
   "cell_type": "code",
   "execution_count": 8,
   "metadata": {},
   "outputs": [
    {
     "data": {
      "text/html": [
       "<div>\n",
       "<style scoped>\n",
       "    .dataframe tbody tr th:only-of-type {\n",
       "        vertical-align: middle;\n",
       "    }\n",
       "\n",
       "    .dataframe tbody tr th {\n",
       "        vertical-align: top;\n",
       "    }\n",
       "\n",
       "    .dataframe thead th {\n",
       "        text-align: right;\n",
       "    }\n",
       "</style>\n",
       "<table border=\"1\" class=\"dataframe\">\n",
       "  <thead>\n",
       "    <tr style=\"text-align: right;\">\n",
       "      <th></th>\n",
       "      <th>4 What is the Pin Code of where you shop online from?</th>\n",
       "    </tr>\n",
       "  </thead>\n",
       "  <tbody>\n",
       "    <tr>\n",
       "      <th>count</th>\n",
       "      <td>269.000000</td>\n",
       "    </tr>\n",
       "    <tr>\n",
       "      <th>mean</th>\n",
       "      <td>220465.747212</td>\n",
       "    </tr>\n",
       "    <tr>\n",
       "      <th>std</th>\n",
       "      <td>140524.341051</td>\n",
       "    </tr>\n",
       "    <tr>\n",
       "      <th>min</th>\n",
       "      <td>110008.000000</td>\n",
       "    </tr>\n",
       "    <tr>\n",
       "      <th>25%</th>\n",
       "      <td>122018.000000</td>\n",
       "    </tr>\n",
       "    <tr>\n",
       "      <th>50%</th>\n",
       "      <td>201303.000000</td>\n",
       "    </tr>\n",
       "    <tr>\n",
       "      <th>75%</th>\n",
       "      <td>201310.000000</td>\n",
       "    </tr>\n",
       "    <tr>\n",
       "      <th>max</th>\n",
       "      <td>560037.000000</td>\n",
       "    </tr>\n",
       "  </tbody>\n",
       "</table>\n",
       "</div>"
      ],
      "text/plain": [
       "       4 What is the Pin Code of where you shop online from?\n",
       "count                                         269.000000    \n",
       "mean                                       220465.747212    \n",
       "std                                        140524.341051    \n",
       "min                                        110008.000000    \n",
       "25%                                        122018.000000    \n",
       "50%                                        201303.000000    \n",
       "75%                                        201310.000000    \n",
       "max                                        560037.000000    "
      ]
     },
     "execution_count": 8,
     "metadata": {},
     "output_type": "execute_result"
    }
   ],
   "source": [
    "df.describe()"
   ]
  },
  {
   "cell_type": "code",
   "execution_count": 9,
   "metadata": {},
   "outputs": [
    {
     "data": {
      "text/plain": [
       "<matplotlib.axes._subplots.AxesSubplot at 0x292089bc730>"
      ]
     },
     "execution_count": 9,
     "metadata": {},
     "output_type": "execute_result"
    },
    {
     "data": {
      "image/png": "[encoded data removed]",
      "text/plain": [
       "<Figure size 432x288 with 1 Axes>"
      ]
     },
     "metadata": {},
     "output_type": "display_data"
    }
   ],
   "source": [
    "sns.countplot(x = \"1Gender of respondent\", data = df)"
   ]
  },
  {
   "cell_type": "code",
   "execution_count": 10,
   "metadata": {},
   "outputs": [
    {
     "data": {
      "text/plain": [
       "<matplotlib.axes._subplots.AxesSubplot at 0x29208a9e700>"
      ]
     },
     "execution_count": 10,
     "metadata": {},
     "output_type": "execute_result"
    },
    {
     "data": {
      "image/png": "[encoded data removed]",
      "text/plain": [
       "<Figure size 432x288 with 1 Axes>"
      ]
     },
     "metadata": {},
     "output_type": "display_data"
    }
   ],
   "source": [
    "sns.countplot(y = \"3 Which city do you shop online from?\", data = df)"
   ]
  },
  {
   "cell_type": "code",
   "execution_count": 11,
   "metadata": {},
   "outputs": [
    {
     "data": {
      "text/plain": [
       "<matplotlib.axes._subplots.AxesSubplot at 0x292091e0ca0>"
      ]
     },
     "execution_count": 11,
     "metadata": {},
     "output_type": "execute_result"
    },
    {
     "data": {
      "image/png": "[encoded data removed]",
      "text/plain": [
       "<Figure size 432x288 with 1 Axes>"
      ]
     },
     "metadata": {},
     "output_type": "display_data"
    }
   ],
   "source": [
    "sns.countplot(y = \"4 What is the Pin Code of where you shop online from?\", data = df)"
   ]
  },
  {
   "cell_type": "code",
   "execution_count": 12,
   "metadata": {},
   "outputs": [
    {
     "data": {
      "text/plain": [
       "<matplotlib.axes._subplots.AxesSubplot at 0x29209201790>"
      ]
     },
     "execution_count": 12,
     "metadata": {},
     "output_type": "execute_result"
    },
    {
     "data": {
      "image/png": "[encoded data removed]",
      "text/plain": [
       "<Figure size 432x288 with 1 Axes>"
      ]
     },
     "metadata": {},
     "output_type": "display_data"
    }
   ],
   "source": [
    "sns.countplot(x = \"5 Since How Long You are Shopping Online ?\", data = df)"
   ]
  },
  {
   "cell_type": "code",
   "execution_count": 13,
   "metadata": {},
   "outputs": [
    {
     "data": {
      "text/plain": [
       "<matplotlib.axes._subplots.AxesSubplot at 0x29209336670>"
      ]
     },
     "execution_count": 13,
     "metadata": {},
     "output_type": "execute_result"
    },
    {
     "data": {
      "image/png": "[encoded data removed]",
      "text/plain": [
       "<Figure size 432x288 with 1 Axes>"
      ]
     },
     "metadata": {},
     "output_type": "display_data"
    }
   ],
   "source": [
    "sns.countplot(y = \"2 How old are you? \", data = df)"
   ]
  },
  {
   "cell_type": "code",
   "execution_count": 14,
   "metadata": {},
   "outputs": [
    {
     "data": {
      "text/plain": [
       "<matplotlib.axes._subplots.AxesSubplot at 0x2920938a5e0>"
      ]
     },
     "execution_count": 14,
     "metadata": {},
     "output_type": "execute_result"
    },
    {
     "data": {
      "image/png": "[encoded data removed]",
      "text/plain": [
       "<Figure size 432x288 with 1 Axes>"
      ]
     },
     "metadata": {},
     "output_type": "display_data"
    }
   ],
   "source": [
    "sns.countplot(y = \"6 How many times you have made an online purchase in the past 1 year?\", data = df)"
   ]
  },
  {
   "cell_type": "code",
   "execution_count": 15,
   "metadata": {},
   "outputs": [
    {
     "data": {
      "text/plain": [
       "<matplotlib.axes._subplots.AxesSubplot at 0x292093e1d60>"
      ]
     },
     "execution_count": 15,
     "metadata": {},
     "output_type": "execute_result"
    },
    {
     "data": {
      "image/png": "[encoded data removed]",
      "text/plain": [
       "<Figure size 432x288 with 1 Axes>"
      ]
     },
     "metadata": {},
     "output_type": "display_data"
    }
   ],
   "source": [
    "sns.countplot(x = \"7 How do you access the internet while shopping on-line?\", data = df)"
   ]
  },
  {
   "cell_type": "code",
   "execution_count": 16,
   "metadata": {},
   "outputs": [
    {
     "data": {
      "text/plain": [
       "<matplotlib.axes._subplots.AxesSubplot at 0x2920943c1f0>"
      ]
     },
     "execution_count": 16,
     "metadata": {},
     "output_type": "execute_result"
    },
    {
     "data": {
      "image/png": "[encoded data removed]",
      "text/plain": [
       "<Figure size 432x288 with 1 Axes>"
      ]
     },
     "metadata": {},
     "output_type": "display_data"
    }
   ],
   "source": [
    "sns.countplot(x = \"8 Which device do you use to access the online shopping?\", data = df)"
   ]
  },
  {
   "cell_type": "code",
   "execution_count": 17,
   "metadata": {},
   "outputs": [
    {
     "ename": "ValueError",
     "evalue": "Could not interpret input '9 What is the screen size of your mobile device?'",
     "output_type": "error",
     "traceback": [
      "\u001b[1;31m---------------------------------------------------------------------------\u001b[0m",
      "\u001b[1;31mValueError\u001b[0m                                Traceback (most recent call last)",
      "\u001b[1;32m<ipython-input-17-6130fdcd35dc>\u001b[0m in \u001b[0;36m<module>\u001b[1;34m\u001b[0m\n\u001b[1;32m----> 1\u001b[1;33m \u001b[0msns\u001b[0m\u001b[1;33m.\u001b[0m\u001b[0mcountplot\u001b[0m\u001b[1;33m(\u001b[0m\u001b[0mx\u001b[0m \u001b[1;33m=\u001b[0m \u001b[1;34m\"9 What is the screen size of your mobile device?\"\u001b[0m\u001b[1;33m,\u001b[0m \u001b[0mdata\u001b[0m \u001b[1;33m=\u001b[0m \u001b[0mdf\u001b[0m\u001b[1;33m)\u001b[0m\u001b[1;33m\u001b[0m\u001b[1;33m\u001b[0m\u001b[0m\n\u001b[0m",
      "\u001b[1;32m~\\anaconda3\\lib\\site-packages\\seaborn\\_decorators.py\u001b[0m in \u001b[0;36minner_f\u001b[1;34m(*args, **kwargs)\u001b[0m\n\u001b[0;32m     44\u001b[0m             )\n\u001b[0;32m     45\u001b[0m         \u001b[0mkwargs\u001b[0m\u001b[1;33m.\u001b[0m\u001b[0mupdate\u001b[0m\u001b[1;33m(\u001b[0m\u001b[1;33m{\u001b[0m\u001b[0mk\u001b[0m\u001b[1;33m:\u001b[0m \u001b[0marg\u001b[0m \u001b[1;32mfor\u001b[0m \u001b[0mk\u001b[0m\u001b[1;33m,\u001b[0m \u001b[0marg\u001b[0m \u001b[1;32min\u001b[0m \u001b[0mzip\u001b[0m\u001b[1;33m(\u001b[0m\u001b[0msig\u001b[0m\u001b[1;33m.\u001b[0m\u001b[0mparameters\u001b[0m\u001b[1;33m,\u001b[0m \u001b[0margs\u001b[0m\u001b[1;33m)\u001b[0m\u001b[1;33m}\u001b[0m\u001b[1;33m)\u001b[0m\u001b[1;33m\u001b[0m\u001b[1;33m\u001b[0m\u001b[0m\n\u001b[1;32m---> 46\u001b[1;33m         \u001b[1;32mreturn\u001b[0m \u001b[0mf\u001b[0m\u001b[1;33m(\u001b[0m\u001b[1;33m**\u001b[0m\u001b[0mkwargs\u001b[0m\u001b[1;33m)\u001b[0m\u001b[1;33m\u001b[0m\u001b[1;33m\u001b[0m\u001b[0m\n\u001b[0m\u001b[0;32m     47\u001b[0m     \u001b[1;32mreturn\u001b[0m \u001b[0minner_f\u001b[0m\u001b[1;33m\u001b[0m\u001b[1;33m\u001b[0m\u001b[0m\n\u001b[0;32m     48\u001b[0m \u001b[1;33m\u001b[0m\u001b[0m\n",
      "\u001b[1;32m~\\anaconda3\\lib\\site-packages\\seaborn\\categorical.py\u001b[0m in \u001b[0;36mcountplot\u001b[1;34m(x, y, hue, data, order, hue_order, orient, color, palette, saturation, dodge, ax, **kwargs)\u001b[0m\n\u001b[0;32m   3593\u001b[0m         \u001b[1;32mraise\u001b[0m \u001b[0mValueError\u001b[0m\u001b[1;33m(\u001b[0m\u001b[1;34m\"Cannot pass values for both `x` and `y`\"\u001b[0m\u001b[1;33m)\u001b[0m\u001b[1;33m\u001b[0m\u001b[1;33m\u001b[0m\u001b[0m\n\u001b[0;32m   3594\u001b[0m \u001b[1;33m\u001b[0m\u001b[0m\n\u001b[1;32m-> 3595\u001b[1;33m     plotter = _CountPlotter(\n\u001b[0m\u001b[0;32m   3596\u001b[0m         \u001b[0mx\u001b[0m\u001b[1;33m,\u001b[0m \u001b[0my\u001b[0m\u001b[1;33m,\u001b[0m \u001b[0mhue\u001b[0m\u001b[1;33m,\u001b[0m \u001b[0mdata\u001b[0m\u001b[1;33m,\u001b[0m \u001b[0morder\u001b[0m\u001b[1;33m,\u001b[0m \u001b[0mhue_order\u001b[0m\u001b[1;33m,\u001b[0m\u001b[1;33m\u001b[0m\u001b[1;33m\u001b[0m\u001b[0m\n\u001b[0;32m   3597\u001b[0m         \u001b[0mestimator\u001b[0m\u001b[1;33m,\u001b[0m \u001b[0mci\u001b[0m\u001b[1;33m,\u001b[0m \u001b[0mn_boot\u001b[0m\u001b[1;33m,\u001b[0m \u001b[0munits\u001b[0m\u001b[1;33m,\u001b[0m \u001b[0mseed\u001b[0m\u001b[1;33m,\u001b[0m\u001b[1;33m\u001b[0m\u001b[1;33m\u001b[0m\u001b[0m\n",
      "\u001b[1;32m~\\anaconda3\\lib\\site-packages\\seaborn\\categorical.py\u001b[0m in \u001b[0;36m__init__\u001b[1;34m(self, x, y, hue, data, order, hue_order, estimator, ci, n_boot, units, seed, orient, color, palette, saturation, errcolor, errwidth, capsize, dodge)\u001b[0m\n\u001b[0;32m   1582\u001b[0m                  errwidth, capsize, dodge):\n\u001b[0;32m   1583\u001b[0m         \u001b[1;34m\"\"\"Initialize the plotter.\"\"\"\u001b[0m\u001b[1;33m\u001b[0m\u001b[1;33m\u001b[0m\u001b[0m\n\u001b[1;32m-> 1584\u001b[1;33m         self.establish_variables(x, y, hue, data, orient,\n\u001b[0m\u001b[0;32m   1585\u001b[0m                                  order, hue_order, units)\n\u001b[0;32m   1586\u001b[0m         \u001b[0mself\u001b[0m\u001b[1;33m.\u001b[0m\u001b[0mestablish_colors\u001b[0m\u001b[1;33m(\u001b[0m\u001b[0mcolor\u001b[0m\u001b[1;33m,\u001b[0m \u001b[0mpalette\u001b[0m\u001b[1;33m,\u001b[0m \u001b[0msaturation\u001b[0m\u001b[1;33m)\u001b[0m\u001b[1;33m\u001b[0m\u001b[1;33m\u001b[0m\u001b[0m\n",
      "\u001b[1;32m~\\anaconda3\\lib\\site-packages\\seaborn\\categorical.py\u001b[0m in \u001b[0;36mestablish_variables\u001b[1;34m(self, x, y, hue, data, orient, order, hue_order, units)\u001b[0m\n\u001b[0;32m    151\u001b[0m                 \u001b[1;32mif\u001b[0m \u001b[0misinstance\u001b[0m\u001b[1;33m(\u001b[0m\u001b[0mvar\u001b[0m\u001b[1;33m,\u001b[0m \u001b[0mstr\u001b[0m\u001b[1;33m)\u001b[0m\u001b[1;33m:\u001b[0m\u001b[1;33m\u001b[0m\u001b[1;33m\u001b[0m\u001b[0m\n\u001b[0;32m    152\u001b[0m                     \u001b[0merr\u001b[0m \u001b[1;33m=\u001b[0m \u001b[1;34m\"Could not interpret input '{}'\"\u001b[0m\u001b[1;33m.\u001b[0m\u001b[0mformat\u001b[0m\u001b[1;33m(\u001b[0m\u001b[0mvar\u001b[0m\u001b[1;33m)\u001b[0m\u001b[1;33m\u001b[0m\u001b[1;33m\u001b[0m\u001b[0m\n\u001b[1;32m--> 153\u001b[1;33m                     \u001b[1;32mraise\u001b[0m \u001b[0mValueError\u001b[0m\u001b[1;33m(\u001b[0m\u001b[0merr\u001b[0m\u001b[1;33m)\u001b[0m\u001b[1;33m\u001b[0m\u001b[1;33m\u001b[0m\u001b[0m\n\u001b[0m\u001b[0;32m    154\u001b[0m \u001b[1;33m\u001b[0m\u001b[0m\n\u001b[0;32m    155\u001b[0m             \u001b[1;31m# Figure out the plotting orientation\u001b[0m\u001b[1;33m\u001b[0m\u001b[1;33m\u001b[0m\u001b[1;33m\u001b[0m\u001b[0m\n",
      "\u001b[1;31mValueError\u001b[0m: Could not interpret input '9 What is the screen size of your mobile device?'"
     ]
    }
   ],
   "source": [
    "sns.countplot(x = \"9 What is the screen size of your mobile device?\", data = df)"
   ]
  },
  {
   "cell_type": "code",
   "execution_count": null,
   "metadata": {},
   "outputs": [],
   "source": [
    "sns.countplot(x = \"10 What is the operating system (OS) of your device?\", data = df)"
   ]
  },
  {
   "cell_type": "code",
   "execution_count": null,
   "metadata": {},
   "outputs": [],
   "source": [
    "sns.countplot(x = \"11 What browser do you run on your device to access the website?\", data = df)"
   ]
  },
  {
   "cell_type": "code",
   "execution_count": null,
   "metadata": {},
   "outputs": [],
   "source": [
    "sns.countplot(y = \"10 What is the operating system (OS) of your device?\", data = df)"
   ]
  },
  {
   "cell_type": "code",
   "execution_count": null,
   "metadata": {},
   "outputs": [],
   "source": []
  },
  {
   "cell_type": "code",
   "execution_count": null,
   "metadata": {},
   "outputs": [],
   "source": []
  },
  {
   "cell_type": "code",
   "execution_count": null,
   "metadata": {},
   "outputs": [],
   "source": []
  },
  {
   "cell_type": "code",
   "execution_count": null,
   "metadata": {},
   "outputs": [],
   "source": []
  },
  {
   "cell_type": "code",
   "execution_count": null,
   "metadata": {},
   "outputs": [],
   "source": []
  },
  {
   "cell_type": "code",
   "execution_count": null,
   "metadata": {},
   "outputs": [],
   "source": []
  },
  {
   "cell_type": "code",
   "execution_count": null,
   "metadata": {},
   "outputs": [],
   "source": []
  },
  {
   "cell_type": "code",
   "execution_count": null,
   "metadata": {},
   "outputs": [],
   "source": []
  },
  {
   "cell_type": "code",
   "execution_count": null,
   "metadata": {},
   "outputs": [],
   "source": []
  },
  {
   "cell_type": "code",
   "execution_count": null,
   "metadata": {},
   "outputs": [],
   "source": []
  },
  {
   "cell_type": "code",
   "execution_count": null,
   "metadata": {},
   "outputs": [],
   "source": []
  },
  {
   "cell_type": "code",
   "execution_count": null,
   "metadata": {},
   "outputs": [],
   "source": []
  },
  {
   "cell_type": "code",
   "execution_count": null,
   "metadata": {},
   "outputs": [],
   "source": []
  },
  {
   "cell_type": "code",
   "execution_count": null,
   "metadata": {},
   "outputs": [],
   "source": []
  },
  {
   "cell_type": "code",
   "execution_count": null,
   "metadata": {},
   "outputs": [],
   "source": []
  },
  {
   "cell_type": "code",
   "execution_count": null,
   "metadata": {},
   "outputs": [],
   "source": [
    "sns.countplot(x = \"1Gender of respondent\", data = df)"
   ]
  },
  {
   "cell_type": "code",
   "execution_count": null,
   "metadata": {},
   "outputs": [],
   "source": [
    "sns.countplot(x = \"1Gender of respondent\", data = df)"
   ]
  },
  {
   "cell_type": "code",
   "execution_count": null,
   "metadata": {},
   "outputs": [],
   "source": [
    "sns.countplot(x = \"1Gender of respondent\", data = df)"
   ]
  },
  {
   "cell_type": "code",
   "execution_count": null,
   "metadata": {},
   "outputs": [],
   "source": [
    "sns.countplot(x = \"1Gender of respondent\", data = df)"
   ]
  },
  {
   "cell_type": "code",
   "execution_count": null,
   "metadata": {},
   "outputs": [],
   "source": [
    "sns.countplot(x = \"1Gender of respondent\", data = df)"
   ]
  },
  {
   "cell_type": "code",
   "execution_count": null,
   "metadata": {},
   "outputs": [],
   "source": [
    "sns.countplot(x = \"1Gender of respondent\", data = df)"
   ]
  }
 ],
 "metadata": {
  "kernelspec": {
   "display_name": "Python 3",
   "language": "python",
   "name": "python3"
  },
  "language_info": {
   "codemirror_mode": {
    "name": "ipython",
    "version": 3
   },
   "file_extension": ".py",
   "mimetype": "text/x-python",
   "name": "python",
   "nbconvert_exporter": "python",
   "pygments_lexer": "ipython3",
   "version": "3.8.3"
  }
 },
 "nbformat": 4,
 "nbformat_minor": 4
}
