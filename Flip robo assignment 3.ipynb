{
 "cells": [
  {
   "cell_type": "code",
   "execution_count": 1,
   "metadata": {},
   "outputs": [
    {
     "name": "stdout",
     "output_type": "stream",
     "text": [
      "Requirement already satisfied: selenium in c:\\users\\techitfirst\\anaconda3\\lib\\site-packages (3.141.0)\n",
      "Requirement already satisfied: urllib3 in c:\\users\\techitfirst\\anaconda3\\lib\\site-packages (from selenium) (1.25.9)\n",
      "Note: you may need to restart the kernel to use updated packages.\n"
     ]
    }
   ],
   "source": [
    "pip install selenium"
   ]
  },
  {
   "cell_type": "code",
   "execution_count": 2,
   "metadata": {},
   "outputs": [],
   "source": [
    "import pandas as pd\n",
    "import selenium\n",
    "from selenium import webdriver\n",
    "import time\n",
    "from selenium.common.exceptions import StaleElementReferenceException, NoSuchElementException"
   ]
  },
  {
   "cell_type": "code",
   "execution_count": 3,
   "metadata": {},
   "outputs": [],
   "source": [
    "driver= webdriver.Chrome(\"C:/Users/Techitfirst/Desktop/Abhinay/chromedriver.exe\")"
   ]
  },
  {
   "cell_type": "code",
   "execution_count": 4,
   "metadata": {},
   "outputs": [],
   "source": [
    "url='https://www.amazon.in/'\n",
    "driver.get(url)"
   ]
  },
  {
   "cell_type": "code",
   "execution_count": 5,
   "metadata": {},
   "outputs": [],
   "source": [
    "time.sleep(6)"
   ]
  },
  {
   "cell_type": "code",
   "execution_count": 6,
   "metadata": {},
   "outputs": [
    {
     "data": {
      "text/plain": [
       "<selenium.webdriver.remote.webelement.WebElement (session=\"742c3744f2622008344368d4ea0bddbd\", element=\"31c38fbf-3aca-411e-8acb-126b03f46ad5\")>"
      ]
     },
     "execution_count": 6,
     "metadata": {},
     "output_type": "execute_result"
    }
   ],
   "source": [
    "search_item=driver.find_element_by_id('twotabsearchtextbox')\n",
    "search_item"
   ]
  },
  {
   "cell_type": "code",
   "execution_count": 7,
   "metadata": {},
   "outputs": [],
   "source": [
    "search_item.send_keys('guitar instrument')"
   ]
  },
  {
   "cell_type": "code",
   "execution_count": 8,
   "metadata": {},
   "outputs": [],
   "source": [
    "search_button=driver.find_element_by_id('nav-search-submit-button')\n",
    "search_button.click()"
   ]
  },
  {
   "cell_type": "code",
   "execution_count": 9,
   "metadata": {},
   "outputs": [],
   "source": [
    "Brand=[]\n",
    "Name_of_the_Product=[]\n",
    "Rating=[] \n",
    "Number_of_Ratings=[] \n",
    "Price=[] \n",
    "Return_or_Exchange=[] \n",
    "Expected_Delivery=[] \n",
    "Availability=[] \n",
    "Other_Details=[]\n",
    "Product_URL=[]\n",
    "page_urls=[]"
   ]
  },
  {
   "cell_type": "code",
   "execution_count": 37,
   "metadata": {},
   "outputs": [],
   "source": [
    "nxt_page = driver.find_elements_by_xpath(\"//ul[@class='pagination']\")\n",
    "for i in nxt_page:\n",
    "    page_urls.append(i.get_attribute('href'))\n",
    "    \n",
    "for url in page_urls[:3]:\n",
    "    driver.get(url)\n",
    "\n",
    "\n",
    "for i in driver.find_elements_by_xpath(\"//a[@class='a-link-normal a-text-normal']\"):\n",
    "    \n",
    "    Brand.append(i.text)\n",
    "    \n",
    "for url in page_urls[:3]:\n",
    "    driver.get(url)\n",
    "\n",
    "for i in driver.find_elements_by_xpath(\"//div[@class='a-row a-size-small']\"):\n",
    "    \n",
    "    Number_of_Ratings.append(i.text)\n",
    "    \n",
    "#locating Ratings\n",
    "for url in page_urls[:3]:\n",
    "    driver.get(url)\n",
    "    \n",
    "\n",
    "    try:                  #exception handling for nosuchelementexception                                                    #click the rating link found\n",
    "        Rating=driver.find_element_by_xpath(\"//i[@class='average-stars-rating-anywhere']//span\")#locating the rating\n",
    "        Rating.append(rating.text)#appending the ratings in Ratings list\n",
    "        \n",
    "    except NoSuchElementException:\n",
    "        Rating.append(\"NO rating\")#appending the No rating if no rating is there\n",
    "        \n",
    "Price=[]\n",
    "for url in page_urls[:3]:\n",
    "    driver.get(url)\n",
    "\n",
    "for i in driver.find_elements_by_xpath(\"//span[@class='a-price-whole']\"):\n",
    "\n",
    "    Price.append(i.text)\n",
    "    \n",
    "Return_or_Exchange=[] \n",
    "\n",
    "for i in driver.find_elements_by_xpath(\"//div[@class='a-section a-spacing-none icon-content']\"):\n",
    "    Return_or_Exchange\n",
    "    \n",
    "    \n",
    "Expected_Delivery=[] \n",
    "\n",
    "for i in driver.find_elements_by_id(\"dynamicDeliveryMessage_feature_div\"):\n",
    "    Expected_Delivery"
   ]
  },
  {
   "cell_type": "markdown",
   "metadata": {},
   "source": [
    "Brand=[]\n",
    "for url in page_urls[:3]:\n",
    "    driver.get(url)\n",
    "for i in driver.find_elements_by_xpath(\"//a[@class='a-link-normal a-text-normal']\"):\n",
    "    \n",
    "    Brand.append(i.text)"
   ]
  },
  {
   "cell_type": "code",
   "execution_count": 24,
   "metadata": {},
   "outputs": [
    {
     "data": {
      "text/plain": [
       "['Kadence Frontier Jumbo Semi Acoustic Guitar With Die Cast Keys Super Combo (Bag, 1 pack Strings, Strap, Picks, Capo, Tuner (natural)',\n",
       " 'Kadence Slowhand Premium Jumbo Size Semi Acoustic Guitar with Heavy Padded Bag, guitar cable, Pro Capo and Fibre guitar stand (Mahagony Wood)',\n",
       " \"NICK'S OPTIMIZE String Acoustic Guitar | Adjustable Tunning Knob | Classical Guitar Toy | Musical Instrument Learning Toy for Kids\",\n",
       " 'Laxmi Musical Electronics - Acoustic Pickup for veena, Violin, Guitar and All Acoustic String Instruments',\n",
       " 'Juârez Acoustic Guitar, 38 Inch Cutaway, 038C with Bag, Strings, Pick and Strap, Black',\n",
       " 'Juarez Acoustic Guitar, 38 Inch Cutaway with Pick Guard, 38C/RDS with Bag, Strings, Pick and Strap, Red Sunburst',\n",
       " 'JUAREZ JRZ38C Right Handed Acoustic Guitar (Sunburst, 6 Strings)',\n",
       " 'Juârez Acoustic Guitar, 38 Inch Cutaway, 038C with Bag, Strings, Pick and Strap, Black',\n",
       " 'Intern INT-38C Acoustic Guitar Kit, With Bag, Strings, Pick And Strap, Red',\n",
       " '',\n",
       " '',\n",
       " 'Juarez JRZ38C Acoustic Guitar, 38 Inch Cutaway with Bag (TBS Transparent Blue Sunburst)',\n",
       " 'Intern INT-38C Acoustic Guitar Kit, With Bag, Strings, Pick And Strap, Black',\n",
       " 'Juarez Acoustic Guitar, 38 Inch Curved Body Cutaway, 38CUR with Bag, Strings, Pick and Strap, Black',\n",
       " 'Juârez JRZ38C/WH 6 Strings Acoustic Guitar 38 Inch Cutaway, Right Handed, White with Bag, Strings, Picks and Strap',\n",
       " 'SAAN Life Science 4-string Small Acoustic Guitar Musical Instrument Educational Learning kids Toy for Beginners - 23Inch',\n",
       " 'Sajani 4-String Musical Instrument Guitar, Acoustic Guitar Learning Kids Toy',\n",
       " \"CBOX 4 String Guitar Children's Musical Instrument Educational Toy Guitar Ukulele Instruments Beginner Musical Sound Toys Best Gift for Childrens\",\n",
       " 'Kadence Frontier Series,Black Semi Acoustic Guitar With Die Cast Keys (Bag,Strap,Strings And 3 Picks Stand)',\n",
       " 'Intern 38-inch Cutaway Design Black Acoustic Guitar with Picks & Carry Bag',\n",
       " 'Intern INT-38C-BLS-G Cutaway Right Handed Acoustic Guitar Kit, With Bag, Strings, Pick And Strap (Blue, 6 Strings)',\n",
       " 'Kadence Frontier Series, Acoustic Guitar With/Wihtout EQ Die Cast Keys Combo (Bag,strap,strings and 3 picks) (Brown, Acoustic)',\n",
       " \"Luxansa 4-String Musical Acoustic Guitar Toy For Kids, Children's Learning Educational Instruments For Beginners Child With Ability Random Brown Color Best Piano Gift For Boys & Girls\",\n",
       " 'HYMET Guitar 4-String Acoustic Guitar Musical Instrument for Learning (23 Inches)Brown',\n",
       " 'GUITAR BRO - Guitar Learning Combo (30 Day Learning Kit + 4 Live 1-on-1 Classes (each class is 20 mins, Access Key Inside the Kit), Acoustic Guitars Accessories, Picks, Songbook, Videos)',\n",
       " 'HRB MUSICALS GUITAR FLOOR STAND +GUITAR CAPO + ALICE STRING SET + AND GUITAR STRING WINDER',\n",
       " 'DEVICE OF URBAN INFOTECH Tuning Peg Silver for Acoustic Guitar Parts Tuners Keys Semi-closed Guitar String Tuning Pegs Tuner Machine Heads Knobs Tuning Keys for Acoustic & Electric Guitar 3R+3L (6PCS)',\n",
       " 'DEVICE OF URBAN INFOTECH Tuning Peg Silver for Acoustic Guitar Parts Tuners Keys Semi-closed Guitar String Tuning Pegs Tuner Machine Heads Knobs Tuning Keys for Acoustic & Electric Guitar 3R+3L(6 PCS)',\n",
       " 'DIKUJI ENTERPRISE Classical Series Guitar Musical Instrument for Beginners Kids (Small)',\n",
       " 'NP ENTERPRISE 4-String Musical Instrument Guitar, Acoustic Guitar Learning Kids Toy',\n",
       " \"Crizer 4 String Guitar Children's Musical Instrument Educational Toy Guitar Ukulele Instruments Beginner Musical Sound Toys Best Gift for Children\",\n",
       " \"Luxansa 4 String Decor Musical Guitar for Kids Instrument Acoustic Learning Educational Small Toy Beginners Child with Ability Ukulele Kit, AQUILA Strings, Sapele Body, Rosewood Fingerboard, Matte Finish, Bag and Picks, Natural Random Brown Color TOY guitar Bass Children's Best Gift Boys & Girls\",\n",
       " \"Crizer Guitar Toy For Kids 4-String Musical Acoustic Guitar Toy, Children's Musical Learning Educational Instruments for Beginners with Ability Random Brown Color Best Gift for Boys & Girls- 24 Inch\",\n",
       " 'DOMENICO Guitar 4-String Acoustic Guitar Musical Instrument For Learning (23 Inches)',\n",
       " 'Chordbuddy Guitar Method – Songbook',\n",
       " 'VD ENTERPRISE String Acoustic Guitar | Adjustable Tunning Knob | Classical Guitar Toy | Musical Instrument Learning Toy for Kids',\n",
       " 'Royal Kids Guitar Toys for Kids 4-String Acoustic Guitar Musical Instrument Learning Toy for Kids ( 17 inches )- Multi Color',\n",
       " \"OOM AKSHAR 4 String Decor Guitar Children's Musical Instrument Educational Toy Small Guitar for Beginners Kids Child - 23Inch\",\n",
       " 'Luximal 4 String Musical Guitar For Kids Instrument Acoustic Learning Educational Small Toy For Child with Ability Random Brown Color Best Gift For Boys & Girls',\n",
       " 'I Mogal Enterprise Guitar 4-String Acoustic Guitar Musical Instrument for Learning (23 Inches)Brown',\n",
       " \"NICK'S OPTIMIZE String Acoustic Guitar | Adjustable Tunning Knob | Classical Guitar Toy | Musical Instrument Learning Toy for Kids\",\n",
       " 'SBU 4-String Acoustic Guitar Learning Kids Toy, Kids Gitar Brown Multi Color (Note : Mini Kids Guitar )',\n",
       " 'VATTU String Acoustic Guitar | Adjustable Tunning Knob | Classical Guitar Toy | Musical Instrument Learning Toy for Kids',\n",
       " 'KEYCHAINEX WORLD Children Guitar Toys Classic Education Entertainment with Pick Strings Musical Instruments Toy Gift String Acoustic Adjustable Tuning Knob Classical Instrument Learning for Kids',\n",
       " \"DIKUJI ENTERPRISE 6 String Decor Guitar Children's Musical Instrument Educational Toy Guitar for Beginners Kids Childs (Color May Vary)\",\n",
       " 'HEALLILY 6pcs Guitar Strings Replacement Nylon String for 6 String Guitar Musical Instruments Accessories',\n",
       " 'JohnMacc 6-String Classical Musical Instrument Guitar Learning Toy for Kids',\n",
       " 'VATTU String Acoustic Guitar | Adjustable Tunning Knob | Classical Guitar Toy | Musical Instrument Learning Toy for Kids',\n",
       " 'MD SHOP 4 String Acoustic Guitar Musical Instrument Educational Small Guitar for Beginners Kids Children',\n",
       " 'Vrk Guitar 4-String Acoustic Guitar Musical Instrument for Learning (23 Inches)Brown',\n",
       " 'Laxmi Musical Electronics - Acoustic Pickup for veena, Violin, Guitar and All Acoustic String Instruments',\n",
       " 'JALSHREE Kitchen Store Acoustic Guitar with Vibrant Sounds and tunable Strings Musical Instrument Learning Toy for Kids (Guitar Kids Toy) (Multi Color).',\n",
       " 'Mel Bay 99476 101 Three-Chord Songs for Guitar, Banjo, and Uke',\n",
       " 'PRAMUKH ASHISH Guitar 4-String Acoustic Guitar Musical Instrument for Learning (23 Inches)Brown',\n",
       " \"Stunner 4 String Guitar Children's Musical Instrument Educational Toy Guitar Ukulele Instruments Beginner Musical Sound Toys Best Gift for Children\",\n",
       " 'RetroStyle Guitar 4-String Acoustic Guitar Musical Instrument for Learning (23 Inches)Brown',\n",
       " 'M$S1 Guitar 4-String Acoustic Guitar Musical Instrument for Learning (23 Inches)Brown',\n",
       " \"Asago 4 String Children's Musical Guitar Instrument For Beginner Educational Toy Guitar Musical Sound Toys Best Gift for Children\",\n",
       " \"Ascetic 4 String Guitar Children's Musical Instrument Educational Toy Guitar Ukulele Instruments Beginner Musical Sound Toys Best Gift for Children\",\n",
       " 'ASHICHIPRO 6-String Wooden Acoustic Musical Instrument Learning Guitar Toy for Kids 24\" Brown Classical',\n",
       " 'Kadence Frontier Jumbo Semi Acoustic Guitar With Die Cast Keys Super Combo (Bag, 1 pack Strings, Strap, Picks, Capo, Tuner (natural)',\n",
       " 'Kadence Slowhand Premium Jumbo Size Semi Acoustic Guitar with Heavy Padded Bag, guitar cable, Pro Capo and Fibre guitar stand (Mahagony Wood)',\n",
       " \"NICK'S OPTIMIZE String Acoustic Guitar | Adjustable Tunning Knob | Classical Guitar Toy | Musical Instrument Learning Toy for Kids\",\n",
       " 'Laxmi Musical Electronics - Acoustic Pickup for veena, Violin, Guitar and All Acoustic String Instruments',\n",
       " 'Juârez Acoustic Guitar, 38 Inch Cutaway, 038C with Bag, Strings, Pick and Strap, Black',\n",
       " 'Juarez Acoustic Guitar, 38 Inch Cutaway with Pick Guard, 38C/RDS with Bag, Strings, Pick and Strap, Red Sunburst',\n",
       " 'JUAREZ JRZ38C Right Handed Acoustic Guitar (Sunburst, 6 Strings)',\n",
       " 'Juârez Acoustic Guitar, 38 Inch Cutaway, 038C with Bag, Strings, Pick and Strap, Black',\n",
       " 'Intern INT-38C Acoustic Guitar Kit, With Bag, Strings, Pick And Strap, Red',\n",
       " '',\n",
       " '',\n",
       " 'Juarez JRZ38C Acoustic Guitar, 38 Inch Cutaway with Bag (TBS Transparent Blue Sunburst)',\n",
       " 'Intern INT-38C Acoustic Guitar Kit, With Bag, Strings, Pick And Strap, Black',\n",
       " 'Juarez Acoustic Guitar, 38 Inch Curved Body Cutaway, 38CUR with Bag, Strings, Pick and Strap, Black',\n",
       " 'Juârez JRZ38C/WH 6 Strings Acoustic Guitar 38 Inch Cutaway, Right Handed, White with Bag, Strings, Picks and Strap',\n",
       " 'SAAN Life Science 4-string Small Acoustic Guitar Musical Instrument Educational Learning kids Toy for Beginners - 23Inch',\n",
       " 'Sajani 4-String Musical Instrument Guitar, Acoustic Guitar Learning Kids Toy',\n",
       " \"CBOX 4 String Guitar Children's Musical Instrument Educational Toy Guitar Ukulele Instruments Beginner Musical Sound Toys Best Gift for Childrens\",\n",
       " 'Kadence Frontier Series,Black Semi Acoustic Guitar With Die Cast Keys (Bag,Strap,Strings And 3 Picks Stand)',\n",
       " 'Intern 38-inch Cutaway Design Black Acoustic Guitar with Picks & Carry Bag',\n",
       " 'Intern INT-38C-BLS-G Cutaway Right Handed Acoustic Guitar Kit, With Bag, Strings, Pick And Strap (Blue, 6 Strings)',\n",
       " 'Kadence Frontier Series, Acoustic Guitar With/Wihtout EQ Die Cast Keys Combo (Bag,strap,strings and 3 picks) (Brown, Acoustic)',\n",
       " \"Luxansa 4-String Musical Acoustic Guitar Toy For Kids, Children's Learning Educational Instruments For Beginners Child With Ability Random Brown Color Best Piano Gift For Boys & Girls\",\n",
       " 'HYMET Guitar 4-String Acoustic Guitar Musical Instrument for Learning (23 Inches)Brown',\n",
       " 'GUITAR BRO - Guitar Learning Combo (30 Day Learning Kit + 4 Live 1-on-1 Classes (each class is 20 mins, Access Key Inside the Kit), Acoustic Guitars Accessories, Picks, Songbook, Videos)',\n",
       " 'HRB MUSICALS GUITAR FLOOR STAND +GUITAR CAPO + ALICE STRING SET + AND GUITAR STRING WINDER',\n",
       " 'DEVICE OF URBAN INFOTECH Tuning Peg Silver for Acoustic Guitar Parts Tuners Keys Semi-closed Guitar String Tuning Pegs Tuner Machine Heads Knobs Tuning Keys for Acoustic & Electric Guitar 3R+3L (6PCS)',\n",
       " 'DEVICE OF URBAN INFOTECH Tuning Peg Silver for Acoustic Guitar Parts Tuners Keys Semi-closed Guitar String Tuning Pegs Tuner Machine Heads Knobs Tuning Keys for Acoustic & Electric Guitar 3R+3L(6 PCS)',\n",
       " 'DIKUJI ENTERPRISE Classical Series Guitar Musical Instrument for Beginners Kids (Small)',\n",
       " 'NP ENTERPRISE 4-String Musical Instrument Guitar, Acoustic Guitar Learning Kids Toy',\n",
       " \"Crizer 4 String Guitar Children's Musical Instrument Educational Toy Guitar Ukulele Instruments Beginner Musical Sound Toys Best Gift for Children\",\n",
       " \"Luxansa 4 String Decor Musical Guitar for Kids Instrument Acoustic Learning Educational Small Toy Beginners Child with Ability Ukulele Kit, AQUILA Strings, Sapele Body, Rosewood Fingerboard, Matte Finish, Bag and Picks, Natural Random Brown Color TOY guitar Bass Children's Best Gift Boys & Girls\",\n",
       " \"Crizer Guitar Toy For Kids 4-String Musical Acoustic Guitar Toy, Children's Musical Learning Educational Instruments for Beginners with Ability Random Brown Color Best Gift for Boys & Girls- 24 Inch\",\n",
       " 'DOMENICO Guitar 4-String Acoustic Guitar Musical Instrument For Learning (23 Inches)',\n",
       " 'Chordbuddy Guitar Method – Songbook',\n",
       " 'VD ENTERPRISE String Acoustic Guitar | Adjustable Tunning Knob | Classical Guitar Toy | Musical Instrument Learning Toy for Kids',\n",
       " 'Royal Kids Guitar Toys for Kids 4-String Acoustic Guitar Musical Instrument Learning Toy for Kids ( 17 inches )- Multi Color',\n",
       " \"OOM AKSHAR 4 String Decor Guitar Children's Musical Instrument Educational Toy Small Guitar for Beginners Kids Child - 23Inch\",\n",
       " 'Luximal 4 String Musical Guitar For Kids Instrument Acoustic Learning Educational Small Toy For Child with Ability Random Brown Color Best Gift For Boys & Girls',\n",
       " 'I Mogal Enterprise Guitar 4-String Acoustic Guitar Musical Instrument for Learning (23 Inches)Brown',\n",
       " \"NICK'S OPTIMIZE String Acoustic Guitar | Adjustable Tunning Knob | Classical Guitar Toy | Musical Instrument Learning Toy for Kids\",\n",
       " 'SBU 4-String Acoustic Guitar Learning Kids Toy, Kids Gitar Brown Multi Color (Note : Mini Kids Guitar )',\n",
       " 'VATTU String Acoustic Guitar | Adjustable Tunning Knob | Classical Guitar Toy | Musical Instrument Learning Toy for Kids',\n",
       " 'KEYCHAINEX WORLD Children Guitar Toys Classic Education Entertainment with Pick Strings Musical Instruments Toy Gift String Acoustic Adjustable Tuning Knob Classical Instrument Learning for Kids',\n",
       " \"DIKUJI ENTERPRISE 6 String Decor Guitar Children's Musical Instrument Educational Toy Guitar for Beginners Kids Childs (Color May Vary)\",\n",
       " 'HEALLILY 6pcs Guitar Strings Replacement Nylon String for 6 String Guitar Musical Instruments Accessories',\n",
       " 'JohnMacc 6-String Classical Musical Instrument Guitar Learning Toy for Kids',\n",
       " 'VATTU String Acoustic Guitar | Adjustable Tunning Knob | Classical Guitar Toy | Musical Instrument Learning Toy for Kids',\n",
       " 'MD SHOP 4 String Acoustic Guitar Musical Instrument Educational Small Guitar for Beginners Kids Children',\n",
       " 'Vrk Guitar 4-String Acoustic Guitar Musical Instrument for Learning (23 Inches)Brown',\n",
       " 'Laxmi Musical Electronics - Acoustic Pickup for veena, Violin, Guitar and All Acoustic String Instruments',\n",
       " 'JALSHREE Kitchen Store Acoustic Guitar with Vibrant Sounds and tunable Strings Musical Instrument Learning Toy for Kids (Guitar Kids Toy) (Multi Color).',\n",
       " 'Mel Bay 99476 101 Three-Chord Songs for Guitar, Banjo, and Uke',\n",
       " 'PRAMUKH ASHISH Guitar 4-String Acoustic Guitar Musical Instrument for Learning (23 Inches)Brown',\n",
       " \"Stunner 4 String Guitar Children's Musical Instrument Educational Toy Guitar Ukulele Instruments Beginner Musical Sound Toys Best Gift for Children\",\n",
       " 'RetroStyle Guitar 4-String Acoustic Guitar Musical Instrument for Learning (23 Inches)Brown',\n",
       " 'M$S1 Guitar 4-String Acoustic Guitar Musical Instrument for Learning (23 Inches)Brown',\n",
       " \"Asago 4 String Children's Musical Guitar Instrument For Beginner Educational Toy Guitar Musical Sound Toys Best Gift for Children\",\n",
       " \"Ascetic 4 String Guitar Children's Musical Instrument Educational Toy Guitar Ukulele Instruments Beginner Musical Sound Toys Best Gift for Children\",\n",
       " 'ASHICHIPRO 6-String Wooden Acoustic Musical Instrument Learning Guitar Toy for Kids 24\" Brown Classical',\n",
       " '₹500.00',\n",
       " '₹174.00',\n",
       " '₹149.00',\n",
       " '₹138.50',\n",
       " '₹299.00',\n",
       " '₹6,999.00']"
      ]
     },
     "execution_count": 24,
     "metadata": {},
     "output_type": "execute_result"
    }
   ],
   "source": [
    "Brand"
   ]
  },
  {
   "cell_type": "markdown",
   "metadata": {},
   "source": [
    "Number_of_Ratings=[]\n",
    "\n",
    "for url in page_urls[:3]:\n",
    "    driver.get(url)\n",
    "\n",
    "for i in driver.find_elements_by_xpath(\"//div[@class='a-row a-size-small']\"):\n",
    "    \n",
    "    Number_of_Ratings.append(i.text)\n"
   ]
  },
  {
   "cell_type": "code",
   "execution_count": 25,
   "metadata": {},
   "outputs": [
    {
     "data": {
      "text/plain": [
       "['449',\n",
       " '128',\n",
       " '2',\n",
       " '3',\n",
       " '9,716',\n",
       " '2,220',\n",
       " '3,479',\n",
       " '9,716',\n",
       " '5,470',\n",
       " '',\n",
       " '',\n",
       " '3,324',\n",
       " '5,470',\n",
       " '833',\n",
       " '316',\n",
       " '6',\n",
       " '1',\n",
       " '336',\n",
       " '1,085',\n",
       " '729',\n",
       " '650',\n",
       " '8',\n",
       " '6',\n",
       " '4',\n",
       " '1',\n",
       " '46',\n",
       " '21',\n",
       " '14',\n",
       " '19',\n",
       " '24',\n",
       " '5',\n",
       " '2',\n",
       " '1',\n",
       " '15',\n",
       " '3',\n",
       " '449',\n",
       " '128',\n",
       " '2',\n",
       " '3',\n",
       " '9,716',\n",
       " '2,220',\n",
       " '3,479',\n",
       " '9,716',\n",
       " '5,470',\n",
       " '',\n",
       " '',\n",
       " '3,324',\n",
       " '5,470',\n",
       " '833',\n",
       " '316',\n",
       " '6',\n",
       " '1',\n",
       " '336',\n",
       " '1,085',\n",
       " '729',\n",
       " '650',\n",
       " '8',\n",
       " '6',\n",
       " '4',\n",
       " '1',\n",
       " '46',\n",
       " '21',\n",
       " '14',\n",
       " '19',\n",
       " '24',\n",
       " '5',\n",
       " '2',\n",
       " '1',\n",
       " '15',\n",
       " '3',\n",
       " '449',\n",
       " '128',\n",
       " '2',\n",
       " '3',\n",
       " '9,716',\n",
       " '2,220',\n",
       " '3,479',\n",
       " '9,716',\n",
       " '5,470',\n",
       " '',\n",
       " '',\n",
       " '3,324',\n",
       " '5,470',\n",
       " '833',\n",
       " '316',\n",
       " '6',\n",
       " '1',\n",
       " '336',\n",
       " '1,085',\n",
       " '729',\n",
       " '650',\n",
       " '8',\n",
       " '6',\n",
       " '4',\n",
       " '1',\n",
       " '46',\n",
       " '21',\n",
       " '14',\n",
       " '19',\n",
       " '24',\n",
       " '5',\n",
       " '2',\n",
       " '1',\n",
       " '15',\n",
       " '3']"
      ]
     },
     "execution_count": 25,
     "metadata": {},
     "output_type": "execute_result"
    }
   ],
   "source": [
    "Number_of_Ratings"
   ]
  },
  {
   "cell_type": "markdown",
   "metadata": {},
   "source": [
    "\n",
    "for url in page_urls[:3]:\n",
    "    driver.get(url)\n",
    "    try:                  #exception handling for nosuchelementexception                                                    #click the rating link found\n",
    "        rating=driver.find_element_by_xpath(\"//span[@class='a-icon-alt']//span\")#locating the rating\n",
    "        Ratings.append(rating.text)#appending the ratings in Ratings list\n",
    "        \n",
    "    except NoSuchElementException:\n",
    "        Ratings.append(\"NO rating\")#appending the No rating if no rating is there\n",
    "        "
   ]
  },
  {
   "cell_type": "code",
   "execution_count": 26,
   "metadata": {},
   "outputs": [
    {
     "data": {
      "text/plain": [
       "[]"
      ]
     },
     "execution_count": 26,
     "metadata": {},
     "output_type": "execute_result"
    }
   ],
   "source": [
    "Rating"
   ]
  },
  {
   "cell_type": "markdown",
   "metadata": {},
   "source": [
    "#locating Ratings\n",
    "\n",
    "for url in UR:#loop for every laptop in the list\n",
    "    driver.get(url)\n",
    "    try:                  #exception handling for nosuchelementexception                                                    #click the rating link found\n",
    "        rating=driver.find_element_by_xpath(\"//span[@class='a-size-base a-nowrap']//span\")#locating the rating\n",
    "        Rating.append(rating.text)#appending the ratings in Ratings list\n",
    "        \n",
    "    except NoSuchElementException:\n",
    "        Rating.append(\"NO rating\")#appending the No rating if no rating is there\n",
    "        "
   ]
  },
  {
   "cell_type": "code",
   "execution_count": 15,
   "metadata": {},
   "outputs": [
    {
     "data": {
      "text/plain": [
       "['7,199',\n",
       " '6,499',\n",
       " '6,499',\n",
       " '6,999',\n",
       " '10,999',\n",
       " '879',\n",
       " '599',\n",
       " '2,499',\n",
       " '2,350',\n",
       " '2,499',\n",
       " '2,499',\n",
       " '2,490',\n",
       " '',\n",
       " '',\n",
       " '2,499',\n",
       " '2,370',\n",
       " '2,499',\n",
       " '2,499',\n",
       " '849',\n",
       " '1,599',\n",
       " '849',\n",
       " '5,999',\n",
       " '2,584',\n",
       " '2,826',\n",
       " '5,299',\n",
       " '839',\n",
       " '799',\n",
       " '2,499',\n",
       " '629',\n",
       " '499',\n",
       " '499',\n",
       " '499',\n",
       " '1,599',\n",
       " '829',\n",
       " '829',\n",
       " '799',\n",
       " '799',\n",
       " '749',\n",
       " '420',\n",
       " '849',\n",
       " '829',\n",
       " '799',\n",
       " '879',\n",
       " '879',\n",
       " '826',\n",
       " '789',\n",
       " '1,299',\n",
       " '731',\n",
       " '1,339',\n",
       " '998',\n",
       " '799',\n",
       " '999',\n",
       " '599',\n",
       " '848',\n",
       " '899',\n",
       " '809',\n",
       " '799',\n",
       " '799',\n",
       " '779',\n",
       " '1,349']"
      ]
     },
     "execution_count": 15,
     "metadata": {},
     "output_type": "execute_result"
    }
   ],
   "source": [
    "Price"
   ]
  },
  {
   "cell_type": "code",
   "execution_count": 33,
   "metadata": {},
   "outputs": [
    {
     "data": {
      "text/plain": [
       "[]"
      ]
     },
     "execution_count": 33,
     "metadata": {},
     "output_type": "execute_result"
    }
   ],
   "source": [
    "Return_or_Exchange"
   ]
  },
  {
   "cell_type": "code",
   "execution_count": 38,
   "metadata": {},
   "outputs": [
    {
     "data": {
      "text/plain": [
       "[]"
      ]
     },
     "execution_count": 38,
     "metadata": {},
     "output_type": "execute_result"
    }
   ],
   "source": [
    "Expected_Delivery"
   ]
  },
  {
   "cell_type": "code",
   "execution_count": 42,
   "metadata": {},
   "outputs": [
    {
     "ename": "ValueError",
     "evalue": "arrays must all be same length",
     "output_type": "error",
     "traceback": [
      "\u001b[1;31m---------------------------------------------------------------------------\u001b[0m",
      "\u001b[1;31mValueError\u001b[0m                                Traceback (most recent call last)",
      "\u001b[1;32m<ipython-input-42-23db0e1eff8b>\u001b[0m in \u001b[0;36m<module>\u001b[1;34m\u001b[0m\n\u001b[0;32m      1\u001b[0m \u001b[1;31m#creating a dataframe\u001b[0m\u001b[1;33m\u001b[0m\u001b[1;33m\u001b[0m\u001b[1;33m\u001b[0m\u001b[0m\n\u001b[1;32m----> 2\u001b[1;33m df=pd.DataFrame({'Brand':Brand,\n\u001b[0m\u001b[0;32m      3\u001b[0m                 \u001b[1;34m'Price'\u001b[0m\u001b[1;33m:\u001b[0m\u001b[0mPrice\u001b[0m\u001b[1;33m,\u001b[0m\u001b[1;33m\u001b[0m\u001b[1;33m\u001b[0m\u001b[0m\n\u001b[0;32m      4\u001b[0m                 \u001b[1;34m'Ratings'\u001b[0m\u001b[1;33m:\u001b[0m\u001b[0mRating\u001b[0m\u001b[1;33m,\u001b[0m\u001b[1;33m\u001b[0m\u001b[1;33m\u001b[0m\u001b[0m\n\u001b[0;32m      5\u001b[0m                 \u001b[1;34m'Number_of_Ratings'\u001b[0m\u001b[1;33m:\u001b[0m\u001b[0mNumber_of_Ratings\u001b[0m\u001b[1;33m,\u001b[0m\u001b[1;33m\u001b[0m\u001b[1;33m\u001b[0m\u001b[0m\n",
      "\u001b[1;32m~\\anaconda3\\lib\\site-packages\\pandas\\core\\frame.py\u001b[0m in \u001b[0;36m__init__\u001b[1;34m(self, data, index, columns, dtype, copy)\u001b[0m\n\u001b[0;32m    433\u001b[0m             )\n\u001b[0;32m    434\u001b[0m         \u001b[1;32melif\u001b[0m \u001b[0misinstance\u001b[0m\u001b[1;33m(\u001b[0m\u001b[0mdata\u001b[0m\u001b[1;33m,\u001b[0m \u001b[0mdict\u001b[0m\u001b[1;33m)\u001b[0m\u001b[1;33m:\u001b[0m\u001b[1;33m\u001b[0m\u001b[1;33m\u001b[0m\u001b[0m\n\u001b[1;32m--> 435\u001b[1;33m             \u001b[0mmgr\u001b[0m \u001b[1;33m=\u001b[0m \u001b[0minit_dict\u001b[0m\u001b[1;33m(\u001b[0m\u001b[0mdata\u001b[0m\u001b[1;33m,\u001b[0m \u001b[0mindex\u001b[0m\u001b[1;33m,\u001b[0m \u001b[0mcolumns\u001b[0m\u001b[1;33m,\u001b[0m \u001b[0mdtype\u001b[0m\u001b[1;33m=\u001b[0m\u001b[0mdtype\u001b[0m\u001b[1;33m)\u001b[0m\u001b[1;33m\u001b[0m\u001b[1;33m\u001b[0m\u001b[0m\n\u001b[0m\u001b[0;32m    436\u001b[0m         \u001b[1;32melif\u001b[0m \u001b[0misinstance\u001b[0m\u001b[1;33m(\u001b[0m\u001b[0mdata\u001b[0m\u001b[1;33m,\u001b[0m \u001b[0mma\u001b[0m\u001b[1;33m.\u001b[0m\u001b[0mMaskedArray\u001b[0m\u001b[1;33m)\u001b[0m\u001b[1;33m:\u001b[0m\u001b[1;33m\u001b[0m\u001b[1;33m\u001b[0m\u001b[0m\n\u001b[0;32m    437\u001b[0m             \u001b[1;32mimport\u001b[0m \u001b[0mnumpy\u001b[0m\u001b[1;33m.\u001b[0m\u001b[0mma\u001b[0m\u001b[1;33m.\u001b[0m\u001b[0mmrecords\u001b[0m \u001b[1;32mas\u001b[0m \u001b[0mmrecords\u001b[0m\u001b[1;33m\u001b[0m\u001b[1;33m\u001b[0m\u001b[0m\n",
      "\u001b[1;32m~\\anaconda3\\lib\\site-packages\\pandas\\core\\internals\\construction.py\u001b[0m in \u001b[0;36minit_dict\u001b[1;34m(data, index, columns, dtype)\u001b[0m\n\u001b[0;32m    252\u001b[0m             \u001b[0marr\u001b[0m \u001b[1;32mif\u001b[0m \u001b[1;32mnot\u001b[0m \u001b[0mis_datetime64tz_dtype\u001b[0m\u001b[1;33m(\u001b[0m\u001b[0marr\u001b[0m\u001b[1;33m)\u001b[0m \u001b[1;32melse\u001b[0m \u001b[0marr\u001b[0m\u001b[1;33m.\u001b[0m\u001b[0mcopy\u001b[0m\u001b[1;33m(\u001b[0m\u001b[1;33m)\u001b[0m \u001b[1;32mfor\u001b[0m \u001b[0marr\u001b[0m \u001b[1;32min\u001b[0m \u001b[0marrays\u001b[0m\u001b[1;33m\u001b[0m\u001b[1;33m\u001b[0m\u001b[0m\n\u001b[0;32m    253\u001b[0m         ]\n\u001b[1;32m--> 254\u001b[1;33m     \u001b[1;32mreturn\u001b[0m \u001b[0marrays_to_mgr\u001b[0m\u001b[1;33m(\u001b[0m\u001b[0marrays\u001b[0m\u001b[1;33m,\u001b[0m \u001b[0mdata_names\u001b[0m\u001b[1;33m,\u001b[0m \u001b[0mindex\u001b[0m\u001b[1;33m,\u001b[0m \u001b[0mcolumns\u001b[0m\u001b[1;33m,\u001b[0m \u001b[0mdtype\u001b[0m\u001b[1;33m=\u001b[0m\u001b[0mdtype\u001b[0m\u001b[1;33m)\u001b[0m\u001b[1;33m\u001b[0m\u001b[1;33m\u001b[0m\u001b[0m\n\u001b[0m\u001b[0;32m    255\u001b[0m \u001b[1;33m\u001b[0m\u001b[0m\n\u001b[0;32m    256\u001b[0m \u001b[1;33m\u001b[0m\u001b[0m\n",
      "\u001b[1;32m~\\anaconda3\\lib\\site-packages\\pandas\\core\\internals\\construction.py\u001b[0m in \u001b[0;36marrays_to_mgr\u001b[1;34m(arrays, arr_names, index, columns, dtype)\u001b[0m\n\u001b[0;32m     62\u001b[0m     \u001b[1;31m# figure out the index, if necessary\u001b[0m\u001b[1;33m\u001b[0m\u001b[1;33m\u001b[0m\u001b[1;33m\u001b[0m\u001b[0m\n\u001b[0;32m     63\u001b[0m     \u001b[1;32mif\u001b[0m \u001b[0mindex\u001b[0m \u001b[1;32mis\u001b[0m \u001b[1;32mNone\u001b[0m\u001b[1;33m:\u001b[0m\u001b[1;33m\u001b[0m\u001b[1;33m\u001b[0m\u001b[0m\n\u001b[1;32m---> 64\u001b[1;33m         \u001b[0mindex\u001b[0m \u001b[1;33m=\u001b[0m \u001b[0mextract_index\u001b[0m\u001b[1;33m(\u001b[0m\u001b[0marrays\u001b[0m\u001b[1;33m)\u001b[0m\u001b[1;33m\u001b[0m\u001b[1;33m\u001b[0m\u001b[0m\n\u001b[0m\u001b[0;32m     65\u001b[0m     \u001b[1;32melse\u001b[0m\u001b[1;33m:\u001b[0m\u001b[1;33m\u001b[0m\u001b[1;33m\u001b[0m\u001b[0m\n\u001b[0;32m     66\u001b[0m         \u001b[0mindex\u001b[0m \u001b[1;33m=\u001b[0m \u001b[0mensure_index\u001b[0m\u001b[1;33m(\u001b[0m\u001b[0mindex\u001b[0m\u001b[1;33m)\u001b[0m\u001b[1;33m\u001b[0m\u001b[1;33m\u001b[0m\u001b[0m\n",
      "\u001b[1;32m~\\anaconda3\\lib\\site-packages\\pandas\\core\\internals\\construction.py\u001b[0m in \u001b[0;36mextract_index\u001b[1;34m(data)\u001b[0m\n\u001b[0;32m    363\u001b[0m             \u001b[0mlengths\u001b[0m \u001b[1;33m=\u001b[0m \u001b[0mlist\u001b[0m\u001b[1;33m(\u001b[0m\u001b[0mset\u001b[0m\u001b[1;33m(\u001b[0m\u001b[0mraw_lengths\u001b[0m\u001b[1;33m)\u001b[0m\u001b[1;33m)\u001b[0m\u001b[1;33m\u001b[0m\u001b[1;33m\u001b[0m\u001b[0m\n\u001b[0;32m    364\u001b[0m             \u001b[1;32mif\u001b[0m \u001b[0mlen\u001b[0m\u001b[1;33m(\u001b[0m\u001b[0mlengths\u001b[0m\u001b[1;33m)\u001b[0m \u001b[1;33m>\u001b[0m \u001b[1;36m1\u001b[0m\u001b[1;33m:\u001b[0m\u001b[1;33m\u001b[0m\u001b[1;33m\u001b[0m\u001b[0m\n\u001b[1;32m--> 365\u001b[1;33m                 \u001b[1;32mraise\u001b[0m \u001b[0mValueError\u001b[0m\u001b[1;33m(\u001b[0m\u001b[1;34m\"arrays must all be same length\"\u001b[0m\u001b[1;33m)\u001b[0m\u001b[1;33m\u001b[0m\u001b[1;33m\u001b[0m\u001b[0m\n\u001b[0m\u001b[0;32m    366\u001b[0m \u001b[1;33m\u001b[0m\u001b[0m\n\u001b[0;32m    367\u001b[0m             \u001b[1;32mif\u001b[0m \u001b[0mhave_dicts\u001b[0m\u001b[1;33m:\u001b[0m\u001b[1;33m\u001b[0m\u001b[1;33m\u001b[0m\u001b[0m\n",
      "\u001b[1;31mValueError\u001b[0m: arrays must all be same length"
     ]
    }
   ],
   "source": [
    "#creating a dataframe\n",
    "df=pd.DataFrame({'Brand':Brand,\n",
    "                'Price':Price,\n",
    "                'Ratings':Rating,\n",
    "                'Number_of_Ratings':Number_of_Ratings,\n",
    "                'Return_or_Exchange':Return_or_Exchange,\n",
    "                'Expected_Delivery':Expected_Delivery})\n",
    "#printing dataframe\n",
    "df"
   ]
  },
  {
   "cell_type": "code",
   "execution_count": null,
   "metadata": {},
   "outputs": [],
   "source": []
  },
  {
   "cell_type": "markdown",
   "metadata": {},
   "source": [
    "# Question 3"
   ]
  },
  {
   "cell_type": "code",
   "execution_count": 154,
   "metadata": {},
   "outputs": [],
   "source": [
    "driver= webdriver.Chrome(\"C:/Users/Techitfirst/Desktop/Abhinay/chromedriver.exe\")"
   ]
  },
  {
   "cell_type": "code",
   "execution_count": 155,
   "metadata": {},
   "outputs": [],
   "source": [
    "url='https://www.google.com/'\n",
    "driver.get(url)"
   ]
  },
  {
   "cell_type": "code",
   "execution_count": 156,
   "metadata": {},
   "outputs": [
    {
     "data": {
      "text/plain": [
       "<selenium.webdriver.remote.webelement.WebElement (session=\"9b2a52fda9e4a4e561231692d2ba6b74\", element=\"3773e1cf-1acd-46aa-943f-f2b756b25f04\")>"
      ]
     },
     "execution_count": 156,
     "metadata": {},
     "output_type": "execute_result"
    }
   ],
   "source": [
    "search_google=driver.find_element_by_xpath(\"//input[@class='gLFyf gsfi']\")\n",
    "search_google"
   ]
  },
  {
   "cell_type": "code",
   "execution_count": 157,
   "metadata": {},
   "outputs": [],
   "source": [
    "search_google.send_keys('fruits')"
   ]
  },
  {
   "cell_type": "code",
   "execution_count": 160,
   "metadata": {},
   "outputs": [],
   "source": [
    "search_click=driver.find_elements_by_xpath(\"//input[@class='gNO89b']\")\n",
    "search_click[0].click()"
   ]
  },
  {
   "cell_type": "code",
   "execution_count": 161,
   "metadata": {},
   "outputs": [],
   "source": [
    "image_click=driver.find_element_by_xpath(\"//a[@class='hide-focus-ring']\")\n",
    "image_click.click()"
   ]
  },
  {
   "cell_type": "code",
   "execution_count": 162,
   "metadata": {},
   "outputs": [
    {
     "data": {
      "text/plain": [
       "[<selenium.webdriver.remote.webelement.WebElement (session=\"9b2a52fda9e4a4e561231692d2ba6b74\", element=\"37fb140d-94bc-46fc-9fef-ce02071c3614\")>,\n",
       " <selenium.webdriver.remote.webelement.WebElement (session=\"9b2a52fda9e4a4e561231692d2ba6b74\", element=\"9858e986-698f-4cbd-8609-629d726aec6c\")>,\n",
       " <selenium.webdriver.remote.webelement.WebElement (session=\"9b2a52fda9e4a4e561231692d2ba6b74\", element=\"3d01c19a-1686-4e41-9280-bdbb275904b8\")>,\n",
       " <selenium.webdriver.remote.webelement.WebElement (session=\"9b2a52fda9e4a4e561231692d2ba6b74\", element=\"f8f6f9ce-24aa-4eac-acf6-4afd5bcddebc\")>,\n",
       " <selenium.webdriver.remote.webelement.WebElement (session=\"9b2a52fda9e4a4e561231692d2ba6b74\", element=\"4ee5a2a7-377a-4612-b483-5b3967c4508d\")>,\n",
       " <selenium.webdriver.remote.webelement.WebElement (session=\"9b2a52fda9e4a4e561231692d2ba6b74\", element=\"aa091d39-d58a-45e2-a13b-162daa26bfaf\")>,\n",
       " <selenium.webdriver.remote.webelement.WebElement (session=\"9b2a52fda9e4a4e561231692d2ba6b74\", element=\"0d0fd6a9-224b-452c-ba92-fd8098a5ce38\")>,\n",
       " <selenium.webdriver.remote.webelement.WebElement (session=\"9b2a52fda9e4a4e561231692d2ba6b74\", element=\"82857a1d-0e49-434c-acf5-87d623e29271\")>,\n",
       " <selenium.webdriver.remote.webelement.WebElement (session=\"9b2a52fda9e4a4e561231692d2ba6b74\", element=\"17685714-ff90-4591-9e69-d66606e5a5c0\")>,\n",
       " <selenium.webdriver.remote.webelement.WebElement (session=\"9b2a52fda9e4a4e561231692d2ba6b74\", element=\"b2e9a317-d386-4edf-ad87-6006f35e5a3c\")>,\n",
       " <selenium.webdriver.remote.webelement.WebElement (session=\"9b2a52fda9e4a4e561231692d2ba6b74\", element=\"0ce3af47-6781-4fa3-90d9-9fe165b5dc43\")>,\n",
       " <selenium.webdriver.remote.webelement.WebElement (session=\"9b2a52fda9e4a4e561231692d2ba6b74\", element=\"6d0c407e-987b-4ea4-a498-b440d1eaa9b0\")>,\n",
       " <selenium.webdriver.remote.webelement.WebElement (session=\"9b2a52fda9e4a4e561231692d2ba6b74\", element=\"ebcb4d22-7199-4a6c-9ffa-ee919f1a7545\")>,\n",
       " <selenium.webdriver.remote.webelement.WebElement (session=\"9b2a52fda9e4a4e561231692d2ba6b74\", element=\"685e66dd-b054-449c-924d-b0f39033d761\")>,\n",
       " <selenium.webdriver.remote.webelement.WebElement (session=\"9b2a52fda9e4a4e561231692d2ba6b74\", element=\"3aac7e00-10d6-45e4-8817-35d5d06ad6ea\")>,\n",
       " <selenium.webdriver.remote.webelement.WebElement (session=\"9b2a52fda9e4a4e561231692d2ba6b74\", element=\"9cc31148-8d8d-44ed-ad76-34181e0644e8\")>,\n",
       " <selenium.webdriver.remote.webelement.WebElement (session=\"9b2a52fda9e4a4e561231692d2ba6b74\", element=\"4e790b61-25a6-4b36-b787-aec6e96e34e7\")>,\n",
       " <selenium.webdriver.remote.webelement.WebElement (session=\"9b2a52fda9e4a4e561231692d2ba6b74\", element=\"943a6cb5-fe8d-4d63-9514-f15613cb5bc2\")>,\n",
       " <selenium.webdriver.remote.webelement.WebElement (session=\"9b2a52fda9e4a4e561231692d2ba6b74\", element=\"c816f47a-cffc-4a9d-bfc4-7898e017235e\")>,\n",
       " <selenium.webdriver.remote.webelement.WebElement (session=\"9b2a52fda9e4a4e561231692d2ba6b74\", element=\"0f2019e7-0475-4a08-bd2b-60582e896868\")>,\n",
       " <selenium.webdriver.remote.webelement.WebElement (session=\"9b2a52fda9e4a4e561231692d2ba6b74\", element=\"a4905e67-6fb8-4f74-af4c-20357336d65a\")>,\n",
       " <selenium.webdriver.remote.webelement.WebElement (session=\"9b2a52fda9e4a4e561231692d2ba6b74\", element=\"9ce738fa-d064-4aa8-a7e1-016e55caf2c6\")>,\n",
       " <selenium.webdriver.remote.webelement.WebElement (session=\"9b2a52fda9e4a4e561231692d2ba6b74\", element=\"a25f2a83-06bc-46d6-b66b-000173f05a98\")>,\n",
       " <selenium.webdriver.remote.webelement.WebElement (session=\"9b2a52fda9e4a4e561231692d2ba6b74\", element=\"29a92858-e88c-4cb7-9766-4fbcfa65821b\")>,\n",
       " <selenium.webdriver.remote.webelement.WebElement (session=\"9b2a52fda9e4a4e561231692d2ba6b74\", element=\"ee8105a3-3d1c-4a8d-84f0-0a8bedf60ffa\")>,\n",
       " <selenium.webdriver.remote.webelement.WebElement (session=\"9b2a52fda9e4a4e561231692d2ba6b74\", element=\"c3d16474-ae5c-4407-b809-0d6c3dcf550c\")>,\n",
       " <selenium.webdriver.remote.webelement.WebElement (session=\"9b2a52fda9e4a4e561231692d2ba6b74\", element=\"6030f4b9-6e2f-4145-bffe-b06217b129b7\")>,\n",
       " <selenium.webdriver.remote.webelement.WebElement (session=\"9b2a52fda9e4a4e561231692d2ba6b74\", element=\"fe24a41d-62dc-4f1e-8c73-7e55b22989e3\")>,\n",
       " <selenium.webdriver.remote.webelement.WebElement (session=\"9b2a52fda9e4a4e561231692d2ba6b74\", element=\"f8392884-21d4-4b13-b280-c9d49adeae89\")>,\n",
       " <selenium.webdriver.remote.webelement.WebElement (session=\"9b2a52fda9e4a4e561231692d2ba6b74\", element=\"3af6515c-0635-4133-8940-c2a623173222\")>,\n",
       " <selenium.webdriver.remote.webelement.WebElement (session=\"9b2a52fda9e4a4e561231692d2ba6b74\", element=\"67b5f427-e626-41da-8a88-c5aaa63c75bc\")>,\n",
       " <selenium.webdriver.remote.webelement.WebElement (session=\"9b2a52fda9e4a4e561231692d2ba6b74\", element=\"abe7ec01-17c8-49db-a80c-bb29dea740b8\")>,\n",
       " <selenium.webdriver.remote.webelement.WebElement (session=\"9b2a52fda9e4a4e561231692d2ba6b74\", element=\"d32ae2bb-00b4-409f-8387-b204ed15065a\")>,\n",
       " <selenium.webdriver.remote.webelement.WebElement (session=\"9b2a52fda9e4a4e561231692d2ba6b74\", element=\"b85fe1ff-b05f-44ce-85f7-0cf69f83eacf\")>,\n",
       " <selenium.webdriver.remote.webelement.WebElement (session=\"9b2a52fda9e4a4e561231692d2ba6b74\", element=\"d83466f0-963b-4150-93a4-a8cba0fc5636\")>,\n",
       " <selenium.webdriver.remote.webelement.WebElement (session=\"9b2a52fda9e4a4e561231692d2ba6b74\", element=\"87481bd2-f3f1-42a8-87be-ed3ef128b0e1\")>,\n",
       " <selenium.webdriver.remote.webelement.WebElement (session=\"9b2a52fda9e4a4e561231692d2ba6b74\", element=\"990c5cf4-ec90-4cca-86ed-16e7b161aecb\")>,\n",
       " <selenium.webdriver.remote.webelement.WebElement (session=\"9b2a52fda9e4a4e561231692d2ba6b74\", element=\"d618a56a-f2b1-42d1-a858-3f887d403c05\")>,\n",
       " <selenium.webdriver.remote.webelement.WebElement (session=\"9b2a52fda9e4a4e561231692d2ba6b74\", element=\"5095ec58-cc27-4b4e-9195-9e866a755359\")>,\n",
       " <selenium.webdriver.remote.webelement.WebElement (session=\"9b2a52fda9e4a4e561231692d2ba6b74\", element=\"4520f9d4-18a3-4da7-a2b9-d36cea9589fe\")>,\n",
       " <selenium.webdriver.remote.webelement.WebElement (session=\"9b2a52fda9e4a4e561231692d2ba6b74\", element=\"aeedf559-2989-4415-a052-30367d458503\")>,\n",
       " <selenium.webdriver.remote.webelement.WebElement (session=\"9b2a52fda9e4a4e561231692d2ba6b74\", element=\"7cf48a23-1c53-4cbf-81fe-4c4580365e1a\")>,\n",
       " <selenium.webdriver.remote.webelement.WebElement (session=\"9b2a52fda9e4a4e561231692d2ba6b74\", element=\"8faef27b-ffd2-4298-9bc9-99f4609643c4\")>,\n",
       " <selenium.webdriver.remote.webelement.WebElement (session=\"9b2a52fda9e4a4e561231692d2ba6b74\", element=\"5da28a6d-599c-4ead-a33c-935c7209b17a\")>,\n",
       " <selenium.webdriver.remote.webelement.WebElement (session=\"9b2a52fda9e4a4e561231692d2ba6b74\", element=\"1f1f2ac2-2af2-427e-a5a0-db89a3790637\")>,\n",
       " <selenium.webdriver.remote.webelement.WebElement (session=\"9b2a52fda9e4a4e561231692d2ba6b74\", element=\"03118a10-3e54-405d-ab82-1ae125ec1b72\")>,\n",
       " <selenium.webdriver.remote.webelement.WebElement (session=\"9b2a52fda9e4a4e561231692d2ba6b74\", element=\"155511f3-a0c2-46a8-b0a5-079dbcc9cd2e\")>,\n",
       " <selenium.webdriver.remote.webelement.WebElement (session=\"9b2a52fda9e4a4e561231692d2ba6b74\", element=\"0725fc78-5a36-4ba2-b032-b103177f840b\")>]"
      ]
     },
     "execution_count": 162,
     "metadata": {},
     "output_type": "execute_result"
    }
   ],
   "source": [
    "image=[]\n",
    "image=driver.find_elements_by_xpath(\"//img[@class='rg_i Q4LuWd']\")\n",
    "image"
   ]
  },
  {
   "cell_type": "code",
   "execution_count": 163,
   "metadata": {},
   "outputs": [],
   "source": [
    "for i in driver.find_elements_by_xpath(\"//a[@class='hide-focus-ring']\"):\n",
    "    image.append(i.get_attribute(\"href\"))\n",
    "   "
   ]
  },
  {
   "cell_type": "code",
   "execution_count": 164,
   "metadata": {},
   "outputs": [
    {
     "data": {
      "text/plain": [
       "[<selenium.webdriver.remote.webelement.WebElement (session=\"9b2a52fda9e4a4e561231692d2ba6b74\", element=\"37fb140d-94bc-46fc-9fef-ce02071c3614\")>,\n",
       " <selenium.webdriver.remote.webelement.WebElement (session=\"9b2a52fda9e4a4e561231692d2ba6b74\", element=\"9858e986-698f-4cbd-8609-629d726aec6c\")>,\n",
       " <selenium.webdriver.remote.webelement.WebElement (session=\"9b2a52fda9e4a4e561231692d2ba6b74\", element=\"3d01c19a-1686-4e41-9280-bdbb275904b8\")>,\n",
       " <selenium.webdriver.remote.webelement.WebElement (session=\"9b2a52fda9e4a4e561231692d2ba6b74\", element=\"f8f6f9ce-24aa-4eac-acf6-4afd5bcddebc\")>,\n",
       " <selenium.webdriver.remote.webelement.WebElement (session=\"9b2a52fda9e4a4e561231692d2ba6b74\", element=\"4ee5a2a7-377a-4612-b483-5b3967c4508d\")>,\n",
       " <selenium.webdriver.remote.webelement.WebElement (session=\"9b2a52fda9e4a4e561231692d2ba6b74\", element=\"aa091d39-d58a-45e2-a13b-162daa26bfaf\")>,\n",
       " <selenium.webdriver.remote.webelement.WebElement (session=\"9b2a52fda9e4a4e561231692d2ba6b74\", element=\"0d0fd6a9-224b-452c-ba92-fd8098a5ce38\")>,\n",
       " <selenium.webdriver.remote.webelement.WebElement (session=\"9b2a52fda9e4a4e561231692d2ba6b74\", element=\"82857a1d-0e49-434c-acf5-87d623e29271\")>,\n",
       " <selenium.webdriver.remote.webelement.WebElement (session=\"9b2a52fda9e4a4e561231692d2ba6b74\", element=\"17685714-ff90-4591-9e69-d66606e5a5c0\")>,\n",
       " <selenium.webdriver.remote.webelement.WebElement (session=\"9b2a52fda9e4a4e561231692d2ba6b74\", element=\"b2e9a317-d386-4edf-ad87-6006f35e5a3c\")>,\n",
       " <selenium.webdriver.remote.webelement.WebElement (session=\"9b2a52fda9e4a4e561231692d2ba6b74\", element=\"0ce3af47-6781-4fa3-90d9-9fe165b5dc43\")>,\n",
       " <selenium.webdriver.remote.webelement.WebElement (session=\"9b2a52fda9e4a4e561231692d2ba6b74\", element=\"6d0c407e-987b-4ea4-a498-b440d1eaa9b0\")>,\n",
       " <selenium.webdriver.remote.webelement.WebElement (session=\"9b2a52fda9e4a4e561231692d2ba6b74\", element=\"ebcb4d22-7199-4a6c-9ffa-ee919f1a7545\")>,\n",
       " <selenium.webdriver.remote.webelement.WebElement (session=\"9b2a52fda9e4a4e561231692d2ba6b74\", element=\"685e66dd-b054-449c-924d-b0f39033d761\")>,\n",
       " <selenium.webdriver.remote.webelement.WebElement (session=\"9b2a52fda9e4a4e561231692d2ba6b74\", element=\"3aac7e00-10d6-45e4-8817-35d5d06ad6ea\")>,\n",
       " <selenium.webdriver.remote.webelement.WebElement (session=\"9b2a52fda9e4a4e561231692d2ba6b74\", element=\"9cc31148-8d8d-44ed-ad76-34181e0644e8\")>,\n",
       " <selenium.webdriver.remote.webelement.WebElement (session=\"9b2a52fda9e4a4e561231692d2ba6b74\", element=\"4e790b61-25a6-4b36-b787-aec6e96e34e7\")>,\n",
       " <selenium.webdriver.remote.webelement.WebElement (session=\"9b2a52fda9e4a4e561231692d2ba6b74\", element=\"943a6cb5-fe8d-4d63-9514-f15613cb5bc2\")>,\n",
       " <selenium.webdriver.remote.webelement.WebElement (session=\"9b2a52fda9e4a4e561231692d2ba6b74\", element=\"c816f47a-cffc-4a9d-bfc4-7898e017235e\")>,\n",
       " <selenium.webdriver.remote.webelement.WebElement (session=\"9b2a52fda9e4a4e561231692d2ba6b74\", element=\"0f2019e7-0475-4a08-bd2b-60582e896868\")>,\n",
       " <selenium.webdriver.remote.webelement.WebElement (session=\"9b2a52fda9e4a4e561231692d2ba6b74\", element=\"a4905e67-6fb8-4f74-af4c-20357336d65a\")>,\n",
       " <selenium.webdriver.remote.webelement.WebElement (session=\"9b2a52fda9e4a4e561231692d2ba6b74\", element=\"9ce738fa-d064-4aa8-a7e1-016e55caf2c6\")>,\n",
       " <selenium.webdriver.remote.webelement.WebElement (session=\"9b2a52fda9e4a4e561231692d2ba6b74\", element=\"a25f2a83-06bc-46d6-b66b-000173f05a98\")>,\n",
       " <selenium.webdriver.remote.webelement.WebElement (session=\"9b2a52fda9e4a4e561231692d2ba6b74\", element=\"29a92858-e88c-4cb7-9766-4fbcfa65821b\")>,\n",
       " <selenium.webdriver.remote.webelement.WebElement (session=\"9b2a52fda9e4a4e561231692d2ba6b74\", element=\"ee8105a3-3d1c-4a8d-84f0-0a8bedf60ffa\")>,\n",
       " <selenium.webdriver.remote.webelement.WebElement (session=\"9b2a52fda9e4a4e561231692d2ba6b74\", element=\"c3d16474-ae5c-4407-b809-0d6c3dcf550c\")>,\n",
       " <selenium.webdriver.remote.webelement.WebElement (session=\"9b2a52fda9e4a4e561231692d2ba6b74\", element=\"6030f4b9-6e2f-4145-bffe-b06217b129b7\")>,\n",
       " <selenium.webdriver.remote.webelement.WebElement (session=\"9b2a52fda9e4a4e561231692d2ba6b74\", element=\"fe24a41d-62dc-4f1e-8c73-7e55b22989e3\")>,\n",
       " <selenium.webdriver.remote.webelement.WebElement (session=\"9b2a52fda9e4a4e561231692d2ba6b74\", element=\"f8392884-21d4-4b13-b280-c9d49adeae89\")>,\n",
       " <selenium.webdriver.remote.webelement.WebElement (session=\"9b2a52fda9e4a4e561231692d2ba6b74\", element=\"3af6515c-0635-4133-8940-c2a623173222\")>,\n",
       " <selenium.webdriver.remote.webelement.WebElement (session=\"9b2a52fda9e4a4e561231692d2ba6b74\", element=\"67b5f427-e626-41da-8a88-c5aaa63c75bc\")>,\n",
       " <selenium.webdriver.remote.webelement.WebElement (session=\"9b2a52fda9e4a4e561231692d2ba6b74\", element=\"abe7ec01-17c8-49db-a80c-bb29dea740b8\")>,\n",
       " <selenium.webdriver.remote.webelement.WebElement (session=\"9b2a52fda9e4a4e561231692d2ba6b74\", element=\"d32ae2bb-00b4-409f-8387-b204ed15065a\")>,\n",
       " <selenium.webdriver.remote.webelement.WebElement (session=\"9b2a52fda9e4a4e561231692d2ba6b74\", element=\"b85fe1ff-b05f-44ce-85f7-0cf69f83eacf\")>,\n",
       " <selenium.webdriver.remote.webelement.WebElement (session=\"9b2a52fda9e4a4e561231692d2ba6b74\", element=\"d83466f0-963b-4150-93a4-a8cba0fc5636\")>,\n",
       " <selenium.webdriver.remote.webelement.WebElement (session=\"9b2a52fda9e4a4e561231692d2ba6b74\", element=\"87481bd2-f3f1-42a8-87be-ed3ef128b0e1\")>,\n",
       " <selenium.webdriver.remote.webelement.WebElement (session=\"9b2a52fda9e4a4e561231692d2ba6b74\", element=\"990c5cf4-ec90-4cca-86ed-16e7b161aecb\")>,\n",
       " <selenium.webdriver.remote.webelement.WebElement (session=\"9b2a52fda9e4a4e561231692d2ba6b74\", element=\"d618a56a-f2b1-42d1-a858-3f887d403c05\")>,\n",
       " <selenium.webdriver.remote.webelement.WebElement (session=\"9b2a52fda9e4a4e561231692d2ba6b74\", element=\"5095ec58-cc27-4b4e-9195-9e866a755359\")>,\n",
       " <selenium.webdriver.remote.webelement.WebElement (session=\"9b2a52fda9e4a4e561231692d2ba6b74\", element=\"4520f9d4-18a3-4da7-a2b9-d36cea9589fe\")>,\n",
       " <selenium.webdriver.remote.webelement.WebElement (session=\"9b2a52fda9e4a4e561231692d2ba6b74\", element=\"aeedf559-2989-4415-a052-30367d458503\")>,\n",
       " <selenium.webdriver.remote.webelement.WebElement (session=\"9b2a52fda9e4a4e561231692d2ba6b74\", element=\"7cf48a23-1c53-4cbf-81fe-4c4580365e1a\")>,\n",
       " <selenium.webdriver.remote.webelement.WebElement (session=\"9b2a52fda9e4a4e561231692d2ba6b74\", element=\"8faef27b-ffd2-4298-9bc9-99f4609643c4\")>,\n",
       " <selenium.webdriver.remote.webelement.WebElement (session=\"9b2a52fda9e4a4e561231692d2ba6b74\", element=\"5da28a6d-599c-4ead-a33c-935c7209b17a\")>,\n",
       " <selenium.webdriver.remote.webelement.WebElement (session=\"9b2a52fda9e4a4e561231692d2ba6b74\", element=\"1f1f2ac2-2af2-427e-a5a0-db89a3790637\")>,\n",
       " <selenium.webdriver.remote.webelement.WebElement (session=\"9b2a52fda9e4a4e561231692d2ba6b74\", element=\"03118a10-3e54-405d-ab82-1ae125ec1b72\")>,\n",
       " <selenium.webdriver.remote.webelement.WebElement (session=\"9b2a52fda9e4a4e561231692d2ba6b74\", element=\"155511f3-a0c2-46a8-b0a5-079dbcc9cd2e\")>,\n",
       " <selenium.webdriver.remote.webelement.WebElement (session=\"9b2a52fda9e4a4e561231692d2ba6b74\", element=\"0725fc78-5a36-4ba2-b032-b103177f840b\")>]"
      ]
     },
     "execution_count": 164,
     "metadata": {},
     "output_type": "execute_result"
    }
   ],
   "source": [
    "image[:100]"
   ]
  },
  {
   "cell_type": "code",
   "execution_count": null,
   "metadata": {},
   "outputs": [],
   "source": []
  },
  {
   "cell_type": "code",
   "execution_count": 181,
   "metadata": {},
   "outputs": [
    {
     "data": {
      "text/plain": [
       "<selenium.webdriver.remote.webelement.WebElement (session=\"9b2a52fda9e4a4e561231692d2ba6b74\", element=\"cc774e73-f8f6-43ef-bdcf-9d4276f9bf17\")>"
      ]
     },
     "execution_count": 181,
     "metadata": {},
     "output_type": "execute_result"
    }
   ],
   "source": [
    "search_google=driver.find_element_by_id(\"REsRA\")\n",
    "search_google\n"
   ]
  },
  {
   "cell_type": "code",
   "execution_count": 182,
   "metadata": {},
   "outputs": [],
   "source": [
    "search_google.clear()"
   ]
  },
  {
   "cell_type": "code",
   "execution_count": 183,
   "metadata": {
    "scrolled": true
   },
   "outputs": [],
   "source": [
    "search_google.send_keys(\"cars\")"
   ]
  },
  {
   "cell_type": "code",
   "execution_count": 188,
   "metadata": {},
   "outputs": [],
   "source": [
    "search_click=driver.find_element_by_xpath(\"//span[@class='n6h3Rc']\")\n",
    "search_click.click()"
   ]
  },
  {
   "cell_type": "code",
   "execution_count": 200,
   "metadata": {},
   "outputs": [
    {
     "data": {
      "text/plain": [
       "[<selenium.webdriver.remote.webelement.WebElement (session=\"9b2a52fda9e4a4e561231692d2ba6b74\", element=\"01b4d347-9081-4dde-88a5-7f664877e5cc\")>,\n",
       " <selenium.webdriver.remote.webelement.WebElement (session=\"9b2a52fda9e4a4e561231692d2ba6b74\", element=\"a9a38916-fcf0-4b19-99a5-ae232ffb5cf6\")>,\n",
       " <selenium.webdriver.remote.webelement.WebElement (session=\"9b2a52fda9e4a4e561231692d2ba6b74\", element=\"be0ac52f-693d-4656-9b0c-cf0a3dd3bfd1\")>,\n",
       " <selenium.webdriver.remote.webelement.WebElement (session=\"9b2a52fda9e4a4e561231692d2ba6b74\", element=\"47633ce8-9164-4820-96ed-71f098256a76\")>,\n",
       " <selenium.webdriver.remote.webelement.WebElement (session=\"9b2a52fda9e4a4e561231692d2ba6b74\", element=\"b8c8c774-8867-4c52-9f63-ac8e224f9b56\")>,\n",
       " <selenium.webdriver.remote.webelement.WebElement (session=\"9b2a52fda9e4a4e561231692d2ba6b74\", element=\"2e25b6ff-d4e6-4076-9344-e5c6bd666f0a\")>,\n",
       " <selenium.webdriver.remote.webelement.WebElement (session=\"9b2a52fda9e4a4e561231692d2ba6b74\", element=\"1bba8cb3-4978-485a-9893-cce886adeae8\")>,\n",
       " <selenium.webdriver.remote.webelement.WebElement (session=\"9b2a52fda9e4a4e561231692d2ba6b74\", element=\"107ac631-e9fa-48de-80d8-ba7b88670eef\")>,\n",
       " <selenium.webdriver.remote.webelement.WebElement (session=\"9b2a52fda9e4a4e561231692d2ba6b74\", element=\"bcc6bea6-126d-4055-9f43-1a82a19ee8ab\")>,\n",
       " <selenium.webdriver.remote.webelement.WebElement (session=\"9b2a52fda9e4a4e561231692d2ba6b74\", element=\"d48b513d-c972-4b87-8164-3fd9e339ea64\")>,\n",
       " <selenium.webdriver.remote.webelement.WebElement (session=\"9b2a52fda9e4a4e561231692d2ba6b74\", element=\"da3a6101-0b94-4065-a57d-da6bf173befa\")>,\n",
       " <selenium.webdriver.remote.webelement.WebElement (session=\"9b2a52fda9e4a4e561231692d2ba6b74\", element=\"30a616f3-23fb-42e9-b9c5-e93b08b86f95\")>,\n",
       " <selenium.webdriver.remote.webelement.WebElement (session=\"9b2a52fda9e4a4e561231692d2ba6b74\", element=\"fdd42f6e-6fb7-48dd-a323-3a0c2c2d0aa6\")>,\n",
       " <selenium.webdriver.remote.webelement.WebElement (session=\"9b2a52fda9e4a4e561231692d2ba6b74\", element=\"b085c114-8e20-4b3d-82d0-3be6a91526f9\")>,\n",
       " <selenium.webdriver.remote.webelement.WebElement (session=\"9b2a52fda9e4a4e561231692d2ba6b74\", element=\"59f24564-5a04-4195-80ad-9a1b51a1c2d5\")>,\n",
       " <selenium.webdriver.remote.webelement.WebElement (session=\"9b2a52fda9e4a4e561231692d2ba6b74\", element=\"57ce5494-8034-47a8-8b38-677756b1d5c8\")>,\n",
       " <selenium.webdriver.remote.webelement.WebElement (session=\"9b2a52fda9e4a4e561231692d2ba6b74\", element=\"da1c9b9c-e132-466b-9a5d-7d4d17945f85\")>,\n",
       " <selenium.webdriver.remote.webelement.WebElement (session=\"9b2a52fda9e4a4e561231692d2ba6b74\", element=\"ed18fde9-97f0-4293-ae8e-854f83ed40ca\")>,\n",
       " <selenium.webdriver.remote.webelement.WebElement (session=\"9b2a52fda9e4a4e561231692d2ba6b74\", element=\"8d7c76ed-918b-4897-9aca-595696e87341\")>,\n",
       " <selenium.webdriver.remote.webelement.WebElement (session=\"9b2a52fda9e4a4e561231692d2ba6b74\", element=\"6d0a7401-60e5-432c-a038-9d37c61e469e\")>,\n",
       " <selenium.webdriver.remote.webelement.WebElement (session=\"9b2a52fda9e4a4e561231692d2ba6b74\", element=\"fd78bebe-7564-4c23-b151-f8bca91e31a3\")>,\n",
       " <selenium.webdriver.remote.webelement.WebElement (session=\"9b2a52fda9e4a4e561231692d2ba6b74\", element=\"20f480b9-edda-4f33-b763-27756fa2da97\")>,\n",
       " <selenium.webdriver.remote.webelement.WebElement (session=\"9b2a52fda9e4a4e561231692d2ba6b74\", element=\"64216c24-3af2-4dee-8f87-b21e40a878d7\")>,\n",
       " <selenium.webdriver.remote.webelement.WebElement (session=\"9b2a52fda9e4a4e561231692d2ba6b74\", element=\"9c87271e-f500-4a4a-8d6d-e49fafa0433c\")>,\n",
       " <selenium.webdriver.remote.webelement.WebElement (session=\"9b2a52fda9e4a4e561231692d2ba6b74\", element=\"7ebea052-85b3-4267-9090-9274df3d9643\")>,\n",
       " <selenium.webdriver.remote.webelement.WebElement (session=\"9b2a52fda9e4a4e561231692d2ba6b74\", element=\"6a7296b5-6b9d-4cc1-83e6-07d5f05a07e7\")>,\n",
       " <selenium.webdriver.remote.webelement.WebElement (session=\"9b2a52fda9e4a4e561231692d2ba6b74\", element=\"23525449-8e82-4207-9b05-b3f896a1c0a1\")>,\n",
       " <selenium.webdriver.remote.webelement.WebElement (session=\"9b2a52fda9e4a4e561231692d2ba6b74\", element=\"4a2954ed-0892-4c73-9da7-3410830348af\")>,\n",
       " <selenium.webdriver.remote.webelement.WebElement (session=\"9b2a52fda9e4a4e561231692d2ba6b74\", element=\"bda09cc3-ce20-4ce3-a6c4-ea4cd4fb8954\")>,\n",
       " <selenium.webdriver.remote.webelement.WebElement (session=\"9b2a52fda9e4a4e561231692d2ba6b74\", element=\"0747d52e-3903-402e-8266-c86baea9852e\")>,\n",
       " <selenium.webdriver.remote.webelement.WebElement (session=\"9b2a52fda9e4a4e561231692d2ba6b74\", element=\"75e76bfd-1bae-4409-9523-4de9ee114805\")>,\n",
       " <selenium.webdriver.remote.webelement.WebElement (session=\"9b2a52fda9e4a4e561231692d2ba6b74\", element=\"a41fbf3b-6725-4ecd-800b-18be3468b401\")>,\n",
       " <selenium.webdriver.remote.webelement.WebElement (session=\"9b2a52fda9e4a4e561231692d2ba6b74\", element=\"676fe1f8-9f4c-4243-bfa6-518271917829\")>,\n",
       " <selenium.webdriver.remote.webelement.WebElement (session=\"9b2a52fda9e4a4e561231692d2ba6b74\", element=\"92bf8016-99cf-4742-82b1-b1554a69f665\")>,\n",
       " <selenium.webdriver.remote.webelement.WebElement (session=\"9b2a52fda9e4a4e561231692d2ba6b74\", element=\"2c7c4528-3f1e-4df0-9f4b-675bf4b116c6\")>,\n",
       " <selenium.webdriver.remote.webelement.WebElement (session=\"9b2a52fda9e4a4e561231692d2ba6b74\", element=\"70b296ed-aab2-46a4-9153-554ea9292bbe\")>,\n",
       " <selenium.webdriver.remote.webelement.WebElement (session=\"9b2a52fda9e4a4e561231692d2ba6b74\", element=\"97163ec7-5da4-4f7d-aa67-271f689f9d82\")>,\n",
       " <selenium.webdriver.remote.webelement.WebElement (session=\"9b2a52fda9e4a4e561231692d2ba6b74\", element=\"4905bee1-2fc0-4516-b07f-c6f6c6caf8d0\")>,\n",
       " <selenium.webdriver.remote.webelement.WebElement (session=\"9b2a52fda9e4a4e561231692d2ba6b74\", element=\"0f26c5ba-9488-4c39-8ffd-ee22ebe537d5\")>,\n",
       " <selenium.webdriver.remote.webelement.WebElement (session=\"9b2a52fda9e4a4e561231692d2ba6b74\", element=\"7621c0af-2d41-4bdc-810e-60dfbefd4865\")>,\n",
       " <selenium.webdriver.remote.webelement.WebElement (session=\"9b2a52fda9e4a4e561231692d2ba6b74\", element=\"75d21be6-2957-40ef-a5cf-d11d32ef2138\")>,\n",
       " <selenium.webdriver.remote.webelement.WebElement (session=\"9b2a52fda9e4a4e561231692d2ba6b74\", element=\"c8278b4e-37a3-436c-ba43-905ed091f504\")>,\n",
       " <selenium.webdriver.remote.webelement.WebElement (session=\"9b2a52fda9e4a4e561231692d2ba6b74\", element=\"6318ec7d-d664-4387-8c67-0731b15388c1\")>,\n",
       " <selenium.webdriver.remote.webelement.WebElement (session=\"9b2a52fda9e4a4e561231692d2ba6b74\", element=\"d23753df-94ed-4c92-8884-c01ecfed226f\")>,\n",
       " <selenium.webdriver.remote.webelement.WebElement (session=\"9b2a52fda9e4a4e561231692d2ba6b74\", element=\"86898b2d-48ff-428a-b6d6-e1a6109f5f42\")>,\n",
       " <selenium.webdriver.remote.webelement.WebElement (session=\"9b2a52fda9e4a4e561231692d2ba6b74\", element=\"40fa5967-3744-47cd-a868-df4ac4dfccb1\")>,\n",
       " <selenium.webdriver.remote.webelement.WebElement (session=\"9b2a52fda9e4a4e561231692d2ba6b74\", element=\"49842300-8d73-47f8-90f5-be2e313ad9d8\")>,\n",
       " <selenium.webdriver.remote.webelement.WebElement (session=\"9b2a52fda9e4a4e561231692d2ba6b74\", element=\"ad085a42-0e7a-4365-92cb-ef11883cf6d7\")>]"
      ]
     },
     "execution_count": 200,
     "metadata": {},
     "output_type": "execute_result"
    }
   ],
   "source": [
    "image_car=[]\n",
    "image_car=driver.find_elements_by_xpath(\"//img[@class='rg_i Q4LuWd']\")\n",
    "image_car"
   ]
  },
  {
   "cell_type": "code",
   "execution_count": 201,
   "metadata": {},
   "outputs": [
    {
     "data": {
      "text/plain": [
       "[<selenium.webdriver.remote.webelement.WebElement (session=\"9b2a52fda9e4a4e561231692d2ba6b74\", element=\"01b4d347-9081-4dde-88a5-7f664877e5cc\")>,\n",
       " <selenium.webdriver.remote.webelement.WebElement (session=\"9b2a52fda9e4a4e561231692d2ba6b74\", element=\"a9a38916-fcf0-4b19-99a5-ae232ffb5cf6\")>,\n",
       " <selenium.webdriver.remote.webelement.WebElement (session=\"9b2a52fda9e4a4e561231692d2ba6b74\", element=\"be0ac52f-693d-4656-9b0c-cf0a3dd3bfd1\")>,\n",
       " <selenium.webdriver.remote.webelement.WebElement (session=\"9b2a52fda9e4a4e561231692d2ba6b74\", element=\"47633ce8-9164-4820-96ed-71f098256a76\")>,\n",
       " <selenium.webdriver.remote.webelement.WebElement (session=\"9b2a52fda9e4a4e561231692d2ba6b74\", element=\"b8c8c774-8867-4c52-9f63-ac8e224f9b56\")>,\n",
       " <selenium.webdriver.remote.webelement.WebElement (session=\"9b2a52fda9e4a4e561231692d2ba6b74\", element=\"2e25b6ff-d4e6-4076-9344-e5c6bd666f0a\")>,\n",
       " <selenium.webdriver.remote.webelement.WebElement (session=\"9b2a52fda9e4a4e561231692d2ba6b74\", element=\"1bba8cb3-4978-485a-9893-cce886adeae8\")>,\n",
       " <selenium.webdriver.remote.webelement.WebElement (session=\"9b2a52fda9e4a4e561231692d2ba6b74\", element=\"107ac631-e9fa-48de-80d8-ba7b88670eef\")>,\n",
       " <selenium.webdriver.remote.webelement.WebElement (session=\"9b2a52fda9e4a4e561231692d2ba6b74\", element=\"bcc6bea6-126d-4055-9f43-1a82a19ee8ab\")>,\n",
       " <selenium.webdriver.remote.webelement.WebElement (session=\"9b2a52fda9e4a4e561231692d2ba6b74\", element=\"d48b513d-c972-4b87-8164-3fd9e339ea64\")>,\n",
       " <selenium.webdriver.remote.webelement.WebElement (session=\"9b2a52fda9e4a4e561231692d2ba6b74\", element=\"da3a6101-0b94-4065-a57d-da6bf173befa\")>,\n",
       " <selenium.webdriver.remote.webelement.WebElement (session=\"9b2a52fda9e4a4e561231692d2ba6b74\", element=\"30a616f3-23fb-42e9-b9c5-e93b08b86f95\")>,\n",
       " <selenium.webdriver.remote.webelement.WebElement (session=\"9b2a52fda9e4a4e561231692d2ba6b74\", element=\"fdd42f6e-6fb7-48dd-a323-3a0c2c2d0aa6\")>,\n",
       " <selenium.webdriver.remote.webelement.WebElement (session=\"9b2a52fda9e4a4e561231692d2ba6b74\", element=\"b085c114-8e20-4b3d-82d0-3be6a91526f9\")>,\n",
       " <selenium.webdriver.remote.webelement.WebElement (session=\"9b2a52fda9e4a4e561231692d2ba6b74\", element=\"59f24564-5a04-4195-80ad-9a1b51a1c2d5\")>,\n",
       " <selenium.webdriver.remote.webelement.WebElement (session=\"9b2a52fda9e4a4e561231692d2ba6b74\", element=\"57ce5494-8034-47a8-8b38-677756b1d5c8\")>,\n",
       " <selenium.webdriver.remote.webelement.WebElement (session=\"9b2a52fda9e4a4e561231692d2ba6b74\", element=\"da1c9b9c-e132-466b-9a5d-7d4d17945f85\")>,\n",
       " <selenium.webdriver.remote.webelement.WebElement (session=\"9b2a52fda9e4a4e561231692d2ba6b74\", element=\"ed18fde9-97f0-4293-ae8e-854f83ed40ca\")>,\n",
       " <selenium.webdriver.remote.webelement.WebElement (session=\"9b2a52fda9e4a4e561231692d2ba6b74\", element=\"8d7c76ed-918b-4897-9aca-595696e87341\")>,\n",
       " <selenium.webdriver.remote.webelement.WebElement (session=\"9b2a52fda9e4a4e561231692d2ba6b74\", element=\"6d0a7401-60e5-432c-a038-9d37c61e469e\")>,\n",
       " <selenium.webdriver.remote.webelement.WebElement (session=\"9b2a52fda9e4a4e561231692d2ba6b74\", element=\"fd78bebe-7564-4c23-b151-f8bca91e31a3\")>,\n",
       " <selenium.webdriver.remote.webelement.WebElement (session=\"9b2a52fda9e4a4e561231692d2ba6b74\", element=\"20f480b9-edda-4f33-b763-27756fa2da97\")>,\n",
       " <selenium.webdriver.remote.webelement.WebElement (session=\"9b2a52fda9e4a4e561231692d2ba6b74\", element=\"64216c24-3af2-4dee-8f87-b21e40a878d7\")>,\n",
       " <selenium.webdriver.remote.webelement.WebElement (session=\"9b2a52fda9e4a4e561231692d2ba6b74\", element=\"9c87271e-f500-4a4a-8d6d-e49fafa0433c\")>,\n",
       " <selenium.webdriver.remote.webelement.WebElement (session=\"9b2a52fda9e4a4e561231692d2ba6b74\", element=\"7ebea052-85b3-4267-9090-9274df3d9643\")>,\n",
       " <selenium.webdriver.remote.webelement.WebElement (session=\"9b2a52fda9e4a4e561231692d2ba6b74\", element=\"6a7296b5-6b9d-4cc1-83e6-07d5f05a07e7\")>,\n",
       " <selenium.webdriver.remote.webelement.WebElement (session=\"9b2a52fda9e4a4e561231692d2ba6b74\", element=\"23525449-8e82-4207-9b05-b3f896a1c0a1\")>,\n",
       " <selenium.webdriver.remote.webelement.WebElement (session=\"9b2a52fda9e4a4e561231692d2ba6b74\", element=\"4a2954ed-0892-4c73-9da7-3410830348af\")>,\n",
       " <selenium.webdriver.remote.webelement.WebElement (session=\"9b2a52fda9e4a4e561231692d2ba6b74\", element=\"bda09cc3-ce20-4ce3-a6c4-ea4cd4fb8954\")>,\n",
       " <selenium.webdriver.remote.webelement.WebElement (session=\"9b2a52fda9e4a4e561231692d2ba6b74\", element=\"0747d52e-3903-402e-8266-c86baea9852e\")>,\n",
       " <selenium.webdriver.remote.webelement.WebElement (session=\"9b2a52fda9e4a4e561231692d2ba6b74\", element=\"75e76bfd-1bae-4409-9523-4de9ee114805\")>,\n",
       " <selenium.webdriver.remote.webelement.WebElement (session=\"9b2a52fda9e4a4e561231692d2ba6b74\", element=\"a41fbf3b-6725-4ecd-800b-18be3468b401\")>,\n",
       " <selenium.webdriver.remote.webelement.WebElement (session=\"9b2a52fda9e4a4e561231692d2ba6b74\", element=\"676fe1f8-9f4c-4243-bfa6-518271917829\")>,\n",
       " <selenium.webdriver.remote.webelement.WebElement (session=\"9b2a52fda9e4a4e561231692d2ba6b74\", element=\"92bf8016-99cf-4742-82b1-b1554a69f665\")>,\n",
       " <selenium.webdriver.remote.webelement.WebElement (session=\"9b2a52fda9e4a4e561231692d2ba6b74\", element=\"2c7c4528-3f1e-4df0-9f4b-675bf4b116c6\")>,\n",
       " <selenium.webdriver.remote.webelement.WebElement (session=\"9b2a52fda9e4a4e561231692d2ba6b74\", element=\"70b296ed-aab2-46a4-9153-554ea9292bbe\")>,\n",
       " <selenium.webdriver.remote.webelement.WebElement (session=\"9b2a52fda9e4a4e561231692d2ba6b74\", element=\"97163ec7-5da4-4f7d-aa67-271f689f9d82\")>,\n",
       " <selenium.webdriver.remote.webelement.WebElement (session=\"9b2a52fda9e4a4e561231692d2ba6b74\", element=\"4905bee1-2fc0-4516-b07f-c6f6c6caf8d0\")>,\n",
       " <selenium.webdriver.remote.webelement.WebElement (session=\"9b2a52fda9e4a4e561231692d2ba6b74\", element=\"0f26c5ba-9488-4c39-8ffd-ee22ebe537d5\")>,\n",
       " <selenium.webdriver.remote.webelement.WebElement (session=\"9b2a52fda9e4a4e561231692d2ba6b74\", element=\"7621c0af-2d41-4bdc-810e-60dfbefd4865\")>,\n",
       " <selenium.webdriver.remote.webelement.WebElement (session=\"9b2a52fda9e4a4e561231692d2ba6b74\", element=\"75d21be6-2957-40ef-a5cf-d11d32ef2138\")>,\n",
       " <selenium.webdriver.remote.webelement.WebElement (session=\"9b2a52fda9e4a4e561231692d2ba6b74\", element=\"c8278b4e-37a3-436c-ba43-905ed091f504\")>,\n",
       " <selenium.webdriver.remote.webelement.WebElement (session=\"9b2a52fda9e4a4e561231692d2ba6b74\", element=\"6318ec7d-d664-4387-8c67-0731b15388c1\")>,\n",
       " <selenium.webdriver.remote.webelement.WebElement (session=\"9b2a52fda9e4a4e561231692d2ba6b74\", element=\"d23753df-94ed-4c92-8884-c01ecfed226f\")>,\n",
       " <selenium.webdriver.remote.webelement.WebElement (session=\"9b2a52fda9e4a4e561231692d2ba6b74\", element=\"86898b2d-48ff-428a-b6d6-e1a6109f5f42\")>,\n",
       " <selenium.webdriver.remote.webelement.WebElement (session=\"9b2a52fda9e4a4e561231692d2ba6b74\", element=\"40fa5967-3744-47cd-a868-df4ac4dfccb1\")>,\n",
       " <selenium.webdriver.remote.webelement.WebElement (session=\"9b2a52fda9e4a4e561231692d2ba6b74\", element=\"49842300-8d73-47f8-90f5-be2e313ad9d8\")>,\n",
       " <selenium.webdriver.remote.webelement.WebElement (session=\"9b2a52fda9e4a4e561231692d2ba6b74\", element=\"ad085a42-0e7a-4365-92cb-ef11883cf6d7\")>]"
      ]
     },
     "execution_count": 201,
     "metadata": {},
     "output_type": "execute_result"
    }
   ],
   "source": [
    "image_car[:100]"
   ]
  },
  {
   "cell_type": "code",
   "execution_count": 192,
   "metadata": {},
   "outputs": [],
   "source": [
    "search_google=driver.find_element_by_id(\"REsRA\")\n",
    "search_google.clear()\n",
    "search_google.send_keys('Machine Learning')"
   ]
  },
  {
   "cell_type": "code",
   "execution_count": 203,
   "metadata": {},
   "outputs": [],
   "source": [
    "search_click=driver.find_element_by_xpath(\"//span[@class='n6h3Rc']\")\n",
    "search_click.click()"
   ]
  },
  {
   "cell_type": "code",
   "execution_count": 205,
   "metadata": {},
   "outputs": [
    {
     "data": {
      "text/plain": [
       "[<selenium.webdriver.remote.webelement.WebElement (session=\"9b2a52fda9e4a4e561231692d2ba6b74\", element=\"db9ad415-83b2-48fe-8e9e-750b1af6de79\")>,\n",
       " <selenium.webdriver.remote.webelement.WebElement (session=\"9b2a52fda9e4a4e561231692d2ba6b74\", element=\"939a282e-bc5c-4720-8964-959fb5a55372\")>,\n",
       " <selenium.webdriver.remote.webelement.WebElement (session=\"9b2a52fda9e4a4e561231692d2ba6b74\", element=\"88991501-83d6-4b9c-9e8e-443bd0a12dde\")>,\n",
       " <selenium.webdriver.remote.webelement.WebElement (session=\"9b2a52fda9e4a4e561231692d2ba6b74\", element=\"f8eb2f19-3136-4a60-b97a-e6fba56c0989\")>,\n",
       " <selenium.webdriver.remote.webelement.WebElement (session=\"9b2a52fda9e4a4e561231692d2ba6b74\", element=\"a6c65d1c-117f-44d0-8b16-51b775beaadb\")>,\n",
       " <selenium.webdriver.remote.webelement.WebElement (session=\"9b2a52fda9e4a4e561231692d2ba6b74\", element=\"fdb251b2-0481-4dbd-b009-b694037c0989\")>,\n",
       " <selenium.webdriver.remote.webelement.WebElement (session=\"9b2a52fda9e4a4e561231692d2ba6b74\", element=\"ddd104d9-70bd-47ad-8bf9-df063fe7a694\")>,\n",
       " <selenium.webdriver.remote.webelement.WebElement (session=\"9b2a52fda9e4a4e561231692d2ba6b74\", element=\"5ec1775d-26ed-41d0-af90-7013b184e893\")>,\n",
       " <selenium.webdriver.remote.webelement.WebElement (session=\"9b2a52fda9e4a4e561231692d2ba6b74\", element=\"748228aa-e86c-42c5-b972-3632dcdc0fec\")>,\n",
       " <selenium.webdriver.remote.webelement.WebElement (session=\"9b2a52fda9e4a4e561231692d2ba6b74\", element=\"a5244f0c-0b78-43db-9214-3c2471aaea43\")>,\n",
       " <selenium.webdriver.remote.webelement.WebElement (session=\"9b2a52fda9e4a4e561231692d2ba6b74\", element=\"04d9ce7e-6958-442c-a059-73ae20bc4e84\")>,\n",
       " <selenium.webdriver.remote.webelement.WebElement (session=\"9b2a52fda9e4a4e561231692d2ba6b74\", element=\"c564b33c-3cb8-4616-839c-3a89c8a7929f\")>,\n",
       " <selenium.webdriver.remote.webelement.WebElement (session=\"9b2a52fda9e4a4e561231692d2ba6b74\", element=\"2512597b-4e0d-4278-811e-701bd7328e05\")>,\n",
       " <selenium.webdriver.remote.webelement.WebElement (session=\"9b2a52fda9e4a4e561231692d2ba6b74\", element=\"2228af2f-6c09-4cac-ab79-68ec50675637\")>,\n",
       " <selenium.webdriver.remote.webelement.WebElement (session=\"9b2a52fda9e4a4e561231692d2ba6b74\", element=\"7bab38e8-9a4f-4c5a-8742-b1a12dbf0868\")>,\n",
       " <selenium.webdriver.remote.webelement.WebElement (session=\"9b2a52fda9e4a4e561231692d2ba6b74\", element=\"3050d1c4-fa34-40ff-9f4e-e99f4cdcc944\")>,\n",
       " <selenium.webdriver.remote.webelement.WebElement (session=\"9b2a52fda9e4a4e561231692d2ba6b74\", element=\"dbbfd1a1-8e5a-451d-b836-7d50267175e0\")>,\n",
       " <selenium.webdriver.remote.webelement.WebElement (session=\"9b2a52fda9e4a4e561231692d2ba6b74\", element=\"0b116709-3bc7-410f-ae21-f7a211c6ae81\")>,\n",
       " <selenium.webdriver.remote.webelement.WebElement (session=\"9b2a52fda9e4a4e561231692d2ba6b74\", element=\"88dfb6fc-5c92-47e2-87f9-98dd99d8559c\")>,\n",
       " <selenium.webdriver.remote.webelement.WebElement (session=\"9b2a52fda9e4a4e561231692d2ba6b74\", element=\"057cab56-58d7-4cb4-a726-5a3978603a8a\")>,\n",
       " <selenium.webdriver.remote.webelement.WebElement (session=\"9b2a52fda9e4a4e561231692d2ba6b74\", element=\"68c2e0b2-f830-47b7-92fe-e387b3a62f31\")>,\n",
       " <selenium.webdriver.remote.webelement.WebElement (session=\"9b2a52fda9e4a4e561231692d2ba6b74\", element=\"51793476-c69c-4ec0-b43a-f6ca42218e00\")>,\n",
       " <selenium.webdriver.remote.webelement.WebElement (session=\"9b2a52fda9e4a4e561231692d2ba6b74\", element=\"6f19abb7-4dc2-4bef-8848-4774ba30477f\")>,\n",
       " <selenium.webdriver.remote.webelement.WebElement (session=\"9b2a52fda9e4a4e561231692d2ba6b74\", element=\"4c5160fa-70eb-4c3a-b325-280af70244af\")>,\n",
       " <selenium.webdriver.remote.webelement.WebElement (session=\"9b2a52fda9e4a4e561231692d2ba6b74\", element=\"28dd851e-1d7d-4d23-ac05-190acb899294\")>,\n",
       " <selenium.webdriver.remote.webelement.WebElement (session=\"9b2a52fda9e4a4e561231692d2ba6b74\", element=\"c55f4022-1881-4561-bcc6-1fe1984cdc2b\")>,\n",
       " <selenium.webdriver.remote.webelement.WebElement (session=\"9b2a52fda9e4a4e561231692d2ba6b74\", element=\"77da279c-64d4-4dbd-8f5d-93fbfb2d8d3e\")>,\n",
       " <selenium.webdriver.remote.webelement.WebElement (session=\"9b2a52fda9e4a4e561231692d2ba6b74\", element=\"416b5ba9-aa19-4868-a4bb-68b2528d0d50\")>,\n",
       " <selenium.webdriver.remote.webelement.WebElement (session=\"9b2a52fda9e4a4e561231692d2ba6b74\", element=\"3f5e5501-dc7c-436a-871c-ee069dcce553\")>,\n",
       " <selenium.webdriver.remote.webelement.WebElement (session=\"9b2a52fda9e4a4e561231692d2ba6b74\", element=\"7bc226aa-70b7-4bf9-af5f-205fb00094df\")>,\n",
       " <selenium.webdriver.remote.webelement.WebElement (session=\"9b2a52fda9e4a4e561231692d2ba6b74\", element=\"56d73b3c-fbe8-4a4a-ba51-79dca9381128\")>,\n",
       " <selenium.webdriver.remote.webelement.WebElement (session=\"9b2a52fda9e4a4e561231692d2ba6b74\", element=\"ff4eefd3-9da4-4b06-9a39-b1092bfa570c\")>,\n",
       " <selenium.webdriver.remote.webelement.WebElement (session=\"9b2a52fda9e4a4e561231692d2ba6b74\", element=\"2d43dfbf-f7ba-43c6-94b6-11bf394115af\")>,\n",
       " <selenium.webdriver.remote.webelement.WebElement (session=\"9b2a52fda9e4a4e561231692d2ba6b74\", element=\"43e7d05f-e199-4922-93e6-bcff2a553cf0\")>,\n",
       " <selenium.webdriver.remote.webelement.WebElement (session=\"9b2a52fda9e4a4e561231692d2ba6b74\", element=\"6366d6a7-72ff-4511-9055-bb9b4b86a1d8\")>,\n",
       " <selenium.webdriver.remote.webelement.WebElement (session=\"9b2a52fda9e4a4e561231692d2ba6b74\", element=\"0f300cad-deb4-44bc-b9ef-3bcbf36cd847\")>,\n",
       " <selenium.webdriver.remote.webelement.WebElement (session=\"9b2a52fda9e4a4e561231692d2ba6b74\", element=\"f29ff405-d627-4841-9800-7b3cbab1e6b0\")>,\n",
       " <selenium.webdriver.remote.webelement.WebElement (session=\"9b2a52fda9e4a4e561231692d2ba6b74\", element=\"bb0e9d62-728e-4f72-a12c-d94d802fb4a0\")>,\n",
       " <selenium.webdriver.remote.webelement.WebElement (session=\"9b2a52fda9e4a4e561231692d2ba6b74\", element=\"b95cd74e-72e7-4dba-804a-d869677843f7\")>,\n",
       " <selenium.webdriver.remote.webelement.WebElement (session=\"9b2a52fda9e4a4e561231692d2ba6b74\", element=\"23130e09-e553-4845-83bf-2b9194d35632\")>,\n",
       " <selenium.webdriver.remote.webelement.WebElement (session=\"9b2a52fda9e4a4e561231692d2ba6b74\", element=\"63ce5663-ffa5-482f-8169-5b264d4ea8f1\")>,\n",
       " <selenium.webdriver.remote.webelement.WebElement (session=\"9b2a52fda9e4a4e561231692d2ba6b74\", element=\"8ace6fdd-7c83-4de6-8c95-be4ac03516a0\")>,\n",
       " <selenium.webdriver.remote.webelement.WebElement (session=\"9b2a52fda9e4a4e561231692d2ba6b74\", element=\"1cdc5e5e-5503-4132-9daf-eeffb87aa7ad\")>,\n",
       " <selenium.webdriver.remote.webelement.WebElement (session=\"9b2a52fda9e4a4e561231692d2ba6b74\", element=\"8a8222f5-de6b-4efd-8164-a1e5f11a69d5\")>,\n",
       " <selenium.webdriver.remote.webelement.WebElement (session=\"9b2a52fda9e4a4e561231692d2ba6b74\", element=\"019b4bf9-4bf5-4934-909a-b216606e5200\")>,\n",
       " <selenium.webdriver.remote.webelement.WebElement (session=\"9b2a52fda9e4a4e561231692d2ba6b74\", element=\"7c996582-ad13-4fba-ae00-7a6aba761dc9\")>,\n",
       " <selenium.webdriver.remote.webelement.WebElement (session=\"9b2a52fda9e4a4e561231692d2ba6b74\", element=\"f1d8677d-4527-4041-b7f4-d01442a53e57\")>,\n",
       " <selenium.webdriver.remote.webelement.WebElement (session=\"9b2a52fda9e4a4e561231692d2ba6b74\", element=\"27d0bc77-b03c-4136-8937-0ed502853ba8\")>]"
      ]
     },
     "execution_count": 205,
     "metadata": {},
     "output_type": "execute_result"
    }
   ],
   "source": [
    "image_ML=[]\n",
    "image_ML=driver.find_elements_by_xpath(\"//div[@class='bRMDJf islir']\")\n",
    "image_ML[:100]"
   ]
  },
  {
   "cell_type": "code",
   "execution_count": null,
   "metadata": {},
   "outputs": [],
   "source": []
  },
  {
   "cell_type": "markdown",
   "metadata": {},
   "source": [
    "# Question 4"
   ]
  },
  {
   "cell_type": "code",
   "execution_count": 206,
   "metadata": {},
   "outputs": [],
   "source": [
    "driver= webdriver.Chrome(\"C:/Users/Techitfirst/Desktop/Abhinay/chromedriver.exe\")"
   ]
  },
  {
   "cell_type": "code",
   "execution_count": 207,
   "metadata": {},
   "outputs": [],
   "source": [
    "url='http://www.flipkart.com/'\n",
    "driver.get(url)"
   ]
  },
  {
   "cell_type": "code",
   "execution_count": 209,
   "metadata": {},
   "outputs": [],
   "source": [
    "time.sleep(5)"
   ]
  },
  {
   "cell_type": "code",
   "execution_count": 210,
   "metadata": {},
   "outputs": [],
   "source": [
    "pop_up = driver.find_element_by_xpath(\"//button[@class='_2KpZ6l _2doB4z']\")\n",
    "pop_up.click()"
   ]
  },
  {
   "cell_type": "code",
   "execution_count": 211,
   "metadata": {},
   "outputs": [],
   "source": [
    "search_mobile=driver.find_element_by_xpath(\"//input[@class='_3704LK']\")\n",
    "search_mobile.clear()"
   ]
  },
  {
   "cell_type": "code",
   "execution_count": 212,
   "metadata": {},
   "outputs": [],
   "source": [
    "search_mobile.send_keys('Oneplus Nord')"
   ]
  },
  {
   "cell_type": "code",
   "execution_count": 214,
   "metadata": {},
   "outputs": [],
   "source": [
    "search_icon=driver.find_element_by_xpath(\"//button[@class='L0Z3Pu']\")\n",
    "search_icon.click()"
   ]
  },
  {
   "cell_type": "code",
   "execution_count": 216,
   "metadata": {},
   "outputs": [],
   "source": [
    "\n",
    "\n",
    "brand=[]\n",
    "Name=[]\n",
    "colour=[]\n",
    "Ram=[]\n",
    "Storage=[]\n",
    "Primary_camera=[]\n",
    "Secondary_camera=[]\n",
    "Display_size=[]\n",
    "Display_resolution=[]\n",
    "Processor=[]\n",
    "Processor_cores=[]\n",
    "Battery_capacity=[]\n",
    "Price=[]\n",
    "Product_URL=[]"
   ]
  },
  {
   "cell_type": "code",
   "execution_count": 231,
   "metadata": {},
   "outputs": [
    {
     "data": {
      "text/plain": [
       "['Grabo NORD', 'Grabo NORD']"
      ]
     },
     "execution_count": 231,
     "metadata": {},
     "output_type": "execute_result"
    }
   ],
   "source": [
    "brand=[]\n",
    "\n",
    "for i in driver.find_elements_by_xpath(\"//div[@class='_4rR01T']\"):\n",
    "    brand.append(i.text)\n",
    "    \n",
    "brand"
   ]
  },
  {
   "cell_type": "code",
   "execution_count": 233,
   "metadata": {},
   "outputs": [
    {
     "data": {
      "text/plain": [
       "['Grabo NORD', 'Grabo NORD']"
      ]
     },
     "execution_count": 233,
     "metadata": {},
     "output_type": "execute_result"
    }
   ],
   "source": [
    "Name=[]\n",
    "\n",
    "for i in driver.find_elements_by_xpath(\"//div[@class='_4rR01T']\"):\n",
    "    Name.append(i.text)\n",
    "    \n",
    "Name"
   ]
  },
  {
   "cell_type": "code",
   "execution_count": 267,
   "metadata": {},
   "outputs": [
    {
     "data": {
      "text/plain": [
       "[]"
      ]
     },
     "execution_count": 267,
     "metadata": {},
     "output_type": "execute_result"
    }
   ],
   "source": [
    "Colour=[]\n",
    "\n",
    "for i in driver.find_elements_by_xpath(\"//td[@class='_1hKmbr col col-3-12']\"):\n",
    "    Colour.append(i.text)\n",
    "    \n",
    "Colour"
   ]
  },
  {
   "cell_type": "raw",
   "metadata": {},
   "source": []
  },
  {
   "cell_type": "code",
   "execution_count": 241,
   "metadata": {},
   "outputs": [
    {
     "data": {
      "text/plain": [
       "[]"
      ]
     },
     "execution_count": 241,
     "metadata": {},
     "output_type": "execute_result"
    }
   ],
   "source": [
    "Colour=[]\n",
    "\n",
    "Colour=driver.find_elements_by_xpath(\"//table[@class='_14cfVK']\")\n",
    "for i in Colour:\n",
    "    if i.text=='Color':\n",
    "        Colour.append(i.text)\n",
    "    \n",
    "Colour"
   ]
  },
  {
   "cell_type": "code",
   "execution_count": 245,
   "metadata": {},
   "outputs": [
    {
     "data": {
      "text/plain": [
       "['64 MB RAM | 64 MB ROM',\n",
       " '4.57 cm (1.8 inch) Quarter QVGA Display',\n",
       " '0.3MP Rear Camera',\n",
       " '2500 mAh Battery',\n",
       " '1 Year Manufacturer Warranty for Device',\n",
       " '64 MB RAM | 64 MB ROM',\n",
       " '4.57 cm (1.8 inch) Quarter QVGA Display',\n",
       " '0.3MP Rear Camera',\n",
       " '2500 mAh Battery',\n",
       " '1 Year Manufacturer Warranty for Device']"
      ]
     },
     "execution_count": 245,
     "metadata": {},
     "output_type": "execute_result"
    }
   ],
   "source": [
    "Ram=[]\n",
    "\n",
    "for i in driver.find_elements_by_xpath(\"//li[@class='rgWa7D']\"):\n",
    "    Ram.append(i.text)\n",
    "    \n",
    "Ram"
   ]
  },
  {
   "cell_type": "code",
   "execution_count": 266,
   "metadata": {},
   "outputs": [
    {
     "data": {
      "text/plain": [
       "['₹845', '₹845']"
      ]
     },
     "execution_count": 266,
     "metadata": {},
     "output_type": "execute_result"
    }
   ],
   "source": [
    "Price=[]\n",
    "\n",
    "for i in driver.find_elements_by_xpath(\"//div[@class='_30jeq3 _1_WHN1']\"):\n",
    "    Price.append(i.text)\n",
    "    \n",
    "Price "
   ]
  },
  {
   "cell_type": "code",
   "execution_count": null,
   "metadata": {},
   "outputs": [],
   "source": []
  },
  {
   "cell_type": "code",
   "execution_count": null,
   "metadata": {},
   "outputs": [],
   "source": []
  },
  {
   "cell_type": "markdown",
   "metadata": {},
   "source": [
    "# Question 6"
   ]
  },
  {
   "cell_type": "code",
   "execution_count": 400,
   "metadata": {},
   "outputs": [],
   "source": [
    "driver= webdriver.Chrome(\"C:/Users/Techitfirst/Desktop/Abhinay/chromedriver.exe\")"
   ]
  },
  {
   "cell_type": "code",
   "execution_count": 401,
   "metadata": {},
   "outputs": [],
   "source": [
    "url='https://trak.in/'\n",
    "driver.get(url)"
   ]
  },
  {
   "cell_type": "code",
   "execution_count": 402,
   "metadata": {},
   "outputs": [],
   "source": [
    "time.sleep(5)"
   ]
  },
  {
   "cell_type": "code",
   "execution_count": 403,
   "metadata": {},
   "outputs": [
    {
     "ename": "ElementNotInteractableException",
     "evalue": "Message: element not interactable\n  (Session info: chrome=91.0.4472.77)\n",
     "output_type": "error",
     "traceback": [
      "\u001b[1;31m---------------------------------------------------------------------------\u001b[0m",
      "\u001b[1;31mElementNotInteractableException\u001b[0m           Traceback (most recent call last)",
      "\u001b[1;32m<ipython-input-403-a3880ba80ed5>\u001b[0m in \u001b[0;36m<module>\u001b[1;34m\u001b[0m\n\u001b[0;32m      1\u001b[0m \u001b[0mclick_more\u001b[0m\u001b[1;33m=\u001b[0m\u001b[0mdriver\u001b[0m\u001b[1;33m.\u001b[0m\u001b[0mfind_elements_by_xpath\u001b[0m\u001b[1;33m(\u001b[0m\u001b[1;34m\"//a[@title='http://trak.in/india-startup-funding-investment-2015/']\"\u001b[0m\u001b[1;33m)\u001b[0m\u001b[1;33m\u001b[0m\u001b[1;33m\u001b[0m\u001b[0m\n\u001b[1;32m----> 2\u001b[1;33m \u001b[0mclick_more\u001b[0m\u001b[1;33m[\u001b[0m\u001b[1;36m0\u001b[0m\u001b[1;33m]\u001b[0m\u001b[1;33m.\u001b[0m\u001b[0mclick\u001b[0m\u001b[1;33m(\u001b[0m\u001b[1;33m)\u001b[0m\u001b[1;33m\u001b[0m\u001b[1;33m\u001b[0m\u001b[0m\n\u001b[0m\u001b[0;32m      3\u001b[0m \u001b[0mtime\u001b[0m\u001b[1;33m.\u001b[0m\u001b[0msleep\u001b[0m\u001b[1;33m(\u001b[0m\u001b[1;36m3\u001b[0m\u001b[1;33m)\u001b[0m\u001b[1;33m\u001b[0m\u001b[1;33m\u001b[0m\u001b[0m\n",
      "\u001b[1;32m~\\anaconda3\\lib\\site-packages\\selenium\\webdriver\\remote\\webelement.py\u001b[0m in \u001b[0;36mclick\u001b[1;34m(self)\u001b[0m\n\u001b[0;32m     78\u001b[0m     \u001b[1;32mdef\u001b[0m \u001b[0mclick\u001b[0m\u001b[1;33m(\u001b[0m\u001b[0mself\u001b[0m\u001b[1;33m)\u001b[0m\u001b[1;33m:\u001b[0m\u001b[1;33m\u001b[0m\u001b[1;33m\u001b[0m\u001b[0m\n\u001b[0;32m     79\u001b[0m         \u001b[1;34m\"\"\"Clicks the element.\"\"\"\u001b[0m\u001b[1;33m\u001b[0m\u001b[1;33m\u001b[0m\u001b[0m\n\u001b[1;32m---> 80\u001b[1;33m         \u001b[0mself\u001b[0m\u001b[1;33m.\u001b[0m\u001b[0m_execute\u001b[0m\u001b[1;33m(\u001b[0m\u001b[0mCommand\u001b[0m\u001b[1;33m.\u001b[0m\u001b[0mCLICK_ELEMENT\u001b[0m\u001b[1;33m)\u001b[0m\u001b[1;33m\u001b[0m\u001b[1;33m\u001b[0m\u001b[0m\n\u001b[0m\u001b[0;32m     81\u001b[0m \u001b[1;33m\u001b[0m\u001b[0m\n\u001b[0;32m     82\u001b[0m     \u001b[1;32mdef\u001b[0m \u001b[0msubmit\u001b[0m\u001b[1;33m(\u001b[0m\u001b[0mself\u001b[0m\u001b[1;33m)\u001b[0m\u001b[1;33m:\u001b[0m\u001b[1;33m\u001b[0m\u001b[1;33m\u001b[0m\u001b[0m\n",
      "\u001b[1;32m~\\anaconda3\\lib\\site-packages\\selenium\\webdriver\\remote\\webelement.py\u001b[0m in \u001b[0;36m_execute\u001b[1;34m(self, command, params)\u001b[0m\n\u001b[0;32m    631\u001b[0m             \u001b[0mparams\u001b[0m \u001b[1;33m=\u001b[0m \u001b[1;33m{\u001b[0m\u001b[1;33m}\u001b[0m\u001b[1;33m\u001b[0m\u001b[1;33m\u001b[0m\u001b[0m\n\u001b[0;32m    632\u001b[0m         \u001b[0mparams\u001b[0m\u001b[1;33m[\u001b[0m\u001b[1;34m'id'\u001b[0m\u001b[1;33m]\u001b[0m \u001b[1;33m=\u001b[0m \u001b[0mself\u001b[0m\u001b[1;33m.\u001b[0m\u001b[0m_id\u001b[0m\u001b[1;33m\u001b[0m\u001b[1;33m\u001b[0m\u001b[0m\n\u001b[1;32m--> 633\u001b[1;33m         \u001b[1;32mreturn\u001b[0m \u001b[0mself\u001b[0m\u001b[1;33m.\u001b[0m\u001b[0m_parent\u001b[0m\u001b[1;33m.\u001b[0m\u001b[0mexecute\u001b[0m\u001b[1;33m(\u001b[0m\u001b[0mcommand\u001b[0m\u001b[1;33m,\u001b[0m \u001b[0mparams\u001b[0m\u001b[1;33m)\u001b[0m\u001b[1;33m\u001b[0m\u001b[1;33m\u001b[0m\u001b[0m\n\u001b[0m\u001b[0;32m    634\u001b[0m \u001b[1;33m\u001b[0m\u001b[0m\n\u001b[0;32m    635\u001b[0m     \u001b[1;32mdef\u001b[0m \u001b[0mfind_element\u001b[0m\u001b[1;33m(\u001b[0m\u001b[0mself\u001b[0m\u001b[1;33m,\u001b[0m \u001b[0mby\u001b[0m\u001b[1;33m=\u001b[0m\u001b[0mBy\u001b[0m\u001b[1;33m.\u001b[0m\u001b[0mID\u001b[0m\u001b[1;33m,\u001b[0m \u001b[0mvalue\u001b[0m\u001b[1;33m=\u001b[0m\u001b[1;32mNone\u001b[0m\u001b[1;33m)\u001b[0m\u001b[1;33m:\u001b[0m\u001b[1;33m\u001b[0m\u001b[1;33m\u001b[0m\u001b[0m\n",
      "\u001b[1;32m~\\anaconda3\\lib\\site-packages\\selenium\\webdriver\\remote\\webdriver.py\u001b[0m in \u001b[0;36mexecute\u001b[1;34m(self, driver_command, params)\u001b[0m\n\u001b[0;32m    319\u001b[0m         \u001b[0mresponse\u001b[0m \u001b[1;33m=\u001b[0m \u001b[0mself\u001b[0m\u001b[1;33m.\u001b[0m\u001b[0mcommand_executor\u001b[0m\u001b[1;33m.\u001b[0m\u001b[0mexecute\u001b[0m\u001b[1;33m(\u001b[0m\u001b[0mdriver_command\u001b[0m\u001b[1;33m,\u001b[0m \u001b[0mparams\u001b[0m\u001b[1;33m)\u001b[0m\u001b[1;33m\u001b[0m\u001b[1;33m\u001b[0m\u001b[0m\n\u001b[0;32m    320\u001b[0m         \u001b[1;32mif\u001b[0m \u001b[0mresponse\u001b[0m\u001b[1;33m:\u001b[0m\u001b[1;33m\u001b[0m\u001b[1;33m\u001b[0m\u001b[0m\n\u001b[1;32m--> 321\u001b[1;33m             \u001b[0mself\u001b[0m\u001b[1;33m.\u001b[0m\u001b[0merror_handler\u001b[0m\u001b[1;33m.\u001b[0m\u001b[0mcheck_response\u001b[0m\u001b[1;33m(\u001b[0m\u001b[0mresponse\u001b[0m\u001b[1;33m)\u001b[0m\u001b[1;33m\u001b[0m\u001b[1;33m\u001b[0m\u001b[0m\n\u001b[0m\u001b[0;32m    322\u001b[0m             response['value'] = self._unwrap_value(\n\u001b[0;32m    323\u001b[0m                 response.get('value', None))\n",
      "\u001b[1;32m~\\anaconda3\\lib\\site-packages\\selenium\\webdriver\\remote\\errorhandler.py\u001b[0m in \u001b[0;36mcheck_response\u001b[1;34m(self, response)\u001b[0m\n\u001b[0;32m    240\u001b[0m                 \u001b[0malert_text\u001b[0m \u001b[1;33m=\u001b[0m \u001b[0mvalue\u001b[0m\u001b[1;33m[\u001b[0m\u001b[1;34m'alert'\u001b[0m\u001b[1;33m]\u001b[0m\u001b[1;33m.\u001b[0m\u001b[0mget\u001b[0m\u001b[1;33m(\u001b[0m\u001b[1;34m'text'\u001b[0m\u001b[1;33m)\u001b[0m\u001b[1;33m\u001b[0m\u001b[1;33m\u001b[0m\u001b[0m\n\u001b[0;32m    241\u001b[0m             \u001b[1;32mraise\u001b[0m \u001b[0mexception_class\u001b[0m\u001b[1;33m(\u001b[0m\u001b[0mmessage\u001b[0m\u001b[1;33m,\u001b[0m \u001b[0mscreen\u001b[0m\u001b[1;33m,\u001b[0m \u001b[0mstacktrace\u001b[0m\u001b[1;33m,\u001b[0m \u001b[0malert_text\u001b[0m\u001b[1;33m)\u001b[0m\u001b[1;33m\u001b[0m\u001b[1;33m\u001b[0m\u001b[0m\n\u001b[1;32m--> 242\u001b[1;33m         \u001b[1;32mraise\u001b[0m \u001b[0mexception_class\u001b[0m\u001b[1;33m(\u001b[0m\u001b[0mmessage\u001b[0m\u001b[1;33m,\u001b[0m \u001b[0mscreen\u001b[0m\u001b[1;33m,\u001b[0m \u001b[0mstacktrace\u001b[0m\u001b[1;33m)\u001b[0m\u001b[1;33m\u001b[0m\u001b[1;33m\u001b[0m\u001b[0m\n\u001b[0m\u001b[0;32m    243\u001b[0m \u001b[1;33m\u001b[0m\u001b[0m\n\u001b[0;32m    244\u001b[0m     \u001b[1;32mdef\u001b[0m \u001b[0m_value_or_default\u001b[0m\u001b[1;33m(\u001b[0m\u001b[0mself\u001b[0m\u001b[1;33m,\u001b[0m \u001b[0mobj\u001b[0m\u001b[1;33m,\u001b[0m \u001b[0mkey\u001b[0m\u001b[1;33m,\u001b[0m \u001b[0mdefault\u001b[0m\u001b[1;33m)\u001b[0m\u001b[1;33m:\u001b[0m\u001b[1;33m\u001b[0m\u001b[1;33m\u001b[0m\u001b[0m\n",
      "\u001b[1;31mElementNotInteractableException\u001b[0m: Message: element not interactable\n  (Session info: chrome=91.0.4472.77)\n"
     ]
    }
   ],
   "source": [
    "click_more=driver.find_elements_by_xpath(\"//a[@title='http://trak.in/india-startup-funding-investment-2015/']\")\n",
    "click_more[0].click()\n",
    "time.sleep(3)"
   ]
  },
  {
   "cell_type": "code",
   "execution_count": 386,
   "metadata": {},
   "outputs": [],
   "source": [
    "pop_up=driver.find_elements_by_xpath(\"//div[@class='ns-o5qkf-e-16 button-common close-button']\")\n"
   ]
  },
  {
   "cell_type": "code",
   "execution_count": 392,
   "metadata": {},
   "outputs": [
    {
     "ename": "AttributeError",
     "evalue": "'list' object has no attribute 'click'",
     "output_type": "error",
     "traceback": [
      "\u001b[1;31m---------------------------------------------------------------------------\u001b[0m",
      "\u001b[1;31mAttributeError\u001b[0m                            Traceback (most recent call last)",
      "\u001b[1;32m<ipython-input-392-d0848a611c15>\u001b[0m in \u001b[0;36m<module>\u001b[1;34m\u001b[0m\n\u001b[1;32m----> 1\u001b[1;33m \u001b[0mpop_up\u001b[0m\u001b[1;33m.\u001b[0m\u001b[0mclick\u001b[0m\u001b[1;33m(\u001b[0m\u001b[1;33m)\u001b[0m\u001b[1;33m\u001b[0m\u001b[1;33m\u001b[0m\u001b[0m\n\u001b[0m",
      "\u001b[1;31mAttributeError\u001b[0m: 'list' object has no attribute 'click'"
     ]
    }
   ],
   "source": [
    "pop_up.click()"
   ]
  },
  {
   "cell_type": "code",
   "execution_count": null,
   "metadata": {},
   "outputs": [],
   "source": [
    "#stuck here tried multiple time, changed th elements to element tried with id for instance it execute bu then it fails in second go."
   ]
  },
  {
   "cell_type": "code",
   "execution_count": null,
   "metadata": {},
   "outputs": [],
   "source": []
  },
  {
   "cell_type": "code",
   "execution_count": null,
   "metadata": {},
   "outputs": [],
   "source": []
  },
  {
   "cell_type": "markdown",
   "metadata": {},
   "source": [
    "# Question 7"
   ]
  },
  {
   "cell_type": "code",
   "execution_count": null,
   "metadata": {},
   "outputs": [],
   "source": []
  },
  {
   "cell_type": "code",
   "execution_count": 404,
   "metadata": {},
   "outputs": [],
   "source": [
    "driver= webdriver.Chrome(\"C:/Users/Techitfirst/Desktop/Abhinay/chromedriver.exe\")\n",
    "url='https://digit.in/'\n",
    "driver.get(url)"
   ]
  },
  {
   "cell_type": "code",
   "execution_count": 406,
   "metadata": {},
   "outputs": [],
   "source": [
    "search_bar=driver.find_elements_by_xpath(\"//div[@class='search']\")"
   ]
  },
  {
   "cell_type": "code",
   "execution_count": 408,
   "metadata": {},
   "outputs": [],
   "source": [
    "search_bar[0].click()"
   ]
  },
  {
   "cell_type": "code",
   "execution_count": 409,
   "metadata": {},
   "outputs": [],
   "source": [
    "keyword=driver.find_element_by_id('globalPageSearchText')"
   ]
  },
  {
   "cell_type": "code",
   "execution_count": 410,
   "metadata": {},
   "outputs": [],
   "source": [
    "keyword.send_keys(\"gaming laptops\")"
   ]
  },
  {
   "cell_type": "code",
   "execution_count": 411,
   "metadata": {},
   "outputs": [],
   "source": [
    "from selenium.webdriver.common.keys import Keys "
   ]
  },
  {
   "cell_type": "code",
   "execution_count": 412,
   "metadata": {},
   "outputs": [],
   "source": [
    "keyword.send_keys(Keys.ENTER) "
   ]
  },
  {
   "cell_type": "code",
   "execution_count": 416,
   "metadata": {},
   "outputs": [
    {
     "data": {
      "text/plain": [
       "['HP Envy 15-k006tx',\n",
       " \"ASUS G53J - A 3D gamer's delight but we want more\",\n",
       " 'Lenovo IdeaPad Y570',\n",
       " 'Asus G750JX-CV069P',\n",
       " 'ASUS ROG Cetra',\n",
       " 'HP Pavilion g6 - Multimedia and gaming on a budget',\n",
       " 'ASUS ROG Flow x13',\n",
       " 'Truvison TX3271',\n",
       " 'ASUS Zephyrus G15 Ryzen 9 5900HS (2021)',\n",
       " 'Lenovo G50-30']"
      ]
     },
     "execution_count": 416,
     "metadata": {},
     "output_type": "execute_result"
    }
   ],
   "source": [
    "Details=[]\n",
    "\n",
    "for i in driver.find_elements_by_xpath(\"//div[@class='searchProduct-desc']\"):\n",
    "    Details.append(i.text)\n",
    "    \n",
    "Details[:10]"
   ]
  },
  {
   "cell_type": "code",
   "execution_count": 417,
   "metadata": {},
   "outputs": [
    {
     "data": {
      "text/plain": [
       "['Price : 80,510']"
      ]
     },
     "execution_count": 417,
     "metadata": {},
     "output_type": "execute_result"
    }
   ],
   "source": [
    "Price=[]\n",
    "\n",
    "for i in driver.find_elements_by_xpath(\"//div[@class='Block-price']\"):\n",
    "    Price.append(i.text)\n",
    "    \n",
    "Price[:10]"
   ]
  },
  {
   "cell_type": "code",
   "execution_count": null,
   "metadata": {},
   "outputs": [],
   "source": []
  }
 ],
 "metadata": {
  "kernelspec": {
   "display_name": "Python 3",
   "language": "python",
   "name": "python3"
  },
  "language_info": {
   "codemirror_mode": {
    "name": "ipython",
    "version": 3
   },
   "file_extension": ".py",
   "mimetype": "text/x-python",
   "name": "python",
   "nbconvert_exporter": "python",
   "pygments_lexer": "ipython3",
   "version": "3.8.3"
  }
 },
 "nbformat": 4,
 "nbformat_minor": 4
}
