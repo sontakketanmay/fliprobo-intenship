{
 "cells": [
  {
   "cell_type": "code",
   "execution_count": 335,
   "metadata": {},
   "outputs": [
    {
     "name": "stdout",
     "output_type": "stream",
     "text": [
      "Requirement already satisfied: selenium in c:\\users\\techitfirst\\anaconda3\\lib\\site-packages (3.141.0)Note: you may need to restart the kernel to use updated packages.\n",
      "Requirement already satisfied: urllib3 in c:\\users\\techitfirst\\anaconda3\\lib\\site-packages (from selenium) (1.25.9)\n",
      "\n"
     ]
    }
   ],
   "source": [
    "pip install selenium"
   ]
  },
  {
   "cell_type": "code",
   "execution_count": 336,
   "metadata": {},
   "outputs": [],
   "source": [
    "import selenium\n",
    "import pandas as pd\n",
    "from selenium import webdriver\n",
    "from selenium.webdriver.support import expected_conditions as EC"
   ]
  },
  {
   "cell_type": "code",
   "execution_count": 337,
   "metadata": {},
   "outputs": [],
   "source": [
    "driver= webdriver.Chrome(\"C:/Users/Techitfirst/Desktop/Abhinay/chromedriver.exe\")\n"
   ]
  },
  {
   "cell_type": "markdown",
   "metadata": {},
   "source": [
    "# Question 2"
   ]
  },
  {
   "cell_type": "code",
   "execution_count": 338,
   "metadata": {},
   "outputs": [],
   "source": [
    "url='https://www.naukri.com/'\n",
    "driver.get(url)"
   ]
  },
  {
   "cell_type": "code",
   "execution_count": 339,
   "metadata": {},
   "outputs": [
    {
     "data": {
      "text/plain": [
       "[<selenium.webdriver.remote.webelement.WebElement (session=\"ff512d5819c4e6e13ea0d644e60901c9\", element=\"0c2fbc48-5e78-40f2-9431-7a058e74606e\")>]"
      ]
     },
     "execution_count": 339,
     "metadata": {},
     "output_type": "execute_result"
    }
   ],
   "source": [
    "search_job=driver.find_elements_by_id('qsb-keyword-sugg')\n",
    "search_job"
   ]
  },
  {
   "cell_type": "code",
   "execution_count": 340,
   "metadata": {},
   "outputs": [],
   "source": [
    "search_job[0].send_keys(\"Data Scientist\")"
   ]
  },
  {
   "cell_type": "code",
   "execution_count": 341,
   "metadata": {},
   "outputs": [
    {
     "data": {
      "text/plain": [
       "[<selenium.webdriver.remote.webelement.WebElement (session=\"ff512d5819c4e6e13ea0d644e60901c9\", element=\"fd76f5de-702b-4f4a-998a-e3292f8cbfc8\")>]"
      ]
     },
     "execution_count": 341,
     "metadata": {},
     "output_type": "execute_result"
    }
   ],
   "source": [
    "# getting location id element\n",
    "search_location=driver.find_elements_by_id('qsb-location-sugg')\n",
    "search_location"
   ]
  },
  {
   "cell_type": "code",
   "execution_count": 342,
   "metadata": {},
   "outputs": [],
   "source": [
    "# Searching location\n",
    "search_location[0].send_keys(\"Bangalore/Bengaluru\")"
   ]
  },
  {
   "cell_type": "code",
   "execution_count": 343,
   "metadata": {},
   "outputs": [],
   "source": [
    "# search button click element\n",
    "\n",
    "search_button=driver.find_element_by_xpath(\"//button[@class='btn']\")\n",
    "search_button.click()\n",
    "                                           "
   ]
  },
  {
   "cell_type": "code",
   "execution_count": 348,
   "metadata": {},
   "outputs": [],
   "source": [
    "#Fetching job title\n",
    "top_title=[]\n",
    "\n",
    "for i in driver.find_elements_by_xpath(\"//a[@class='title fw500 ellipsis']\"):\n",
    "    top_title.append(i.get_attribute(\"href\"))\n",
    "    top_title.append(i.text)"
   ]
  },
  {
   "cell_type": "code",
   "execution_count": 349,
   "metadata": {},
   "outputs": [
    {
     "data": {
      "text/plain": [
       "['https://www.naukri.com/job-listings-data-scientist-data-analyst-business-analyst-inflexion-analytix-private-limited-mumbai-hyderabad-secunderabad-pune-gurgaon-gurugram-chennai-bangalore-bengaluru-0-to-3-years-100521000368?src=jobsearchDesk&sid=16217642854419696&xp=1&px=1',\n",
       " 'Data Scientist / Data Analyst -Business Analyst',\n",
       " 'https://www.naukri.com/job-listings-data-scientist-wipro-limited-kolkata-hyderabad-secunderabad-chennai-bangalore-bengaluru-4-to-9-years-210521000038?src=jobsearchDesk&sid=16217642854419696&xp=2&px=1',\n",
       " 'Data Scientist',\n",
       " 'https://www.naukri.com/job-listings-big-data-data-scientist-xoriant-solutions-pvt-ltd-kochi-cochin-indore-hyderabad-secunderabad-pune-ahmedabad-bangalore-bengaluru-mumbai-all-areas-1-to-3-years-130521005018?src=jobsearchDesk&sid=16217642854419696&xp=3&px=1',\n",
       " 'Big Data - Data Scientist',\n",
       " 'https://www.naukri.com/job-listings-specialist-i-data-scientist-philips-india-limited-bangalore-bengaluru-4-to-7-years-170521500993?src=jobsearchDesk&sid=16217642854419696&xp=4&px=1',\n",
       " 'Specialist I - Data Scientist',\n",
       " 'https://www.naukri.com/job-listings-data-scientist-oracle-india-pvt-ltd-bangalore-bengaluru-6-to-10-years-190521008276?src=jobsearchDesk&sid=16217642854419696&xp=5&px=1',\n",
       " 'Data Scientist']"
      ]
     },
     "execution_count": 349,
     "metadata": {},
     "output_type": "execute_result"
    }
   ],
   "source": [
    "top_title[:10]"
   ]
  },
  {
   "cell_type": "code",
   "execution_count": 350,
   "metadata": {},
   "outputs": [],
   "source": [
    "top_companies=[]\n",
    "\n",
    "for i in driver.find_elements_by_xpath(\"//a[@class='subTitle ellipsis fleft']\"):\n",
    "    top_companies.append(i.text)"
   ]
  },
  {
   "cell_type": "code",
   "execution_count": 351,
   "metadata": {},
   "outputs": [
    {
     "data": {
      "text/plain": [
       "['Inflexion Analytix Private Limited',\n",
       " 'Wipro Limited',\n",
       " 'Xoriant Solutions Pvt Ltd',\n",
       " 'Philips India Limited',\n",
       " 'Oracle India Pvt. Ltd.',\n",
       " 'IBM India Pvt. Limited',\n",
       " 'Huawei Technologies India Pvt Ltd',\n",
       " 'Huawei Technologies India Pvt Ltd',\n",
       " 'GlobalEdx Learning and Technology Solution Pvt Ltd',\n",
       " 'GO-JEK India']"
      ]
     },
     "execution_count": 351,
     "metadata": {},
     "output_type": "execute_result"
    }
   ],
   "source": [
    "top_companies[:10]"
   ]
  },
  {
   "cell_type": "code",
   "execution_count": 352,
   "metadata": {},
   "outputs": [],
   "source": [
    "location_list=[]\n",
    "\n",
    "for i in driver.find_elements_by_xpath(\"//li[@class='fleft grey-text br2 placeHolderLi location']\"):\n",
    "    location_list.append(i.text)\n",
    "    \n"
   ]
  },
  {
   "cell_type": "code",
   "execution_count": 353,
   "metadata": {},
   "outputs": [
    {
     "data": {
      "text/plain": [
       "['Mumbai, Hyderabad/Secunderabad, Pune, Gurgaon/Gurugram, Chennai, Bangalore/Bengaluru',\n",
       " 'Kolkata, Hyderabad/Secunderabad, Chennai, Bangalore/Bengaluru',\n",
       " 'Kochi/Cochin, Indore, Hyderabad/Secunderabad, Pune, Ahmedabad, Bangalore/Bengaluru, Mumbai (All Areas)',\n",
       " 'Bangalore/Bengaluru',\n",
       " 'Bangalore/Bengaluru',\n",
       " 'Bangalore/Bengaluru',\n",
       " 'Bangalore/Bengaluru',\n",
       " 'Bangalore/Bengaluru',\n",
       " 'Hyderabad/Secunderabad, Bangalore/Bengaluru, Mumbai (All Areas)',\n",
       " 'Bangalore/Bengaluru']"
      ]
     },
     "execution_count": 353,
     "metadata": {},
     "output_type": "execute_result"
    }
   ],
   "source": [
    "location_list[:10]"
   ]
  },
  {
   "cell_type": "code",
   "execution_count": 354,
   "metadata": {},
   "outputs": [],
   "source": [
    "description_list=[]\n",
    "\n",
    "\n",
    "for i in driver.find_elements_by_xpath(\"//div[@class='job-description fs12 grey-text']\"):\n",
    "    description_list.append(i.text)\n",
    "    "
   ]
  },
  {
   "cell_type": "code",
   "execution_count": 355,
   "metadata": {},
   "outputs": [
    {
     "data": {
      "text/plain": [
       "['Applications invited from all Freshers and experienced candidates (0-3 yrs) aspiring to...',\n",
       " 'Good statistical analysis skills for data pre-processing and data wrangling Experience ...',\n",
       " 'High motivation, good work ethic and maturityMinimum 1-3 yrs of proven project experien...',\n",
       " 'Responsibilities and Key Result Areas Design and develop project prototypes and solutio...',\n",
       " 'Roles and Responsibilities Looking for 6+ yrs of experience in data science, predictive...',\n",
       " 'modeling and business system design with experience in relational SQL and NoSQL databas...',\n",
       " 'Strong hands-on experience in implementing and validating big data algorithms and model...',\n",
       " 'Business & Team overview:Founded in 1987, Huawei is a leading global provider of ICT (i...',\n",
       " 'Experience : 3+ Years',\n",
       " 'About the Role Fasten your helmet and climb on board if youre ready to be our Senior Da...']"
      ]
     },
     "execution_count": 355,
     "metadata": {},
     "output_type": "execute_result"
    }
   ],
   "source": [
    "description_list[:10]"
   ]
  },
  {
   "cell_type": "code",
   "execution_count": 356,
   "metadata": {},
   "outputs": [],
   "source": [
    "#creating dataframe\n",
    "\n",
    "import pandas as pd\n",
    "Top_jobs=pd.DataFrame({})\n",
    "Top_jobs['Company Name']= top_companies[:10]\n",
    "Top_jobs['Job Title']=top_title[:10]\n",
    "Top_jobs['Job Location']=location_list[:10]\n",
    "Top_jobs['Job Description']=description_list[:10]"
   ]
  },
  {
   "cell_type": "code",
   "execution_count": 357,
   "metadata": {},
   "outputs": [
    {
     "data": {
      "text/html": [
       "<div>\n",
       "<style scoped>\n",
       "    .dataframe tbody tr th:only-of-type {\n",
       "        vertical-align: middle;\n",
       "    }\n",
       "\n",
       "    .dataframe tbody tr th {\n",
       "        vertical-align: top;\n",
       "    }\n",
       "\n",
       "    .dataframe thead th {\n",
       "        text-align: right;\n",
       "    }\n",
       "</style>\n",
       "<table border=\"1\" class=\"dataframe\">\n",
       "  <thead>\n",
       "    <tr style=\"text-align: right;\">\n",
       "      <th></th>\n",
       "      <th>Company Name</th>\n",
       "      <th>Job Title</th>\n",
       "      <th>Job Location</th>\n",
       "      <th>Job Description</th>\n",
       "    </tr>\n",
       "  </thead>\n",
       "  <tbody>\n",
       "    <tr>\n",
       "      <th>0</th>\n",
       "      <td>Inflexion Analytix Private Limited</td>\n",
       "      <td>https://www.naukri.com/job-listings-data-scien...</td>\n",
       "      <td>Mumbai, Hyderabad/Secunderabad, Pune, Gurgaon/...</td>\n",
       "      <td>Applications invited from all Freshers and exp...</td>\n",
       "    </tr>\n",
       "    <tr>\n",
       "      <th>1</th>\n",
       "      <td>Wipro Limited</td>\n",
       "      <td>Data Scientist / Data Analyst -Business Analyst</td>\n",
       "      <td>Kolkata, Hyderabad/Secunderabad, Chennai, Bang...</td>\n",
       "      <td>Good statistical analysis skills for data pre-...</td>\n",
       "    </tr>\n",
       "    <tr>\n",
       "      <th>2</th>\n",
       "      <td>Xoriant Solutions Pvt Ltd</td>\n",
       "      <td>https://www.naukri.com/job-listings-data-scien...</td>\n",
       "      <td>Kochi/Cochin, Indore, Hyderabad/Secunderabad, ...</td>\n",
       "      <td>High motivation, good work ethic and maturityM...</td>\n",
       "    </tr>\n",
       "    <tr>\n",
       "      <th>3</th>\n",
       "      <td>Philips India Limited</td>\n",
       "      <td>Data Scientist</td>\n",
       "      <td>Bangalore/Bengaluru</td>\n",
       "      <td>Responsibilities and Key Result Areas Design a...</td>\n",
       "    </tr>\n",
       "    <tr>\n",
       "      <th>4</th>\n",
       "      <td>Oracle India Pvt. Ltd.</td>\n",
       "      <td>https://www.naukri.com/job-listings-big-data-d...</td>\n",
       "      <td>Bangalore/Bengaluru</td>\n",
       "      <td>Roles and Responsibilities Looking for 6+ yrs ...</td>\n",
       "    </tr>\n",
       "    <tr>\n",
       "      <th>5</th>\n",
       "      <td>IBM India Pvt. Limited</td>\n",
       "      <td>Big Data - Data Scientist</td>\n",
       "      <td>Bangalore/Bengaluru</td>\n",
       "      <td>modeling and business system design with exper...</td>\n",
       "    </tr>\n",
       "    <tr>\n",
       "      <th>6</th>\n",
       "      <td>Huawei Technologies India Pvt Ltd</td>\n",
       "      <td>https://www.naukri.com/job-listings-specialist...</td>\n",
       "      <td>Bangalore/Bengaluru</td>\n",
       "      <td>Strong hands-on experience in implementing and...</td>\n",
       "    </tr>\n",
       "    <tr>\n",
       "      <th>7</th>\n",
       "      <td>Huawei Technologies India Pvt Ltd</td>\n",
       "      <td>Specialist I - Data Scientist</td>\n",
       "      <td>Bangalore/Bengaluru</td>\n",
       "      <td>Business &amp; Team overview:Founded in 1987, Huaw...</td>\n",
       "    </tr>\n",
       "    <tr>\n",
       "      <th>8</th>\n",
       "      <td>GlobalEdx Learning and Technology Solution Pvt...</td>\n",
       "      <td>https://www.naukri.com/job-listings-data-scien...</td>\n",
       "      <td>Hyderabad/Secunderabad, Bangalore/Bengaluru, M...</td>\n",
       "      <td>Experience : 3+ Years</td>\n",
       "    </tr>\n",
       "    <tr>\n",
       "      <th>9</th>\n",
       "      <td>GO-JEK India</td>\n",
       "      <td>Data Scientist</td>\n",
       "      <td>Bangalore/Bengaluru</td>\n",
       "      <td>About the Role Fasten your helmet and climb on...</td>\n",
       "    </tr>\n",
       "  </tbody>\n",
       "</table>\n",
       "</div>"
      ],
      "text/plain": [
       "                                        Company Name  \\\n",
       "0                 Inflexion Analytix Private Limited   \n",
       "1                                      Wipro Limited   \n",
       "2                          Xoriant Solutions Pvt Ltd   \n",
       "3                              Philips India Limited   \n",
       "4                             Oracle India Pvt. Ltd.   \n",
       "5                             IBM India Pvt. Limited   \n",
       "6                  Huawei Technologies India Pvt Ltd   \n",
       "7                  Huawei Technologies India Pvt Ltd   \n",
       "8  GlobalEdx Learning and Technology Solution Pvt...   \n",
       "9                                       GO-JEK India   \n",
       "\n",
       "                                           Job Title  \\\n",
       "0  https://www.naukri.com/job-listings-data-scien...   \n",
       "1    Data Scientist / Data Analyst -Business Analyst   \n",
       "2  https://www.naukri.com/job-listings-data-scien...   \n",
       "3                                     Data Scientist   \n",
       "4  https://www.naukri.com/job-listings-big-data-d...   \n",
       "5                          Big Data - Data Scientist   \n",
       "6  https://www.naukri.com/job-listings-specialist...   \n",
       "7                      Specialist I - Data Scientist   \n",
       "8  https://www.naukri.com/job-listings-data-scien...   \n",
       "9                                     Data Scientist   \n",
       "\n",
       "                                        Job Location  \\\n",
       "0  Mumbai, Hyderabad/Secunderabad, Pune, Gurgaon/...   \n",
       "1  Kolkata, Hyderabad/Secunderabad, Chennai, Bang...   \n",
       "2  Kochi/Cochin, Indore, Hyderabad/Secunderabad, ...   \n",
       "3                                Bangalore/Bengaluru   \n",
       "4                                Bangalore/Bengaluru   \n",
       "5                                Bangalore/Bengaluru   \n",
       "6                                Bangalore/Bengaluru   \n",
       "7                                Bangalore/Bengaluru   \n",
       "8  Hyderabad/Secunderabad, Bangalore/Bengaluru, M...   \n",
       "9                                Bangalore/Bengaluru   \n",
       "\n",
       "                                     Job Description  \n",
       "0  Applications invited from all Freshers and exp...  \n",
       "1  Good statistical analysis skills for data pre-...  \n",
       "2  High motivation, good work ethic and maturityM...  \n",
       "3  Responsibilities and Key Result Areas Design a...  \n",
       "4  Roles and Responsibilities Looking for 6+ yrs ...  \n",
       "5  modeling and business system design with exper...  \n",
       "6  Strong hands-on experience in implementing and...  \n",
       "7  Business & Team overview:Founded in 1987, Huaw...  \n",
       "8                              Experience : 3+ Years  \n",
       "9  About the Role Fasten your helmet and climb on...  "
      ]
     },
     "execution_count": 357,
     "metadata": {},
     "output_type": "execute_result"
    }
   ],
   "source": [
    "Top_jobs\n"
   ]
  },
  {
   "cell_type": "code",
   "execution_count": null,
   "metadata": {},
   "outputs": [],
   "source": []
  },
  {
   "cell_type": "markdown",
   "metadata": {},
   "source": [
    "# ********************************************************************************************************************"
   ]
  },
  {
   "cell_type": "markdown",
   "metadata": {},
   "source": [
    "# Question 1"
   ]
  },
  {
   "cell_type": "code",
   "execution_count": 358,
   "metadata": {},
   "outputs": [],
   "source": [
    "url='https://www.naukri.com/'\n",
    "driver.get(url)"
   ]
  },
  {
   "cell_type": "code",
   "execution_count": 359,
   "metadata": {},
   "outputs": [
    {
     "data": {
      "text/plain": [
       "[<selenium.webdriver.remote.webelement.WebElement (session=\"ff512d5819c4e6e13ea0d644e60901c9\", element=\"c4bfb096-b9f2-4c15-8635-d847cb841870\")>]"
      ]
     },
     "execution_count": 359,
     "metadata": {},
     "output_type": "execute_result"
    }
   ],
   "source": [
    "search_job=driver.find_elements_by_id('qsb-keyword-sugg')\n",
    "search_job"
   ]
  },
  {
   "cell_type": "code",
   "execution_count": 360,
   "metadata": {},
   "outputs": [],
   "source": [
    "# Entering data analyst in skills or jobs\n",
    "search_job[0].send_keys(\"Data Analyst\")"
   ]
  },
  {
   "cell_type": "code",
   "execution_count": 361,
   "metadata": {},
   "outputs": [
    {
     "data": {
      "text/plain": [
       "[<selenium.webdriver.remote.webelement.WebElement (session=\"ff512d5819c4e6e13ea0d644e60901c9\", element=\"2b4ddca3-b34d-4e0e-80f9-e49ba4f92b4c\")>]"
      ]
     },
     "execution_count": 361,
     "metadata": {},
     "output_type": "execute_result"
    }
   ],
   "source": [
    "# getting location id element\n",
    "search_location=driver.find_elements_by_id('qsb-location-sugg')\n",
    "search_location"
   ]
  },
  {
   "cell_type": "code",
   "execution_count": 362,
   "metadata": {},
   "outputs": [],
   "source": [
    "# Searching location\n",
    "search_location[0].send_keys(\"Bangalore/Bengaluru\")"
   ]
  },
  {
   "cell_type": "code",
   "execution_count": 363,
   "metadata": {},
   "outputs": [],
   "source": [
    "# search button click element\n",
    "\n",
    "search_button=driver.find_element_by_xpath(\"//button[@class='btn']\")\n",
    "search_button.click()\n",
    "                      "
   ]
  },
  {
   "cell_type": "code",
   "execution_count": 367,
   "metadata": {},
   "outputs": [],
   "source": [
    "#Fetching job title\n",
    "top_title1=[]\n",
    "\n",
    "for i in driver.find_elements_by_xpath(\"//a[@class='title fw500 ellipsis']\"):\n",
    "    top_title1.append(i.get_attribute(\"href\"))\n",
    "    top_title1.append(i.text)"
   ]
  },
  {
   "cell_type": "code",
   "execution_count": 368,
   "metadata": {},
   "outputs": [
    {
     "data": {
      "text/plain": [
       "['https://www.naukri.com/job-listings-data-scientist-data-analyst-business-analyst-inflexion-analytix-private-limited-mumbai-hyderabad-secunderabad-pune-gurgaon-gurugram-chennai-bangalore-bengaluru-0-to-3-years-100521000368?src=jobsearchDesk&sid=16217643078067748&xp=1&px=1',\n",
       " 'Data Scientist / Data Analyst -Business Analyst',\n",
       " 'https://www.naukri.com/job-listings-data-analyst-informatica-mdm-shell-india-markets-private-limited-bangalore-bengaluru-6-to-9-years-120521905233?src=jobsearchDesk&sid=16217643078067748&xp=2&px=1',\n",
       " 'Data Analyst - Informatica MDM',\n",
       " 'https://www.naukri.com/job-listings-assistant-vice-president-mis-reporting-business-data-analyst-intertrustviteos-corporate-and-fund-services-pvt-ltd-mumbai-bangalore-bengaluru-12-to-18-years-080521002186?src=jobsearchDesk&sid=16217643078067748&xp=3&px=1',\n",
       " 'Assistant Vice President - MIS & Reporting ( Business Data Analyst)',\n",
       " 'https://www.naukri.com/job-listings-data-analyst-sa-tech-software-i-pvt-ltd-kolkata-pune-chennai-bangalore-bengaluru-delhi-ncr-mumbai-all-areas-1-to-3-years-110521000874?src=jobsearchDesk&sid=16217643078067748&xp=4&px=1',\n",
       " 'Data Analyst',\n",
       " 'https://www.naukri.com/job-listings-hiring-for-data-analyst-mis-reporting-analyst-bangalore-pharmaceutical-research-associates-india-pvt-ltd-bangalore-bengaluru-2-to-4-years-110521000619?src=jobsearchDesk&sid=16217643078067748&xp=5&px=1',\n",
       " 'Hiring For Data Analyst/ MIS Reporting Analyst - Bangalore']"
      ]
     },
     "execution_count": 368,
     "metadata": {},
     "output_type": "execute_result"
    }
   ],
   "source": [
    "# as we need only first 10 results\n",
    "top_title1[:10]\n"
   ]
  },
  {
   "cell_type": "code",
   "execution_count": 369,
   "metadata": {},
   "outputs": [],
   "source": [
    "top_companies1=[]\n",
    "\n",
    "for i in driver.find_elements_by_xpath(\"//a[@class='subTitle ellipsis fleft']\"):\n",
    "    top_companies1.append(i.text)"
   ]
  },
  {
   "cell_type": "code",
   "execution_count": 370,
   "metadata": {},
   "outputs": [
    {
     "data": {
      "text/plain": [
       "['Inflexion Analytix Private Limited',\n",
       " 'Shell India Markets Private Limited',\n",
       " 'INTERTRUSTVITEOS CORPORATE AND FUND SERVICES PVT. LTD.',\n",
       " 'SA Tech Software (I) Pvt. Ltd.',\n",
       " 'PHARMACEUTICAL RESEARCH ASSOCIATES INDIA Pvt Ltd',\n",
       " 'Innovsource Services Private Limited',\n",
       " 'Philips India Limited',\n",
       " 'Flipkart Internet Private Limited',\n",
       " 'Flipkart Internet Private Limited',\n",
       " 'Shell India Markets Private Limited']"
      ]
     },
     "execution_count": 370,
     "metadata": {},
     "output_type": "execute_result"
    }
   ],
   "source": [
    "top_companies1[:10]"
   ]
  },
  {
   "cell_type": "code",
   "execution_count": 371,
   "metadata": {},
   "outputs": [],
   "source": [
    "location_list1=[]\n",
    "\n",
    "for i in driver.find_elements_by_xpath(\"//li[@class='fleft grey-text br2 placeHolderLi location']\"):\n",
    "    location_list1.append(i.text)\n",
    "    "
   ]
  },
  {
   "cell_type": "code",
   "execution_count": 372,
   "metadata": {},
   "outputs": [
    {
     "data": {
      "text/plain": [
       "['Mumbai, Hyderabad/Secunderabad, Pune, Gurgaon/Gurugram, Chennai, Bangalore/Bengaluru',\n",
       " 'Bangalore/Bengaluru',\n",
       " 'Mumbai, Bangalore/Bengaluru',\n",
       " 'Kolkata, Pune, Chennai, Bangalore/Bengaluru, Delhi / NCR, Mumbai (All Areas)',\n",
       " 'Bangalore/Bengaluru',\n",
       " 'Bangalore/Bengaluru',\n",
       " 'Bangalore/Bengaluru',\n",
       " 'Bangalore/Bengaluru',\n",
       " 'Bangalore/Bengaluru',\n",
       " 'Bangalore/Bengaluru']"
      ]
     },
     "execution_count": 372,
     "metadata": {},
     "output_type": "execute_result"
    }
   ],
   "source": [
    "location_list1[:10]"
   ]
  },
  {
   "cell_type": "code",
   "execution_count": 373,
   "metadata": {},
   "outputs": [],
   "source": [
    "experience_list1=[]\n",
    "\n",
    "\n",
    "for i in driver.find_elements_by_xpath(\"//li[@class='fleft grey-text br2 placeHolderLi experience']\"):\n",
    "    experience_list1.append(i.text)"
   ]
  },
  {
   "cell_type": "code",
   "execution_count": 374,
   "metadata": {},
   "outputs": [
    {
     "data": {
      "text/plain": [
       "['0-3 Yrs',\n",
       " '6-9 Yrs',\n",
       " '12-18 Yrs',\n",
       " '1-3 Yrs',\n",
       " '2-4 Yrs',\n",
       " '2-7 Yrs',\n",
       " '5-10 Yrs',\n",
       " '1-3 Yrs',\n",
       " '2-6 Yrs',\n",
       " '6-9 Yrs']"
      ]
     },
     "execution_count": 374,
     "metadata": {},
     "output_type": "execute_result"
    }
   ],
   "source": [
    "experience_list1[:10]"
   ]
  },
  {
   "cell_type": "code",
   "execution_count": 375,
   "metadata": {},
   "outputs": [],
   "source": [
    "#creating dataframe\n",
    "\n",
    "import pandas as pd\n",
    "Top10_jobs=pd.DataFrame({})\n",
    "Top10_jobs['Company Name']= top_companies1[:10]\n",
    "Top10_jobs['Job Title']=top_title1[:10]\n",
    "Top10_jobs['Job Location']=location_list1[:10]\n",
    "Top10_jobs['Job Experience Required']=experience_list1[:10]"
   ]
  },
  {
   "cell_type": "code",
   "execution_count": 376,
   "metadata": {},
   "outputs": [
    {
     "data": {
      "text/html": [
       "<div>\n",
       "<style scoped>\n",
       "    .dataframe tbody tr th:only-of-type {\n",
       "        vertical-align: middle;\n",
       "    }\n",
       "\n",
       "    .dataframe tbody tr th {\n",
       "        vertical-align: top;\n",
       "    }\n",
       "\n",
       "    .dataframe thead th {\n",
       "        text-align: right;\n",
       "    }\n",
       "</style>\n",
       "<table border=\"1\" class=\"dataframe\">\n",
       "  <thead>\n",
       "    <tr style=\"text-align: right;\">\n",
       "      <th></th>\n",
       "      <th>Company Name</th>\n",
       "      <th>Job Title</th>\n",
       "      <th>Job Location</th>\n",
       "      <th>Job Experience Required</th>\n",
       "    </tr>\n",
       "  </thead>\n",
       "  <tbody>\n",
       "    <tr>\n",
       "      <th>0</th>\n",
       "      <td>Inflexion Analytix Private Limited</td>\n",
       "      <td>https://www.naukri.com/job-listings-data-scien...</td>\n",
       "      <td>Mumbai, Hyderabad/Secunderabad, Pune, Gurgaon/...</td>\n",
       "      <td>0-3 Yrs</td>\n",
       "    </tr>\n",
       "    <tr>\n",
       "      <th>1</th>\n",
       "      <td>Shell India Markets Private Limited</td>\n",
       "      <td>Data Scientist / Data Analyst -Business Analyst</td>\n",
       "      <td>Bangalore/Bengaluru</td>\n",
       "      <td>6-9 Yrs</td>\n",
       "    </tr>\n",
       "    <tr>\n",
       "      <th>2</th>\n",
       "      <td>INTERTRUSTVITEOS CORPORATE AND FUND SERVICES P...</td>\n",
       "      <td>https://www.naukri.com/job-listings-data-analy...</td>\n",
       "      <td>Mumbai, Bangalore/Bengaluru</td>\n",
       "      <td>12-18 Yrs</td>\n",
       "    </tr>\n",
       "    <tr>\n",
       "      <th>3</th>\n",
       "      <td>SA Tech Software (I) Pvt. Ltd.</td>\n",
       "      <td>Data Analyst - Informatica MDM</td>\n",
       "      <td>Kolkata, Pune, Chennai, Bangalore/Bengaluru, D...</td>\n",
       "      <td>1-3 Yrs</td>\n",
       "    </tr>\n",
       "    <tr>\n",
       "      <th>4</th>\n",
       "      <td>PHARMACEUTICAL RESEARCH ASSOCIATES INDIA Pvt Ltd</td>\n",
       "      <td>https://www.naukri.com/job-listings-assistant-...</td>\n",
       "      <td>Bangalore/Bengaluru</td>\n",
       "      <td>2-4 Yrs</td>\n",
       "    </tr>\n",
       "    <tr>\n",
       "      <th>5</th>\n",
       "      <td>Innovsource Services Private Limited</td>\n",
       "      <td>Assistant Vice President - MIS &amp; Reporting ( B...</td>\n",
       "      <td>Bangalore/Bengaluru</td>\n",
       "      <td>2-7 Yrs</td>\n",
       "    </tr>\n",
       "    <tr>\n",
       "      <th>6</th>\n",
       "      <td>Philips India Limited</td>\n",
       "      <td>https://www.naukri.com/job-listings-data-analy...</td>\n",
       "      <td>Bangalore/Bengaluru</td>\n",
       "      <td>5-10 Yrs</td>\n",
       "    </tr>\n",
       "    <tr>\n",
       "      <th>7</th>\n",
       "      <td>Flipkart Internet Private Limited</td>\n",
       "      <td>Data Analyst</td>\n",
       "      <td>Bangalore/Bengaluru</td>\n",
       "      <td>1-3 Yrs</td>\n",
       "    </tr>\n",
       "    <tr>\n",
       "      <th>8</th>\n",
       "      <td>Flipkart Internet Private Limited</td>\n",
       "      <td>https://www.naukri.com/job-listings-hiring-for...</td>\n",
       "      <td>Bangalore/Bengaluru</td>\n",
       "      <td>2-6 Yrs</td>\n",
       "    </tr>\n",
       "    <tr>\n",
       "      <th>9</th>\n",
       "      <td>Shell India Markets Private Limited</td>\n",
       "      <td>Hiring For Data Analyst/ MIS Reporting Analyst...</td>\n",
       "      <td>Bangalore/Bengaluru</td>\n",
       "      <td>6-9 Yrs</td>\n",
       "    </tr>\n",
       "  </tbody>\n",
       "</table>\n",
       "</div>"
      ],
      "text/plain": [
       "                                        Company Name  \\\n",
       "0                 Inflexion Analytix Private Limited   \n",
       "1                Shell India Markets Private Limited   \n",
       "2  INTERTRUSTVITEOS CORPORATE AND FUND SERVICES P...   \n",
       "3                     SA Tech Software (I) Pvt. Ltd.   \n",
       "4   PHARMACEUTICAL RESEARCH ASSOCIATES INDIA Pvt Ltd   \n",
       "5               Innovsource Services Private Limited   \n",
       "6                              Philips India Limited   \n",
       "7                  Flipkart Internet Private Limited   \n",
       "8                  Flipkart Internet Private Limited   \n",
       "9                Shell India Markets Private Limited   \n",
       "\n",
       "                                           Job Title  \\\n",
       "0  https://www.naukri.com/job-listings-data-scien...   \n",
       "1    Data Scientist / Data Analyst -Business Analyst   \n",
       "2  https://www.naukri.com/job-listings-data-analy...   \n",
       "3                     Data Analyst - Informatica MDM   \n",
       "4  https://www.naukri.com/job-listings-assistant-...   \n",
       "5  Assistant Vice President - MIS & Reporting ( B...   \n",
       "6  https://www.naukri.com/job-listings-data-analy...   \n",
       "7                                       Data Analyst   \n",
       "8  https://www.naukri.com/job-listings-hiring-for...   \n",
       "9  Hiring For Data Analyst/ MIS Reporting Analyst...   \n",
       "\n",
       "                                        Job Location Job Experience Required  \n",
       "0  Mumbai, Hyderabad/Secunderabad, Pune, Gurgaon/...                 0-3 Yrs  \n",
       "1                                Bangalore/Bengaluru                 6-9 Yrs  \n",
       "2                        Mumbai, Bangalore/Bengaluru               12-18 Yrs  \n",
       "3  Kolkata, Pune, Chennai, Bangalore/Bengaluru, D...                 1-3 Yrs  \n",
       "4                                Bangalore/Bengaluru                 2-4 Yrs  \n",
       "5                                Bangalore/Bengaluru                 2-7 Yrs  \n",
       "6                                Bangalore/Bengaluru                5-10 Yrs  \n",
       "7                                Bangalore/Bengaluru                 1-3 Yrs  \n",
       "8                                Bangalore/Bengaluru                 2-6 Yrs  \n",
       "9                                Bangalore/Bengaluru                 6-9 Yrs  "
      ]
     },
     "execution_count": 376,
     "metadata": {},
     "output_type": "execute_result"
    }
   ],
   "source": [
    "Top10_jobs"
   ]
  },
  {
   "cell_type": "code",
   "execution_count": 377,
   "metadata": {},
   "outputs": [],
   "source": [
    "################################################################################################################################"
   ]
  },
  {
   "cell_type": "code",
   "execution_count": null,
   "metadata": {},
   "outputs": [],
   "source": []
  },
  {
   "cell_type": "markdown",
   "metadata": {},
   "source": [
    "# Question 3"
   ]
  },
  {
   "cell_type": "code",
   "execution_count": 184,
   "metadata": {},
   "outputs": [],
   "source": [
    "driver= webdriver.Chrome(\"C:/Users/Techitfirst/Desktop/Abhinay/chromedriver.exe\")"
   ]
  },
  {
   "cell_type": "code",
   "execution_count": 185,
   "metadata": {},
   "outputs": [],
   "source": [
    "#Getting into designated website \n",
    "url='https://www.naukri.com/'\n",
    "driver.get(url)"
   ]
  },
  {
   "cell_type": "code",
   "execution_count": 186,
   "metadata": {},
   "outputs": [
    {
     "data": {
      "text/plain": [
       "[<selenium.webdriver.remote.webelement.WebElement (session=\"d89c39c10c3d8a8a36de29375287448e\", element=\"b69eb895-a72c-4228-bc26-3377a8d143d7\")>]"
      ]
     },
     "execution_count": 186,
     "metadata": {},
     "output_type": "execute_result"
    }
   ],
   "source": [
    "# Using element to locate search job box\n",
    "search_job=driver.find_elements_by_id('qsb-keyword-sugg')\n",
    "search_job"
   ]
  },
  {
   "cell_type": "code",
   "execution_count": 187,
   "metadata": {},
   "outputs": [],
   "source": [
    "#enterning the key word of skill or designation that is required\n",
    "search_job[0].send_keys(\"Data Scientist\")"
   ]
  },
  {
   "cell_type": "code",
   "execution_count": 188,
   "metadata": {},
   "outputs": [],
   "source": [
    "# search button click element\n",
    "\n",
    "search_button=driver.find_element_by_xpath(\"//button[@class='btn']\")\n",
    "search_button.click()\n",
    "                       "
   ]
  },
  {
   "cell_type": "code",
   "execution_count": null,
   "metadata": {},
   "outputs": [],
   "source": [
    "import time\n",
    "from selenium.common.exceptions import NoSuchElementException"
   ]
  },
  {
   "cell_type": "code",
   "execution_count": null,
   "metadata": {},
   "outputs": [],
   "source": []
  },
  {
   "cell_type": "code",
   "execution_count": 199,
   "metadata": {},
   "outputs": [
    {
     "ename": "InvalidSelectorException",
     "evalue": "Message: invalid selector: Unable to locate an element with the xpath expression //i[@class='fleft naukicon naukicon-checkbox']::/i because of the following error:\nSyntaxError: Failed to execute 'evaluate' on 'Document': The string '//i[@class='fleft naukicon naukicon-checkbox']::/i' is not a valid XPath expression.\n  (Session info: chrome=90.0.4430.212)\n",
     "output_type": "error",
     "traceback": [
      "\u001b[1;31m---------------------------------------------------------------------------\u001b[0m",
      "\u001b[1;31mInvalidSelectorException\u001b[0m                  Traceback (most recent call last)",
      "\u001b[1;32m<ipython-input-199-bcf06fd1d52c>\u001b[0m in \u001b[0;36m<module>\u001b[1;34m\u001b[0m\n\u001b[1;32m----> 1\u001b[1;33m \u001b[0mfilter_location\u001b[0m\u001b[1;33m=\u001b[0m\u001b[0mdriver\u001b[0m\u001b[1;33m.\u001b[0m\u001b[0mfind_elements_by_xpath\u001b[0m\u001b[1;33m(\u001b[0m\u001b[1;34m\"//i[@class='fleft naukicon naukicon-checkbox']::/i\"\u001b[0m\u001b[1;33m)\u001b[0m\u001b[1;33m\u001b[0m\u001b[1;33m\u001b[0m\u001b[0m\n\u001b[0m\u001b[0;32m      2\u001b[0m \u001b[1;32mfor\u001b[0m \u001b[0mi\u001b[0m \u001b[1;32min\u001b[0m \u001b[0mfilter_location\u001b[0m\u001b[1;33m:\u001b[0m\u001b[1;33m\u001b[0m\u001b[1;33m\u001b[0m\u001b[0m\n\u001b[0;32m      3\u001b[0m     \u001b[1;32mif\u001b[0m \u001b[0mi\u001b[0m\u001b[1;33m.\u001b[0m\u001b[0mtext\u001b[0m\u001b[1;33m==\u001b[0m\u001b[1;34m'New Delhi'\u001b[0m\u001b[1;33m:\u001b[0m\u001b[1;33m\u001b[0m\u001b[1;33m\u001b[0m\u001b[0m\n\u001b[0;32m      4\u001b[0m         \u001b[0mi\u001b[0m\u001b[1;33m.\u001b[0m\u001b[0mclick\u001b[0m\u001b[1;33m(\u001b[0m\u001b[1;33m)\u001b[0m\u001b[1;33m\u001b[0m\u001b[1;33m\u001b[0m\u001b[0m\n\u001b[0;32m      5\u001b[0m         \u001b[1;32mbreak\u001b[0m\u001b[1;33m\u001b[0m\u001b[1;33m\u001b[0m\u001b[0m\n",
      "\u001b[1;32m~\\anaconda3\\lib\\site-packages\\selenium\\webdriver\\remote\\webdriver.py\u001b[0m in \u001b[0;36mfind_elements_by_xpath\u001b[1;34m(self, xpath)\u001b[0m\n\u001b[0;32m    408\u001b[0m             \u001b[0melements\u001b[0m \u001b[1;33m=\u001b[0m \u001b[0mdriver\u001b[0m\u001b[1;33m.\u001b[0m\u001b[0mfind_elements_by_xpath\u001b[0m\u001b[1;33m(\u001b[0m\u001b[1;34m\"//div[contains(@class, 'foo')]\"\u001b[0m\u001b[1;33m)\u001b[0m\u001b[1;33m\u001b[0m\u001b[1;33m\u001b[0m\u001b[0m\n\u001b[0;32m    409\u001b[0m         \"\"\"\n\u001b[1;32m--> 410\u001b[1;33m         \u001b[1;32mreturn\u001b[0m \u001b[0mself\u001b[0m\u001b[1;33m.\u001b[0m\u001b[0mfind_elements\u001b[0m\u001b[1;33m(\u001b[0m\u001b[0mby\u001b[0m\u001b[1;33m=\u001b[0m\u001b[0mBy\u001b[0m\u001b[1;33m.\u001b[0m\u001b[0mXPATH\u001b[0m\u001b[1;33m,\u001b[0m \u001b[0mvalue\u001b[0m\u001b[1;33m=\u001b[0m\u001b[0mxpath\u001b[0m\u001b[1;33m)\u001b[0m\u001b[1;33m\u001b[0m\u001b[1;33m\u001b[0m\u001b[0m\n\u001b[0m\u001b[0;32m    411\u001b[0m \u001b[1;33m\u001b[0m\u001b[0m\n\u001b[0;32m    412\u001b[0m     \u001b[1;32mdef\u001b[0m \u001b[0mfind_element_by_link_text\u001b[0m\u001b[1;33m(\u001b[0m\u001b[0mself\u001b[0m\u001b[1;33m,\u001b[0m \u001b[0mlink_text\u001b[0m\u001b[1;33m)\u001b[0m\u001b[1;33m:\u001b[0m\u001b[1;33m\u001b[0m\u001b[1;33m\u001b[0m\u001b[0m\n",
      "\u001b[1;32m~\\anaconda3\\lib\\site-packages\\selenium\\webdriver\\remote\\webdriver.py\u001b[0m in \u001b[0;36mfind_elements\u001b[1;34m(self, by, value)\u001b[0m\n\u001b[0;32m   1003\u001b[0m         \u001b[1;31m# Return empty list if driver returns null\u001b[0m\u001b[1;33m\u001b[0m\u001b[1;33m\u001b[0m\u001b[1;33m\u001b[0m\u001b[0m\n\u001b[0;32m   1004\u001b[0m         \u001b[1;31m# See https://github.com/SeleniumHQ/selenium/issues/4555\u001b[0m\u001b[1;33m\u001b[0m\u001b[1;33m\u001b[0m\u001b[1;33m\u001b[0m\u001b[0m\n\u001b[1;32m-> 1005\u001b[1;33m         return self.execute(Command.FIND_ELEMENTS, {\n\u001b[0m\u001b[0;32m   1006\u001b[0m             \u001b[1;34m'using'\u001b[0m\u001b[1;33m:\u001b[0m \u001b[0mby\u001b[0m\u001b[1;33m,\u001b[0m\u001b[1;33m\u001b[0m\u001b[1;33m\u001b[0m\u001b[0m\n\u001b[0;32m   1007\u001b[0m             'value': value})['value'] or []\n",
      "\u001b[1;32m~\\anaconda3\\lib\\site-packages\\selenium\\webdriver\\remote\\webdriver.py\u001b[0m in \u001b[0;36mexecute\u001b[1;34m(self, driver_command, params)\u001b[0m\n\u001b[0;32m    319\u001b[0m         \u001b[0mresponse\u001b[0m \u001b[1;33m=\u001b[0m \u001b[0mself\u001b[0m\u001b[1;33m.\u001b[0m\u001b[0mcommand_executor\u001b[0m\u001b[1;33m.\u001b[0m\u001b[0mexecute\u001b[0m\u001b[1;33m(\u001b[0m\u001b[0mdriver_command\u001b[0m\u001b[1;33m,\u001b[0m \u001b[0mparams\u001b[0m\u001b[1;33m)\u001b[0m\u001b[1;33m\u001b[0m\u001b[1;33m\u001b[0m\u001b[0m\n\u001b[0;32m    320\u001b[0m         \u001b[1;32mif\u001b[0m \u001b[0mresponse\u001b[0m\u001b[1;33m:\u001b[0m\u001b[1;33m\u001b[0m\u001b[1;33m\u001b[0m\u001b[0m\n\u001b[1;32m--> 321\u001b[1;33m             \u001b[0mself\u001b[0m\u001b[1;33m.\u001b[0m\u001b[0merror_handler\u001b[0m\u001b[1;33m.\u001b[0m\u001b[0mcheck_response\u001b[0m\u001b[1;33m(\u001b[0m\u001b[0mresponse\u001b[0m\u001b[1;33m)\u001b[0m\u001b[1;33m\u001b[0m\u001b[1;33m\u001b[0m\u001b[0m\n\u001b[0m\u001b[0;32m    322\u001b[0m             response['value'] = self._unwrap_value(\n\u001b[0;32m    323\u001b[0m                 response.get('value', None))\n",
      "\u001b[1;32m~\\anaconda3\\lib\\site-packages\\selenium\\webdriver\\remote\\errorhandler.py\u001b[0m in \u001b[0;36mcheck_response\u001b[1;34m(self, response)\u001b[0m\n\u001b[0;32m    240\u001b[0m                 \u001b[0malert_text\u001b[0m \u001b[1;33m=\u001b[0m \u001b[0mvalue\u001b[0m\u001b[1;33m[\u001b[0m\u001b[1;34m'alert'\u001b[0m\u001b[1;33m]\u001b[0m\u001b[1;33m.\u001b[0m\u001b[0mget\u001b[0m\u001b[1;33m(\u001b[0m\u001b[1;34m'text'\u001b[0m\u001b[1;33m)\u001b[0m\u001b[1;33m\u001b[0m\u001b[1;33m\u001b[0m\u001b[0m\n\u001b[0;32m    241\u001b[0m             \u001b[1;32mraise\u001b[0m \u001b[0mexception_class\u001b[0m\u001b[1;33m(\u001b[0m\u001b[0mmessage\u001b[0m\u001b[1;33m,\u001b[0m \u001b[0mscreen\u001b[0m\u001b[1;33m,\u001b[0m \u001b[0mstacktrace\u001b[0m\u001b[1;33m,\u001b[0m \u001b[0malert_text\u001b[0m\u001b[1;33m)\u001b[0m\u001b[1;33m\u001b[0m\u001b[1;33m\u001b[0m\u001b[0m\n\u001b[1;32m--> 242\u001b[1;33m         \u001b[1;32mraise\u001b[0m \u001b[0mexception_class\u001b[0m\u001b[1;33m(\u001b[0m\u001b[0mmessage\u001b[0m\u001b[1;33m,\u001b[0m \u001b[0mscreen\u001b[0m\u001b[1;33m,\u001b[0m \u001b[0mstacktrace\u001b[0m\u001b[1;33m)\u001b[0m\u001b[1;33m\u001b[0m\u001b[1;33m\u001b[0m\u001b[0m\n\u001b[0m\u001b[0;32m    243\u001b[0m \u001b[1;33m\u001b[0m\u001b[0m\n\u001b[0;32m    244\u001b[0m     \u001b[1;32mdef\u001b[0m \u001b[0m_value_or_default\u001b[0m\u001b[1;33m(\u001b[0m\u001b[0mself\u001b[0m\u001b[1;33m,\u001b[0m \u001b[0mobj\u001b[0m\u001b[1;33m,\u001b[0m \u001b[0mkey\u001b[0m\u001b[1;33m,\u001b[0m \u001b[0mdefault\u001b[0m\u001b[1;33m)\u001b[0m\u001b[1;33m:\u001b[0m\u001b[1;33m\u001b[0m\u001b[1;33m\u001b[0m\u001b[0m\n",
      "\u001b[1;31mInvalidSelectorException\u001b[0m: Message: invalid selector: Unable to locate an element with the xpath expression //i[@class='fleft naukicon naukicon-checkbox']::/i because of the following error:\nSyntaxError: Failed to execute 'evaluate' on 'Document': The string '//i[@class='fleft naukicon naukicon-checkbox']::/i' is not a valid XPath expression.\n  (Session info: chrome=90.0.4430.212)\n"
     ]
    }
   ],
   "source": [
    "filter_location=driver.find_elements_by_xpath(\"//i[@class='fleft naukicon naukicon-checkbox']::/i\")\n",
    "for i in filter_location:\n",
    "    if i.text=='New Delhi':\n",
    "        i.click()\n",
    "        break\n"
   ]
  },
  {
   "cell_type": "code",
   "execution_count": null,
   "metadata": {},
   "outputs": [],
   "source": [
    "salary=driver.find_element_by_xpath(\"//ispan[@class='fleft naukicon naukicon-checkbox']/span\")\n",
    "salary.click()"
   ]
  },
  {
   "cell_type": "code",
   "execution_count": null,
   "metadata": {},
   "outputs": [],
   "source": []
  },
  {
   "cell_type": "markdown",
   "metadata": {},
   "source": [
    "# Question 4"
   ]
  },
  {
   "cell_type": "code",
   "execution_count": null,
   "metadata": {},
   "outputs": [],
   "source": [
    "import selenium\n",
    "import pandas as pd\n",
    "from selenium import webdriver\n",
    "from selenium.webdriver.common.keys import Keys\n",
    "from selenium.webdriver.support import expected_conditions as EC\n",
    "from selenium.webdriver.common.by import By\n",
    "from selenium.webdriver.support.wait import WebDriverWait\n",
    "import time"
   ]
  },
  {
   "cell_type": "code",
   "execution_count": null,
   "metadata": {},
   "outputs": [],
   "source": [
    "driver= webdriver.Chrome(\"C:/Users/Techitfirst/Desktop/Abhinay/chromedriver.exe\")\n",
    "url='https://www.glassdoor.co.in/member/profile/index.htm'\n",
    "driver.get(url)"
   ]
  },
  {
   "cell_type": "code",
   "execution_count": null,
   "metadata": {},
   "outputs": [],
   "source": [
    "#sign_in=driver.find_element_by_xpath(\"//button[@class='d-flex align-items-center justify-content-center order-1 order-md-2 mr-auto mr-md-0 p-0 LockedHomeHeaderStyles__signInButton']/span\")\n",
    "#sign_in this code didn't work\n"
   ]
  },
  {
   "cell_type": "code",
   "execution_count": null,
   "metadata": {},
   "outputs": [],
   "source": [
    "#login=driver.find_element_by_xpath(\"//button[@class='d-flex justify-content-center order-1 order-md-2 LockedHomeHeaderStyles__flexibleContainer']\")\n",
    "#login    this code didn't work"
   ]
  },
  {
   "cell_type": "code",
   "execution_count": null,
   "metadata": {},
   "outputs": [],
   "source": [
    "wait = WebDriverWait(driver, 10)\n"
   ]
  },
  {
   "cell_type": "code",
   "execution_count": null,
   "metadata": {},
   "outputs": [],
   "source": [
    "#EmailAddress= WebDriverWait(driver, 10).until(EC.element_to_be_clickable((By.CSS_SELECTOR,\"input[type='email']\")))\n",
    "#button = WebDriverWait(driver, 5).until(EC.element_to_be_clickable((By.CSS_SELECTOR,\"input[type='button']\")))\n",
    "#Password= WebDriverWait(driver, 10).until(EC.element_to_be_clickable((By.CSS_SELECTOR,\"input[name='VfPpkd-RLmnJb']\")))\n",
    "\n",
    "#EmailAddress.clear()\n",
    "#Password.clear()\n",
    "#EmailAddress.send_keys('sontakketanmay@gmail.com')\n",
    "#Password.send_keys('ab12cd34')\n",
    "\n",
    "#button = WebDriverWait(driver, 5).until(EC.element_to_be_clickable((By.CSS_SELECTOR,\"input[type='submit']\")))"
   ]
  },
  {
   "cell_type": "code",
   "execution_count": null,
   "metadata": {},
   "outputs": [],
   "source": [
    "search_job=driver.find_elements_by_id('scKeyword')\n",
    "search_job"
   ]
  },
  {
   "cell_type": "code",
   "execution_count": null,
   "metadata": {},
   "outputs": [],
   "source": [
    "search_job[0].send_keys(\"Data Scientist\")"
   ]
  },
  {
   "cell_type": "code",
   "execution_count": null,
   "metadata": {},
   "outputs": [],
   "source": [
    "arrow=driver.find_elements_by_xpath(\"//span[@class='SVGInline d-flex SearchStyles__colorDefault']\")\n",
    "arrow"
   ]
  },
  {
   "cell_type": "code",
   "execution_count": null,
   "metadata": {},
   "outputs": [],
   "source": [
    "#@Unable to proceed further as it keeps asking for loh=gin and page is not reachable error from chrome, initially it work for first time smoothly but then it stop working when tried to restart."
   ]
  },
  {
   "cell_type": "code",
   "execution_count": null,
   "metadata": {},
   "outputs": [],
   "source": []
  },
  {
   "cell_type": "code",
   "execution_count": null,
   "metadata": {},
   "outputs": [],
   "source": []
  },
  {
   "cell_type": "markdown",
   "metadata": {},
   "source": [
    "# Question 5"
   ]
  },
  {
   "cell_type": "code",
   "execution_count": 383,
   "metadata": {},
   "outputs": [],
   "source": [
    " #https://www.glassdoor.co.in/Salaries/index.htm\n",
    "        \n",
    "driver= webdriver.Chrome(\"C:/Users/Techitfirst/Desktop/Abhinay/chromedriver.exe\")\n",
    "url='https://www.glassdoor.co.in/Salaries/index.htm'\n",
    "driver.get(url)"
   ]
  },
  {
   "cell_type": "code",
   "execution_count": 384,
   "metadata": {},
   "outputs": [
    {
     "data": {
      "text/plain": [
       "<selenium.webdriver.remote.webelement.WebElement (session=\"d1e4d2c70ac839f2b513e914b65b202b\", element=\"38d0830b-d93e-47e0-b3f2-409df36f3d96\")>"
      ]
     },
     "execution_count": 384,
     "metadata": {},
     "output_type": "execute_result"
    }
   ],
   "source": [
    "search_job2=driver.find_element_by_name('sc.keyword')\n",
    "search_job2"
   ]
  },
  {
   "cell_type": "code",
   "execution_count": 385,
   "metadata": {},
   "outputs": [],
   "source": [
    "search_job2.clear()\n",
    "search_job2.send_keys('Data Scientist')"
   ]
  },
  {
   "cell_type": "code",
   "execution_count": 386,
   "metadata": {},
   "outputs": [
    {
     "data": {
      "text/plain": [
       "<selenium.webdriver.remote.webelement.WebElement (session=\"d1e4d2c70ac839f2b513e914b65b202b\", element=\"b36dc933-b46a-4053-89ab-910a01f80973\")>"
      ]
     },
     "execution_count": 386,
     "metadata": {},
     "output_type": "execute_result"
    }
   ],
   "source": [
    "search_location2=driver.find_element_by_xpath(\"//input[@id='LocationSearch']\")\n",
    "search_location2"
   ]
  },
  {
   "cell_type": "code",
   "execution_count": 387,
   "metadata": {},
   "outputs": [],
   "source": [
    "search_location2.clear()\n",
    "search_location2.send_keys('Noida')"
   ]
  },
  {
   "cell_type": "code",
   "execution_count": 388,
   "metadata": {},
   "outputs": [],
   "source": [
    "search1=driver.find_element_by_xpath(\"//button[@class='gd-btn-mkt']\")\n",
    "search1.click()"
   ]
  },
  {
   "cell_type": "code",
   "execution_count": 418,
   "metadata": {},
   "outputs": [],
   "source": [
    "min_and_max_salary=[]\n",
    "\n",
    "for i in driver.find_elements_by_xpath(\"//p[@class='d-block d-md-none m-0']\"):\n",
    "    min_and_max_salary.append(i.text)"
   ]
  },
  {
   "cell_type": "code",
   "execution_count": 419,
   "metadata": {},
   "outputs": [
    {
     "data": {
      "text/plain": [
       "['₹ 6,14,306/yr',\n",
       " '₹ 9,00,000/yr',\n",
       " '₹ 11,46,533/yr',\n",
       " '₹ 7,38,057/yr',\n",
       " '₹ 12,39,781/yr',\n",
       " '₹ 13,36,142/yr',\n",
       " '₹ 8,15,192/yr',\n",
       " '₹ 11,35,221/yr',\n",
       " '₹ 11,44,243/yr',\n",
       " '₹ 14,13,288/yr']"
      ]
     },
     "execution_count": 419,
     "metadata": {},
     "output_type": "execute_result"
    }
   ],
   "source": [
    "min_and_max_salary[:10]"
   ]
  },
  {
   "cell_type": "code",
   "execution_count": 420,
   "metadata": {},
   "outputs": [],
   "source": [
    "company_list=[]\n",
    "\n",
    "for i in driver.find_elements_by_xpath(\"//p[@class='m-0']\"):\n",
    "    company_list.append(i.get_attribute(\"href\"))\n",
    "    company_list.append(i.text)"
   ]
  },
  {
   "cell_type": "code",
   "execution_count": 421,
   "metadata": {},
   "outputs": [
    {
     "data": {
      "text/plain": [
       "[None,\n",
       " 'Data Scientist',\n",
       " None,\n",
       " 'See 131 salaries from all locations',\n",
       " None,\n",
       " 'Data Scientist',\n",
       " None,\n",
       " 'See 117 salaries from all locations',\n",
       " None,\n",
       " 'Data Scientist']"
      ]
     },
     "execution_count": 421,
     "metadata": {},
     "output_type": "execute_result"
    }
   ],
   "source": [
    "company_list[:10]"
   ]
  },
  {
   "cell_type": "code",
   "execution_count": 422,
   "metadata": {},
   "outputs": [],
   "source": [
    "Average_salary=[]\n",
    "\n",
    "for i in driver.find_elements_by_xpath(\"//p[@class='d-block d-md-none m-0']\"):\n",
    "    Average_salary.append(i.text)"
   ]
  },
  {
   "cell_type": "code",
   "execution_count": 423,
   "metadata": {},
   "outputs": [
    {
     "data": {
      "text/plain": [
       "['₹ 6,14,306/yr',\n",
       " '₹ 9,00,000/yr',\n",
       " '₹ 11,46,533/yr',\n",
       " '₹ 7,38,057/yr',\n",
       " '₹ 12,39,781/yr',\n",
       " '₹ 13,36,142/yr',\n",
       " '₹ 8,15,192/yr',\n",
       " '₹ 11,35,221/yr',\n",
       " '₹ 11,44,243/yr',\n",
       " '₹ 14,13,288/yr']"
      ]
     },
     "execution_count": 423,
     "metadata": {},
     "output_type": "execute_result"
    }
   ],
   "source": [
    "Average_salary[:10]"
   ]
  },
  {
   "cell_type": "code",
   "execution_count": 424,
   "metadata": {},
   "outputs": [
    {
     "data": {
      "text/html": [
       "<div>\n",
       "<style scoped>\n",
       "    .dataframe tbody tr th:only-of-type {\n",
       "        vertical-align: middle;\n",
       "    }\n",
       "\n",
       "    .dataframe tbody tr th {\n",
       "        vertical-align: top;\n",
       "    }\n",
       "\n",
       "    .dataframe thead th {\n",
       "        text-align: right;\n",
       "    }\n",
       "</style>\n",
       "<table border=\"1\" class=\"dataframe\">\n",
       "  <thead>\n",
       "    <tr style=\"text-align: right;\">\n",
       "      <th></th>\n",
       "      <th>Company Name</th>\n",
       "      <th>Min&amp;Max Salary</th>\n",
       "      <th>Average Salary</th>\n",
       "    </tr>\n",
       "  </thead>\n",
       "  <tbody>\n",
       "    <tr>\n",
       "      <th>0</th>\n",
       "      <td>None</td>\n",
       "      <td>₹ 6,14,306/yr</td>\n",
       "      <td>₹ 6,14,306/yr</td>\n",
       "    </tr>\n",
       "    <tr>\n",
       "      <th>1</th>\n",
       "      <td>Data Scientist</td>\n",
       "      <td>₹ 9,00,000/yr</td>\n",
       "      <td>₹ 9,00,000/yr</td>\n",
       "    </tr>\n",
       "    <tr>\n",
       "      <th>2</th>\n",
       "      <td>None</td>\n",
       "      <td>₹ 11,46,533/yr</td>\n",
       "      <td>₹ 11,46,533/yr</td>\n",
       "    </tr>\n",
       "    <tr>\n",
       "      <th>3</th>\n",
       "      <td>See 131 salaries from all locations</td>\n",
       "      <td>₹ 7,38,057/yr</td>\n",
       "      <td>₹ 7,38,057/yr</td>\n",
       "    </tr>\n",
       "    <tr>\n",
       "      <th>4</th>\n",
       "      <td>None</td>\n",
       "      <td>₹ 12,39,781/yr</td>\n",
       "      <td>₹ 12,39,781/yr</td>\n",
       "    </tr>\n",
       "    <tr>\n",
       "      <th>5</th>\n",
       "      <td>Data Scientist</td>\n",
       "      <td>₹ 13,36,142/yr</td>\n",
       "      <td>₹ 13,36,142/yr</td>\n",
       "    </tr>\n",
       "    <tr>\n",
       "      <th>6</th>\n",
       "      <td>None</td>\n",
       "      <td>₹ 8,15,192/yr</td>\n",
       "      <td>₹ 8,15,192/yr</td>\n",
       "    </tr>\n",
       "    <tr>\n",
       "      <th>7</th>\n",
       "      <td>See 117 salaries from all locations</td>\n",
       "      <td>₹ 11,35,221/yr</td>\n",
       "      <td>₹ 11,35,221/yr</td>\n",
       "    </tr>\n",
       "    <tr>\n",
       "      <th>8</th>\n",
       "      <td>None</td>\n",
       "      <td>₹ 11,44,243/yr</td>\n",
       "      <td>₹ 11,44,243/yr</td>\n",
       "    </tr>\n",
       "    <tr>\n",
       "      <th>9</th>\n",
       "      <td>Data Scientist</td>\n",
       "      <td>₹ 14,13,288/yr</td>\n",
       "      <td>₹ 14,13,288/yr</td>\n",
       "    </tr>\n",
       "  </tbody>\n",
       "</table>\n",
       "</div>"
      ],
      "text/plain": [
       "                          Company Name  Min&Max Salary  Average Salary\n",
       "0                                 None   ₹ 6,14,306/yr   ₹ 6,14,306/yr\n",
       "1                       Data Scientist   ₹ 9,00,000/yr   ₹ 9,00,000/yr\n",
       "2                                 None  ₹ 11,46,533/yr  ₹ 11,46,533/yr\n",
       "3  See 131 salaries from all locations   ₹ 7,38,057/yr   ₹ 7,38,057/yr\n",
       "4                                 None  ₹ 12,39,781/yr  ₹ 12,39,781/yr\n",
       "5                       Data Scientist  ₹ 13,36,142/yr  ₹ 13,36,142/yr\n",
       "6                                 None   ₹ 8,15,192/yr   ₹ 8,15,192/yr\n",
       "7  See 117 salaries from all locations  ₹ 11,35,221/yr  ₹ 11,35,221/yr\n",
       "8                                 None  ₹ 11,44,243/yr  ₹ 11,44,243/yr\n",
       "9                       Data Scientist  ₹ 14,13,288/yr  ₹ 14,13,288/yr"
      ]
     },
     "execution_count": 424,
     "metadata": {},
     "output_type": "execute_result"
    }
   ],
   "source": [
    "import pandas as pd\n",
    "Top_GDJobs=pd.DataFrame({})\n",
    "Top_GDJobs['Company Name']= company_list[:10]\n",
    "Top_GDJobs['Min&Max Salary']=min_and_max_salary[:10]\n",
    "Top_GDJobs['Average Salary']=Average_salary[:10]\n",
    "Top_GDJobs"
   ]
  },
  {
   "cell_type": "code",
   "execution_count": 425,
   "metadata": {},
   "outputs": [],
   "source": [
    "# Something went wrong unable o fetch company name insted getting as sbove dataframe."
   ]
  },
  {
   "cell_type": "code",
   "execution_count": null,
   "metadata": {},
   "outputs": [],
   "source": []
  },
  {
   "cell_type": "markdown",
   "metadata": {},
   "source": [
    "# Question 6"
   ]
  },
  {
   "cell_type": "code",
   "execution_count": null,
   "metadata": {},
   "outputs": [],
   "source": []
  },
  {
   "cell_type": "code",
   "execution_count": 440,
   "metadata": {},
   "outputs": [],
   "source": [
    "driver= webdriver.Chrome(\"C:/Users/Techitfirst/Desktop/Abhinay/chromedriver.exe\")\n",
    "url='https://www.flipkart.com/'\n",
    "driver.get(url)"
   ]
  },
  {
   "cell_type": "code",
   "execution_count": 441,
   "metadata": {},
   "outputs": [],
   "source": [
    "#closing the window where it ask to login(skipping the login)\n",
    "close=driver.find_element_by_xpath(\"//button[@class='_2KpZ6l _2doB4z']\")\n",
    "close.click()"
   ]
  },
  {
   "cell_type": "code",
   "execution_count": 442,
   "metadata": {},
   "outputs": [],
   "source": [
    "#searching the sunglasses\n",
    "search_glasses=driver.find_element_by_xpath(\"//input[@title='Search for products, brands and more']\")\n"
   ]
  },
  {
   "cell_type": "code",
   "execution_count": 443,
   "metadata": {},
   "outputs": [],
   "source": [
    "search_glasses.send_keys(\"Sunglasses\")"
   ]
  },
  {
   "cell_type": "code",
   "execution_count": 450,
   "metadata": {},
   "outputs": [],
   "source": [
    "#clicking on the search icon for results.\n",
    "\n",
    "search_icon=driver.find_element_by_xpath(\"//button[@type='submit']\")\n",
    "search_icon.click()"
   ]
  },
  {
   "cell_type": "code",
   "execution_count": 456,
   "metadata": {},
   "outputs": [],
   "source": [
    "\n",
    "brand=[]\n",
    "\n",
    "for i in driver.find_elements_by_xpath(\"//div[@class='_2WkVRV']\"):\n",
    "    brand.append(i.text)\n",
    "    \n"
   ]
  },
  {
   "cell_type": "code",
   "execution_count": 457,
   "metadata": {},
   "outputs": [
    {
     "data": {
      "text/plain": [
       "['ROYAL SON',\n",
       " 'NuVew',\n",
       " 'Fastrack',\n",
       " 'Fastrack',\n",
       " 'PIRASO',\n",
       " 'Fastrack',\n",
       " 'NuVew',\n",
       " 'DEIXELS',\n",
       " 'PIRASO',\n",
       " 'Fastrack',\n",
       " 'ROZZETTA CRAFT',\n",
       " 'Fastrack',\n",
       " 'PHENOMENAL',\n",
       " 'AISLIN',\n",
       " 'HIPPON',\n",
       " 'GANSTA',\n",
       " 'Singco India',\n",
       " 'Fastrack',\n",
       " 'Singco India',\n",
       " 'NuVew',\n",
       " 'Fastrack',\n",
       " 'ROZZETTA CRAFT',\n",
       " 'Singco India',\n",
       " 'AISLIN',\n",
       " 'DEIXELS',\n",
       " 'GANSTA',\n",
       " 'ROYAL SON',\n",
       " 'ROZZETTA CRAFT',\n",
       " 'Silver Kartz',\n",
       " 'FOSSIL',\n",
       " 'Fastrack',\n",
       " 'ROZZETTA CRAFT',\n",
       " 'hipe',\n",
       " 'AISLIN',\n",
       " 'Fastrack',\n",
       " 'Silver Kartz',\n",
       " 'hipe',\n",
       " 'ROZZETTA CRAFT',\n",
       " 'PHENOMENAL',\n",
       " 'AISLIN']"
      ]
     },
     "execution_count": 457,
     "metadata": {},
     "output_type": "execute_result"
    }
   ],
   "source": [
    "brand"
   ]
  },
  {
   "cell_type": "code",
   "execution_count": 470,
   "metadata": {},
   "outputs": [],
   "source": [
    "description=[]\n",
    "\n",
    "for i in driver.find_elements_by_xpath(\"//a[@class='IRpwTa']\"):\n",
    "    description.append(i.get_attribute(\"href\"))\n",
    "    description.append(i.text)\n"
   ]
  },
  {
   "cell_type": "code",
   "execution_count": 518,
   "metadata": {},
   "outputs": [
    {
     "data": {
      "text/plain": [
       "['https://www.flipkart.com/nuvew-aviator-sunglasses/p/itm1e7d6811259ea?pid=SGLFKJVTXGSXFHRT&lid=LSTSGLFKJVTXGSXFHRTVJPKYD&marketplace=FLIPKART&q=Sunglasses&store=26x&srno=s_1_2&otracker=search&otracker1=search&fm=SEARCH&iid=en_o%2BrNyCbtsp5wox6Yp2QIVCRpN2emFCTL4wCU%2BsPjMqR8GCEn1ymh4XegHTRoyBNC5klmBKp9c1x%2FHZpAItBhpg%3D%3D&ppt=sp&ppn=sp&ssid=pe4mu2kzk00000001621765656561&qH=0ff7a11a5902c9f7',\n",
       " 'UV Protection Aviator Sunglasses (57)',\n",
       " 'https://www.flipkart.com/fastrack-rectangular-sunglasses/p/itmf3yhd8wephwxh?pid=SGLES2WMF6CH5GYF&lid=LSTSGLES2WMF6CH5GYFXRVSZN&marketplace=FLIPKART&q=Sunglasses&store=26x&srno=s_1_3&otracker=search&otracker1=search&fm=SEARCH&iid=2c729df7-6ee2-473f-a512-589a1bf36c1b.SGLES2WMF6CH5GYF.SEARCH&ppt=sp&ppn=sp&ssid=pe4mu2kzk00000001621765656561&qH=0ff7a11a5902c9f7',\n",
       " 'UV Protection Rectangular Sunglasses (Free Size)',\n",
       " 'https://www.flipkart.com/fastrack-wayfarer-sunglasses/p/itmf79dqccyjbdez?pid=SGLF79DQNHPY9N6U&lid=LSTSGLF79DQNHPY9N6UHBMJVE&marketplace=FLIPKART&q=Sunglasses&store=26x&srno=s_1_4&otracker=search&otracker1=search&fm=SEARCH&iid=2c729df7-6ee2-473f-a512-589a1bf36c1b.SGLF79DQNHPY9N6U.SEARCH&ppt=sp&ppn=sp&ssid=pe4mu2kzk00000001621765656561&qH=0ff7a11a5902c9f7',\n",
       " 'UV Protection Wayfarer Sunglasses (Free Size)',\n",
       " 'https://www.flipkart.com/piraso-aviator-sunglasses/p/itme10cb1c3329df?pid=SGLFZGE6GMSXZGRP&lid=LSTSGLFZGE6GMSXZGRPN2FYWJ&marketplace=FLIPKART&q=Sunglasses&store=26x&srno=s_1_5&otracker=search&otracker1=search&fm=SEARCH&iid=2c729df7-6ee2-473f-a512-589a1bf36c1b.SGLFZGE6GMSXZGRP.SEARCH&ppt=sp&ppn=sp&ssid=pe4mu2kzk00000001621765656561&qH=0ff7a11a5902c9f7',\n",
       " 'UV Protection Aviator Sunglasses (Free Size)',\n",
       " 'https://www.flipkart.com/fastrack-wayfarer-sunglasses/p/itmf79dqjqucq9f3?pid=SGLF79DQR8NQAT2W&lid=LSTSGLF79DQR8NQAT2W0MLSHN&marketplace=FLIPKART&q=Sunglasses&store=26x&spotlightTagId=BestsellerId_26x&srno=s_1_6&otracker=search&otracker1=search&fm=SEARCH&iid=2c729df7-6ee2-473f-a512-589a1bf36c1b.SGLF79DQR8NQAT2W.SEARCH&ppt=sp&ppn=sp&ssid=pe4mu2kzk00000001621765656561&qH=0ff7a11a5902c9f7',\n",
       " 'UV Protection Wayfarer Sunglasses (Free Size)',\n",
       " 'https://www.flipkart.com/nuvew-aviator-sunglasses/p/itm1b5c5bd8eee84?pid=SGLFKJW39ZRP8MYU&lid=LSTSGLFKJW39ZRP8MYUANUM4Q&marketplace=FLIPKART&q=Sunglasses&store=26x&srno=s_1_7&otracker=search&otracker1=search&fm=SEARCH&iid=2c729df7-6ee2-473f-a512-589a1bf36c1b.SGLFKJW39ZRP8MYU.SEARCH&ppt=sp&ppn=sp&ssid=pe4mu2kzk00000001621765656561&qH=0ff7a11a5902c9f7',\n",
       " 'UV Protection Aviator Sunglasses (58)',\n",
       " 'https://www.flipkart.com/deixels-aviator-wayfarer-sunglasses/p/itmf3yke7n2axuym?pid=SGLF2YZXCDM6QACV&lid=LSTSGLF2YZXCDM6QACV8HRV24&marketplace=FLIPKART&q=Sunglasses&store=26x&srno=s_1_8&otracker=search&otracker1=search&fm=SEARCH&iid=2c729df7-6ee2-473f-a512-589a1bf36c1b.SGLF2YZXCDM6QACV.SEARCH&ppt=sp&ppn=sp&ssid=pe4mu2kzk00000001621765656561&qH=0ff7a11a5902c9f7',\n",
       " 'UV Protection Aviator, Wayfarer Sunglasses (Free Size)',\n",
       " 'https://www.flipkart.com/piraso-aviator-sunglasses/p/itm70504d13b7992?pid=SGLFV8YYCEA8RWAC&lid=LSTSGLFV8YYCEA8RWACIACICJ&marketplace=FLIPKART&q=Sunglasses&store=26x&srno=s_1_9&otracker=search&otracker1=search&fm=SEARCH&iid=2c729df7-6ee2-473f-a512-589a1bf36c1b.SGLFV8YYCEA8RWAC.SEARCH&ppt=hp&ppn=homepage&ssid=pe4mu2kzk00000001621765656561&qH=0ff7a11a5902c9f7',\n",
       " 'UV Protection Aviator Sunglasses (54)',\n",
       " 'https://www.flipkart.com/fastrack-aviator-sunglasses/p/itmf79dqewt9sf6d?pid=SGLF79DQGP7E4G2P&lid=LSTSGLF79DQGP7E4G2PYP2PGG&marketplace=FLIPKART&q=Sunglasses&store=26x&srno=s_1_10&otracker=search&otracker1=search&fm=SEARCH&iid=2c729df7-6ee2-473f-a512-589a1bf36c1b.SGLF79DQGP7E4G2P.SEARCH&ppt=hp&ppn=homepage&ssid=pe4mu2kzk00000001621765656561&qH=0ff7a11a5902c9f7',\n",
       " 'UV Protection Aviator Sunglasses (Free Size)',\n",
       " 'https://www.flipkart.com/rozzetta-craft-retro-square-sunglasses/p/itmfd05447fa5361?pid=SGLFZ2YCQ7UQ3XBQ&lid=LSTSGLFZ2YCQ7UQ3XBQRG02II&marketplace=FLIPKART&q=Sunglasses&store=26x&srno=s_1_11&otracker=search&otracker1=search&fm=SEARCH&iid=2c729df7-6ee2-473f-a512-589a1bf36c1b.SGLFZ2YCQ7UQ3XBQ.SEARCH&ppt=sp&ppn=sp&ssid=pe4mu2kzk00000001621765656561&qH=0ff7a11a5902c9f7',\n",
       " 'UV Protection Retro Square Sunglasses (Free Size)',\n",
       " 'https://www.flipkart.com/fastrack-wayfarer-sunglasses/p/itm04d9621b98c78?pid=SGLFG94C8PAHZ3SH&lid=LSTSGLFG94C8PAHZ3SHAFCJXO&marketplace=FLIPKART&q=Sunglasses&store=26x&srno=s_1_12&otracker=search&otracker1=search&fm=SEARCH&iid=2c729df7-6ee2-473f-a512-589a1bf36c1b.SGLFG94C8PAHZ3SH.SEARCH&ppt=sp&ppn=sp&ssid=pe4mu2kzk00000001621765656561&qH=0ff7a11a5902c9f7',\n",
       " 'Gradient, UV Protection Wayfarer Sunglasses (Free Size)',\n",
       " 'https://www.flipkart.com/phenomenal-retro-square-sunglasses/p/itm1ead9ddbbb3d8?pid=SGLFUBFWNBFEAVD3&lid=LSTSGLFUBFWNBFEAVD31E0HIC&marketplace=FLIPKART&q=Sunglasses&store=26x&srno=s_1_13&otracker=search&otracker1=search&fm=SEARCH&iid=2c729df7-6ee2-473f-a512-589a1bf36c1b.SGLFUBFWNBFEAVD3.SEARCH&ppt=hp&ppn=homepage&ssid=pe4mu2kzk00000001621765656561&qH=0ff7a11a5902c9f7',\n",
       " 'UV Protection, Mirrored Retro Square Sunglasses (53)',\n",
       " 'https://www.flipkart.com/aislin-wayfarer-sunglasses/p/itm2da5b04de7829?pid=SGLFRHGYWZGBFNVP&lid=LSTSGLFRHGYWZGBFNVPHODJAQ&marketplace=FLIPKART&q=Sunglasses&store=26x&srno=s_1_14&otracker=search&otracker1=search&fm=SEARCH&iid=en_o%2BrNyCbtsp5wox6Yp2QIVCRpN2emFCTL4wCU%2BsPjMqRtMge22eYpn3bv5RhCt%2F8ubCrfMh6uO%2BcmLbYzglz5tQ%3D%3D&ppt=hp&ppn=homepage&ssid=pe4mu2kzk00000001621765656561&qH=0ff7a11a5902c9f7',\n",
       " 'Polarized, UV Protection Wayfarer Sunglasses (52)',\n",
       " 'https://www.flipkart.com/hippon-wayfarer-sunglasses/p/itm05550ccebbf7b?pid=SGLFHPMMVHHGWKNG&lid=LSTSGLFHPMMVHHGWKNG1S9QVG&marketplace=FLIPKART&q=Sunglasses&store=26x&srno=s_1_15&otracker=search&otracker1=search&fm=SEARCH&iid=2c729df7-6ee2-473f-a512-589a1bf36c1b.SGLFHPMMVHHGWKNG.SEARCH&ppt=sp&ppn=sp&ssid=pe4mu2kzk00000001621765656561&qH=0ff7a11a5902c9f7',\n",
       " 'UV Protection Wayfarer Sunglasses (55)',\n",
       " 'https://www.flipkart.com/gansta-aviator-sunglasses/p/itmf7hmfp5r8hcdb?pid=SGLF7HGZKHHSTQ8H&lid=LSTSGLF7HGZKHHSTQ8H5VK4WX&marketplace=FLIPKART&q=Sunglasses&store=26x&srno=s_1_16&otracker=search&otracker1=search&fm=SEARCH&iid=2c729df7-6ee2-473f-a512-589a1bf36c1b.SGLF7HGZKHHSTQ8H.SEARCH&ppt=sp&ppn=sp&ssid=pe4mu2kzk00000001621765656561&qH=0ff7a11a5902c9f7',\n",
       " 'UV Protection Aviator Sunglasses (57)',\n",
       " 'https://www.flipkart.com/singco-india-sports-sunglasses/p/itmb6d550eb0932b?pid=SGLFVYKGREY28QVK&lid=LSTSGLFVYKGREY28QVKRAX3RH&marketplace=FLIPKART&q=Sunglasses&store=26x&srno=s_1_17&otracker=search&otracker1=search&fm=SEARCH&iid=2c729df7-6ee2-473f-a512-589a1bf36c1b.SGLFVYKGREY28QVK.SEARCH&ppt=hp&ppn=homepage&ssid=pe4mu2kzk00000001621765656561&qH=0ff7a11a5902c9f7',\n",
       " 'Mirrored, Riding Glasses, Others Sports Sunglasses (50)',\n",
       " 'https://www.flipkart.com/fastrack-wayfarer-sunglasses/p/itmc6bf8824b7f87?pid=SGLFG94CQZ4AYS2F&lid=LSTSGLFG94CQZ4AYS2FQ3AXTH&marketplace=FLIPKART&q=Sunglasses&store=26x&srno=s_1_18&otracker=search&otracker1=search&fm=SEARCH&iid=2c729df7-6ee2-473f-a512-589a1bf36c1b.SGLFG94CQZ4AYS2F.SEARCH&ppt=hp&ppn=homepage&ssid=pe4mu2kzk00000001621765656561&qH=0ff7a11a5902c9f7',\n",
       " 'Gradient, UV Protection Wayfarer Sunglasses (Free Size)',\n",
       " 'https://www.flipkart.com/singco-india-aviator-wayfarer-sunglasses/p/itmf5b6c6e88f44a?pid=SGLFF9BTZUQZGZ3H&lid=LSTSGLFF9BTZUQZGZ3HMQDMDM&marketplace=FLIPKART&q=Sunglasses&store=26x&srno=s_1_19&otracker=search&otracker1=search&fm=SEARCH&iid=2c729df7-6ee2-473f-a512-589a1bf36c1b.SGLFF9BTZUQZGZ3H.SEARCH&ppt=sp&ppn=sp&ssid=pe4mu2kzk00000001621765656561&qH=0ff7a11a5902c9f7',\n",
       " 'UV Protection, Riding Glasses, Others Aviator, Wayfarer...',\n",
       " 'https://www.flipkart.com/nuvew-cat-eye-sunglasses/p/itm373fb9321647b?pid=SGLFPMSEN2RP6J6H&lid=LSTSGLFPMSEN2RP6J6HGRJBEW&marketplace=FLIPKART&q=Sunglasses&store=26x&srno=s_1_20&otracker=search&otracker1=search&fm=SEARCH&iid=en_o%2BrNyCbtsp5wox6Yp2QIVCRpN2emFCTL4wCU%2BsPjMqShuC72hia4HLKBb8Ce%2FlKHB4p%2B73%2Fz4%2BTEh3ORykZTkg%3D%3D&ppt=sp&ppn=sp&ssid=pe4mu2kzk00000001621765656561&qH=0ff7a11a5902c9f7',\n",
       " 'UV Protection, Gradient Cat-eye Sunglasses (63)',\n",
       " 'https://www.flipkart.com/fastrack-aviator-sunglasses/p/itm3d6674f888d98?pid=SGLFKYGHKP4BXEMH&lid=LSTSGLFKYGHKP4BXEMHAL1IED&marketplace=FLIPKART&q=Sunglasses&store=26x&srno=s_1_21&otracker=search&otracker1=search&fm=SEARCH&iid=2c729df7-6ee2-473f-a512-589a1bf36c1b.SGLFKYGHKP4BXEMH.SEARCH&ppt=hp&ppn=homepage&ssid=pe4mu2kzk00000001621765656561&qH=0ff7a11a5902c9f7',\n",
       " 'UV Protection Aviator Sunglasses (58)',\n",
       " 'https://www.flipkart.com/rozzetta-craft-shield-sunglasses/p/itmc5444d5058e09?pid=SGLFPZ65YQPYKUQP&lid=LSTSGLFPZ65YQPYKUQP4W0V5O&marketplace=FLIPKART&q=Sunglasses&store=26x&srno=s_1_22&otracker=search&otracker1=search&fm=SEARCH&iid=2c729df7-6ee2-473f-a512-589a1bf36c1b.SGLFPZ65YQPYKUQP.SEARCH&ppt=sp&ppn=sp&ssid=pe4mu2kzk00000001621765656561&qH=0ff7a11a5902c9f7',\n",
       " 'UV Protection Shield Sunglasses (54)',\n",
       " 'https://www.flipkart.com/singco-india-aviator-sunglasses/p/itm2bc818fcd5d29?pid=SGLFH5ZGZGPZJ5DP&lid=LSTSGLFH5ZGZGPZJ5DPAYBD27&marketplace=FLIPKART&q=Sunglasses&store=26x&srno=s_1_23&otracker=search&otracker1=search&fm=SEARCH&iid=2c729df7-6ee2-473f-a512-589a1bf36c1b.SGLFH5ZGZGPZJ5DP.SEARCH&ppt=sp&ppn=sp&ssid=pe4mu2kzk00000001621765656561&qH=0ff7a11a5902c9f7',\n",
       " 'UV Protection Aviator Sunglasses (Free Size)',\n",
       " 'https://www.flipkart.com/aislin-retro-square-over-sized-sunglasses/p/itm618c283be97d8?pid=SGLFRGSVCBPZVFPV&lid=LSTSGLFRGSVCBPZVFPVLJOU0O&marketplace=FLIPKART&q=Sunglasses&store=26x&srno=s_1_24&otracker=search&otracker1=search&fm=SEARCH&iid=en_o%2BrNyCbtsp5wox6Yp2QIVCRpN2emFCTL4wCU%2BsPjMqRC%2FaPYZiq2gMyf3%2BcPrXIggdn3DjzrRIqxHYMnq7UHYQ%3D%3D&ppt=sp&ppn=sp&ssid=pe4mu2kzk00000001621765656561&qH=0ff7a11a5902c9f7',\n",
       " 'UV Protection Retro Square, Over-sized Sunglasses (61)',\n",
       " 'https://www.flipkart.com/deixels-round-sunglasses/p/itmdd33fa786bc09?pid=SGLFJ7F7F2F94QZK&lid=LSTSGLFJ7F7F2F94QZKQH7WX5&marketplace=FLIPKART&q=Sunglasses&store=26x&srno=s_1_25&otracker=search&otracker1=search&fm=SEARCH&iid=2c729df7-6ee2-473f-a512-589a1bf36c1b.SGLFJ7F7F2F94QZK.SEARCH&ppt=sp&ppn=sp&qH=0ff7a11a5902c9f7',\n",
       " 'UV Protection Round Sunglasses (Free Size)',\n",
       " 'https://www.flipkart.com/gansta-wayfarer-sunglasses/p/itmfc764f7c32c6d?pid=SGLF926KFNUSZS98&lid=LSTSGLF926KFNUSZS98NBQTJL&marketplace=FLIPKART&q=Sunglasses&store=26x&srno=s_1_26&otracker=search&otracker1=search&fm=SEARCH&iid=2c729df7-6ee2-473f-a512-589a1bf36c1b.SGLF926KFNUSZS98.SEARCH&ppt=sp&ppn=sp&ssid=pe4mu2kzk00000001621765656561&qH=0ff7a11a5902c9f7',\n",
       " 'UV Protection, Mirrored Wayfarer Sunglasses (53)',\n",
       " 'https://www.flipkart.com/royal-son-rectangular-sunglasses/p/itmefc71f75555a7?pid=SGLF6GYMZHQMQX3H&lid=LSTSGLF6GYMZHQMQX3HKFFAUL&marketplace=FLIPKART&q=Sunglasses&store=26x&srno=s_1_27&otracker=search&otracker1=search&fm=SEARCH&iid=2c729df7-6ee2-473f-a512-589a1bf36c1b.SGLF6GYMZHQMQX3H.SEARCH&ppt=sp&ppn=sp&ssid=pe4mu2kzk00000001621765656561&qH=0ff7a11a5902c9f7',\n",
       " 'UV Protection Rectangular Sunglasses (58)',\n",
       " 'https://www.flipkart.com/rozzetta-craft-round-sunglasses/p/itm50b1a774b7e0d?pid=SGLFMFKYUQNWGHWT&lid=LSTSGLFMFKYUQNWGHWTZ6YYV4&marketplace=FLIPKART&q=Sunglasses&store=26x&srno=s_1_28&otracker=search&otracker1=search&fm=SEARCH&iid=2c729df7-6ee2-473f-a512-589a1bf36c1b.SGLFMFKYUQNWGHWT.SEARCH&ppt=sp&ppn=sp&ssid=pe4mu2kzk00000001621765656561&qH=0ff7a11a5902c9f7',\n",
       " 'Gradient, UV Protection Round Sunglasses (Free Size)',\n",
       " 'https://www.flipkart.com/silver-kartz-wayfarer-sunglasses/p/itmf3ykz37jypbdd?pid=SGLEXSP4CY6G2ZTY&lid=LSTSGLEXSP4CY6G2ZTYGHVAAN&marketplace=FLIPKART&q=Sunglasses&store=26x&srno=s_1_29&otracker=search&otracker1=search&fm=SEARCH&iid=2c729df7-6ee2-473f-a512-589a1bf36c1b.SGLEXSP4CY6G2ZTY.SEARCH&ppt=sp&ppn=sp&ssid=pe4mu2kzk00000001621765656561&qH=0ff7a11a5902c9f7',\n",
       " 'UV Protection Wayfarer Sunglasses (Free Size)',\n",
       " 'https://www.flipkart.com/fossil-round-sunglasses/p/itm1a3f73a949931?pid=SGLFUNZDUGCHNTVF&lid=LSTSGLFUNZDUGCHNTVFB5ZJI1&marketplace=FLIPKART&q=Sunglasses&store=26x&srno=s_1_30&otracker=search&otracker1=search&fm=SEARCH&iid=en_o%2BrNyCbtsp5wox6Yp2QIVCRpN2emFCTL4wCU%2BsPjMqTha0boiQEUuoAP5o2s3DKn%2FQhnPhbn9WOVCS%2FBEiupeg%3D%3D&ppt=sp&ppn=sp&ssid=pe4mu2kzk00000001621765656561&qH=0ff7a11a5902c9f7',\n",
       " 'Mirrored Round Sunglasses (51)',\n",
       " 'https://www.flipkart.com/fastrack-wayfarer-sunglasses/p/itmf17a9804236b9?pid=SGLFJATRZAUJGZGQ&lid=LSTSGLFJATRZAUJGZGQVHIHKU&marketplace=FLIPKART&q=Sunglasses&store=26x&srno=s_1_31&otracker=search&otracker1=search&fm=SEARCH&iid=2c729df7-6ee2-473f-a512-589a1bf36c1b.SGLFJATRZAUJGZGQ.SEARCH&ppt=sp&ppn=sp&ssid=pe4mu2kzk00000001621765656561&qH=0ff7a11a5902c9f7',\n",
       " 'UV Protection Wayfarer Sunglasses (56)',\n",
       " 'https://www.flipkart.com/rozzetta-craft-rectangular-sunglasses/p/itm7e717fb4e4af0?pid=SGLFX84MT48ZH7RZ&lid=LSTSGLFX84MT48ZH7RZPN64SZ&marketplace=FLIPKART&q=Sunglasses&store=26x&srno=s_1_32&otracker=search&otracker1=search&fm=SEARCH&iid=2c729df7-6ee2-473f-a512-589a1bf36c1b.SGLFX84MT48ZH7RZ.SEARCH&ppt=sp&ppn=sp&ssid=pe4mu2kzk00000001621765656561&qH=0ff7a11a5902c9f7',\n",
       " 'UV Protection, Riding Glasses Rectangular Sunglasses (F...',\n",
       " 'https://www.flipkart.com/hipe-wayfarer-sunglasses/p/itm57a9456b8c71b?pid=SGLFZA3AXMDG4SNE&lid=LSTSGLFZA3AXMDG4SNEWM2IYA&marketplace=FLIPKART&q=Sunglasses&store=26x&srno=s_1_33&otracker=search&otracker1=search&fm=SEARCH&iid=2c729df7-6ee2-473f-a512-589a1bf36c1b.SGLFZA3AXMDG4SNE.SEARCH&ppt=hp&ppn=homepage&ssid=pe4mu2kzk00000001621765656561&qH=0ff7a11a5902c9f7',\n",
       " 'Mirrored Wayfarer Sunglasses (55)',\n",
       " 'https://www.flipkart.com/aislin-aviator-wrap-around-sunglasses/p/itm286bc53fcfd5a?pid=SGLFR4FDFARG3PZV&lid=LSTSGLFR4FDFARG3PZVG8KLE9&marketplace=FLIPKART&q=Sunglasses&store=26x&srno=s_1_34&otracker=search&otracker1=search&fm=SEARCH&iid=en_o%2BrNyCbtsp5wox6Yp2QIVCRpN2emFCTL4wCU%2BsPjMqSZfK561YtCMynFAJSoVxgMFGD3RTSCQgm02z%2BEBMVD6g%3D%3D&ppt=sp&ppn=sp&ssid=pe4mu2kzk00000001621765656561&qH=0ff7a11a5902c9f7',\n",
       " 'UV Protection Aviator, Wrap-around Sunglasses (60)',\n",
       " 'https://www.flipkart.com/fastrack-wayfarer-sunglasses/p/itma3f884efb246c?pid=SGLFG94CJAP7TYFY&lid=LSTSGLFG94CJAP7TYFYMAF3H2&marketplace=FLIPKART&q=Sunglasses&store=26x&srno=s_1_35&otracker=search&otracker1=search&fm=SEARCH&iid=2c729df7-6ee2-473f-a512-589a1bf36c1b.SGLFG94CJAP7TYFY.SEARCH&ppt=sp&ppn=sp&ssid=pe4mu2kzk00000001621765656561&qH=0ff7a11a5902c9f7',\n",
       " 'UV Protection Wayfarer Sunglasses (57)',\n",
       " 'https://www.flipkart.com/silver-kartz-oval-sunglasses/p/itmf0519a6d0669a?pid=SGLFJV3GWTUZSANC&lid=LSTSGLFJV3GWTUZSANCNBLT6O&marketplace=FLIPKART&q=Sunglasses&store=26x&srno=s_1_36&otracker=search&otracker1=search&fm=SEARCH&iid=2c729df7-6ee2-473f-a512-589a1bf36c1b.SGLFJV3GWTUZSANC.SEARCH&ppt=sp&ppn=sp&ssid=pe4mu2kzk00000001621765656561&qH=0ff7a11a5902c9f7',\n",
       " 'UV Protection Oval Sunglasses (56)',\n",
       " 'https://www.flipkart.com/hipe-round-sunglasses/p/itmd64eb278d644a?pid=SGLFJFSGFAGS4Z8M&lid=LSTSGLFJFSGFAGS4Z8MKA3C0B&marketplace=FLIPKART&q=Sunglasses&store=26x&srno=s_1_37&otracker=search&otracker1=search&fm=SEARCH&iid=2c729df7-6ee2-473f-a512-589a1bf36c1b.SGLFJFSGFAGS4Z8M.SEARCH&ppt=sp&ppn=sp&qH=0ff7a11a5902c9f7',\n",
       " 'UV Protection, Mirrored Round Sunglasses (Free Size)',\n",
       " 'https://www.flipkart.com/rozzetta-craft-round-sunglasses/p/itm3ca5f665ffe8a?pid=SGLFZY7UJHZZ4ZZC&lid=LSTSGLFZY7UJHZZ4ZZCI8PNGA&marketplace=FLIPKART&q=Sunglasses&store=26x&srno=s_1_38&otracker=search&otracker1=search&fm=SEARCH&iid=2c729df7-6ee2-473f-a512-589a1bf36c1b.SGLFZY7UJHZZ4ZZC.SEARCH&ppt=sp&ppn=sp&qH=0ff7a11a5902c9f7',\n",
       " 'UV Protection, Gradient Round Sunglasses (Free Size)',\n",
       " 'https://www.flipkart.com/phenomenal-retro-square-sunglasses/p/itmd8e965df77be9?pid=SGLFUWZTAWHY9CB6&lid=LSTSGLFUWZTAWHY9CB6ZMETGU&marketplace=FLIPKART&q=Sunglasses&store=26x&srno=s_1_39&otracker=search&otracker1=search&fm=SEARCH&iid=2c729df7-6ee2-473f-a512-589a1bf36c1b.SGLFUWZTAWHY9CB6.SEARCH&ppt=sp&ppn=sp&qH=0ff7a11a5902c9f7',\n",
       " 'UV Protection, Mirrored Retro Square Sunglasses (Free S...',\n",
       " 'https://www.flipkart.com/aislin-wayfarer-sunglasses/p/itma40a57b84e6da?pid=SGLFRGZYZSMRTHFU&lid=LSTSGLFRGZYZSMRTHFURHBKXZ&marketplace=FLIPKART&q=Sunglasses&store=26x&srno=s_1_40&otracker=search&otracker1=search&fm=SEARCH&iid=en_o%2BrNyCbtsp5wox6Yp2QIVCRpN2emFCTL4wCU%2BsPjMqR%2FSjxspBdxrye05PlxDiSt9e3PXIudxEt6PIqmgPmE%2Bw%3D%3D&ppt=sp&ppn=sp&ssid=pe4mu2kzk00000001621765656561&qH=0ff7a11a5902c9f7',\n",
       " 'UV Protection, Gradient Wayfarer Sunglasses (61)']"
      ]
     },
     "execution_count": 518,
     "metadata": {},
     "output_type": "execute_result"
    }
   ],
   "source": [
    "description[:100]"
   ]
  },
  {
   "cell_type": "code",
   "execution_count": 521,
   "metadata": {},
   "outputs": [],
   "source": [
    "#_3Ay6Sb\n",
    "\n",
    "discount=[]\n",
    "\n",
    "for i in driver.find_elements_by_xpath(\"//div[@class='_3Ay6Sb']\"):\n",
    "    discount.append(i.text)"
   ]
  },
  {
   "cell_type": "code",
   "execution_count": 522,
   "metadata": {},
   "outputs": [
    {
     "data": {
      "text/plain": [
       "['87% off',\n",
       " '15% off',\n",
       " '62% off',\n",
       " '85% off',\n",
       " '83% off',\n",
       " '15% off',\n",
       " '84% off',\n",
       " '67% off',\n",
       " '50% off',\n",
       " '70% off',\n",
       " '64% off',\n",
       " '85% off',\n",
       " '85% off',\n",
       " '70% off',\n",
       " '82% off',\n",
       " '77% off',\n",
       " '83% off',\n",
       " '80% off',\n",
       " '69% off',\n",
       " '66% off',\n",
       " '57% off',\n",
       " '65% off',\n",
       " '85% off',\n",
       " '65% off',\n",
       " '72% off',\n",
       " '70% off',\n",
       " '27% off',\n",
       " '24% off',\n",
       " '78% off',\n",
       " '79% off',\n",
       " '66% off',\n",
       " '66% off',\n",
       " '83% off',\n",
       " '75% off',\n",
       " '83% off',\n",
       " '80% off',\n",
       " '15% off',\n",
       " '77% off',\n",
       " '79% off',\n",
       " '73% off']"
      ]
     },
     "execution_count": 522,
     "metadata": {},
     "output_type": "execute_result"
    }
   ],
   "source": [
    "discount[:100]"
   ]
  },
  {
   "cell_type": "code",
   "execution_count": 523,
   "metadata": {},
   "outputs": [],
   "source": [
    "price=[]\n",
    "\n",
    "for i in driver.find_elements_by_xpath(\"//div[@class='_30jeq3']\"):\n",
    "    price.append(i.text)"
   ]
  },
  {
   "cell_type": "code",
   "execution_count": 524,
   "metadata": {},
   "outputs": [
    {
     "data": {
      "text/plain": [
       "['₹259',\n",
       " '₹759',\n",
       " '₹189',\n",
       " '₹188',\n",
       " '₹449',\n",
       " '₹1,097',\n",
       " '₹319',\n",
       " '₹500',\n",
       " '₹1,234',\n",
       " '₹1,027',\n",
       " '₹711',\n",
       " '₹210',\n",
       " '₹292',\n",
       " '₹367',\n",
       " '₹349',\n",
       " '₹449',\n",
       " '₹328',\n",
       " '₹399',\n",
       " '₹764',\n",
       " '₹416',\n",
       " '₹211',\n",
       " '₹525',\n",
       " '₹281',\n",
       " '₹364',\n",
       " '₹399',\n",
       " '₹449',\n",
       " '₹578',\n",
       " '₹679',\n",
       " '₹185',\n",
       " '₹209',\n",
       " '₹499',\n",
       " '₹664',\n",
       " '₹329',\n",
       " '₹395',\n",
       " '₹210',\n",
       " '₹199',\n",
       " '₹758',\n",
       " '₹269',\n",
       " '₹205',\n",
       " '₹995']"
      ]
     },
     "execution_count": 524,
     "metadata": {},
     "output_type": "execute_result"
    }
   ],
   "source": [
    "price"
   ]
  },
  {
   "cell_type": "code",
   "execution_count": 525,
   "metadata": {},
   "outputs": [],
   "source": [
    "#moving to next page\n",
    "\n",
    "page2=driver.find_element_by_xpath(\"//a[@class='_1LKTO3']\")    \n",
    "page2.click()\n",
    "    \n",
    "    "
   ]
  },
  {
   "cell_type": "code",
   "execution_count": 526,
   "metadata": {},
   "outputs": [],
   "source": [
    "page3=driver.find_elements_by_xpath(\"//a[@class='_1LKTO3'][2]\")\n",
    "page3[0].click()"
   ]
  },
  {
   "cell_type": "code",
   "execution_count": null,
   "metadata": {},
   "outputs": [],
   "source": []
  },
  {
   "cell_type": "code",
   "execution_count": null,
   "metadata": {},
   "outputs": [],
   "source": []
  },
  {
   "cell_type": "markdown",
   "metadata": {},
   "source": [
    "# Question 7"
   ]
  },
  {
   "cell_type": "code",
   "execution_count": 5,
   "metadata": {},
   "outputs": [],
   "source": [
    "import selenium\n",
    "import pandas as pd\n",
    "from selenium import webdriver\n",
    "from selenium.webdriver.support import expected_conditions as EC"
   ]
  },
  {
   "cell_type": "code",
   "execution_count": 6,
   "metadata": {},
   "outputs": [],
   "source": [
    "driver= webdriver.Chrome(\"C:/Users/Techitfirst/Desktop/Abhinay/chromedriver.exe\")\n",
    "url='https://www.flipkart.com/apple-iphone-11-black-64-gb-includes-earpods-power-adapter/p/itm0f37c2240b217?pid=MOBFKCTSVZAXUHGR&lid=LSTMOBFKCTSVZAXUHGREPBFGI&marketplace'\n",
    "driver.get(url)"
   ]
  },
  {
   "cell_type": "code",
   "execution_count": 7,
   "metadata": {},
   "outputs": [],
   "source": [
    "Ratings=[]\n",
    "\n",
    "for i in driver.find_elements_by_xpath(\"//div[@class='_3LWZlK _1BLPMq']\"):\n",
    "    Ratings.append(i.text)\n"
   ]
  },
  {
   "cell_type": "code",
   "execution_count": 16,
   "metadata": {},
   "outputs": [
    {
     "data": {
      "text/plain": [
       "['5', '5', '5', '', '', '', '', '', '', '']"
      ]
     },
     "execution_count": 16,
     "metadata": {},
     "output_type": "execute_result"
    }
   ],
   "source": [
    "Ratings[:100]"
   ]
  },
  {
   "cell_type": "code",
   "execution_count": 13,
   "metadata": {},
   "outputs": [],
   "source": [
    "allreviews=driver.find_elements_by_xpath(\"//div[@class='_3UAT2v _16PBlm']\")\n",
    "allreviews[0].click()"
   ]
  },
  {
   "cell_type": "code",
   "execution_count": 14,
   "metadata": {},
   "outputs": [],
   "source": [
    "Review=[]\n",
    "\n",
    "for i in driver.find_elements_by_xpath(\"//p[@class='_2-N8zT']\"):\n",
    "    Review.append(i.text)"
   ]
  },
  {
   "cell_type": "code",
   "execution_count": 15,
   "metadata": {},
   "outputs": [
    {
     "data": {
      "text/plain": [
       "['Brilliant',\n",
       " 'Perfect product!',\n",
       " 'Great product',\n",
       " 'Worth every penny',\n",
       " 'Good choice',\n",
       " 'Highly recommended',\n",
       " 'Perfect product!',\n",
       " 'Fabulous!',\n",
       " 'Perfect product!',\n",
       " 'Worth every penny']"
      ]
     },
     "execution_count": 15,
     "metadata": {},
     "output_type": "execute_result"
    }
   ],
   "source": [
    "Review[:100]"
   ]
  },
  {
   "cell_type": "code",
   "execution_count": 17,
   "metadata": {},
   "outputs": [],
   "source": [
    "FullReview=[]\n",
    "\n",
    "for i in driver.find_elements_by_xpath(\"//div[@class='t-ZTKy']\"):\n",
    "    FullReview.append(i.text)\n"
   ]
  },
  {
   "cell_type": "code",
   "execution_count": 18,
   "metadata": {},
   "outputs": [
    {
     "data": {
      "text/plain": [
       "['The Best Phone for the Money\\n\\nThe iPhone 11 offers superb cameras, a more durable design and excellent battery life for an affordable price.\\n\\nCompelling ultra-wide camera\\nNew Night mode is excellent\\nLong battery life',\n",
       " 'Amazing phone with great cameras and better battery which gives you the best performance. I just love the camera .',\n",
       " 'Amazing Powerful and Durable Gadget.\\n\\nI’m am very happy with the camera picture quality, Amazing face id unlocked in dark room, Strong battery with perfect screen size as you can carry easily in pocket. This is my third iPhone.\\n\\nI shifted from android Samsung Note series to iPhone because of the strong build quality and peace of mind for next 3-4 years.\\n\\nDon’t think to much just go for it and I suggest you to go for minimum 128gb variant or more 256gb.\\n\\nI’ve attached my puppy pics and no fi...\\nREAD MORE',\n",
       " 'Previously I was using one plus 3t it was a great phone\\nAnd then I decided to upgrade I am stuck between Samsung s10 plus or iPhone 11\\nI have seen the specs and everything were good except the display it’s somewhere between 720-1080 and it’s not even an amoled it’s an LCD display\\nBut I decided to go with iPhone because I have never used an IOS device I have Been an android user from the past 9 years I ordered IPhone 11 (128gb) product red\\nMy experience after using 3 weeks\\n1. The delivery ...\\nREAD MORE',\n",
       " 'So far it’s been an AMAZING experience coming back to iOS after nearly a decade but it’s not as versatile as android though phone is sturdy dropped it accidentally a couple of times and nothing happened fortunately camera is awesome',\n",
       " 'iphone 11 is a very good phone to buy only if you can compromise for the display. The display on this is device is pretty good but you can get other options with better displays in this price segment.\\nIf you can survive with an HD+ LCD panel with thicker bezels and a notch up top then this is a very good phone for you.\\nCameras are awesome, battery backup excellent, great performance and a decent premium look. Good job Apple !',\n",
       " 'It’s a must buy who is looking for an upgrade from previous generation of iPhones. If you are using XR then still you can hold on for sometime and upgrade to 2020 model else this phone is a must buy . Camera quality is amazing and wide angle is something to count upon. Performance wise it’s amazing and feels premium while holding in hand. So a big YES for this device. Go for 128 GB variant as the 4K videos will occupy lots of space and the storage can get over very quickly. Try to buy it with...\\nREAD MORE',\n",
       " 'This is my first iOS phone. I am very happy with this product. Very much satisfied with this. I love this phone.',\n",
       " 'Value for money❤️❤️\\nIts awesome mobile phone in the world ...\\nDisplay was very good and bright ..\\nTrust me freinds you r never regret after Buying..\\nJust go for it....\\nI love this phone and i switch to iphone x to 11',\n",
       " 'Best budget Iphone till date ❤️ go for it guys without second thought. Let me explain you guys about Camera, Display, battery, and performance.\\n\\nCamera: at this price range there is no comparison of camera, you’ll love the picture quality as well as video quality. I am a Vlogger I wanted an iPhone with 4k video by front camera and I got this phone and I am more than happy 😃\\n\\nBattery: I use this phone roughly as I am active social media person and I have a youtube channel. so the battery ba...\\nREAD MORE']"
      ]
     },
     "execution_count": 18,
     "metadata": {},
     "output_type": "execute_result"
    }
   ],
   "source": [
    "FullReview[:100]"
   ]
  },
  {
   "cell_type": "code",
   "execution_count": 19,
   "metadata": {},
   "outputs": [],
   "source": [
    "#moving to next page\n",
    "\n",
    "page_2=driver.find_element_by_xpath(\"//a[@class='_1LKTO3']\")    \n",
    "page_2.click()\n",
    "    "
   ]
  },
  {
   "cell_type": "code",
   "execution_count": 20,
   "metadata": {},
   "outputs": [],
   "source": [
    "page3=driver.find_elements_by_xpath(\"//a[@class='_1LKTO3'][2]\")\n",
    "page3[0].click()"
   ]
  },
  {
   "cell_type": "code",
   "execution_count": null,
   "metadata": {},
   "outputs": [],
   "source": []
  },
  {
   "cell_type": "code",
   "execution_count": null,
   "metadata": {},
   "outputs": [],
   "source": []
  },
  {
   "cell_type": "markdown",
   "metadata": {},
   "source": [
    "# Question 8"
   ]
  },
  {
   "cell_type": "code",
   "execution_count": 26,
   "metadata": {},
   "outputs": [],
   "source": [
    "driver= webdriver.Chrome(\"C:/Users/Techitfirst/Desktop/Abhinay/chromedriver.exe\")\n",
    "url='https://www.flipkart.com/'\n",
    "driver.get(url)\n"
   ]
  },
  {
   "cell_type": "code",
   "execution_count": 27,
   "metadata": {},
   "outputs": [],
   "source": [
    "#closing the window where it ask to login(skipping the login)\n",
    "close=driver.find_element_by_xpath(\"//button[@class='_2KpZ6l _2doB4z']\")\n",
    "close.click()"
   ]
  },
  {
   "cell_type": "code",
   "execution_count": 28,
   "metadata": {},
   "outputs": [
    {
     "data": {
      "text/plain": [
       "<selenium.webdriver.remote.webelement.WebElement (session=\"c7fe5fe957683acbdcfeb7cd44a08b4a\", element=\"6ff4fee4-8c5b-4680-9507-109ce3daa0c9\")>"
      ]
     },
     "execution_count": 28,
     "metadata": {},
     "output_type": "execute_result"
    }
   ],
   "source": [
    "#searching the sunglasses\n",
    "search_sneakers=driver.find_element_by_xpath(\"//input[@title='Search for products, brands and more']\")\n",
    "search_sneakers"
   ]
  },
  {
   "cell_type": "code",
   "execution_count": 29,
   "metadata": {},
   "outputs": [],
   "source": [
    "search_sneakers.clear()\n",
    "search_sneakers.send_keys('sneakers')"
   ]
  },
  {
   "cell_type": "code",
   "execution_count": 30,
   "metadata": {},
   "outputs": [],
   "source": [
    "#clicking on the search icon for results.\n",
    "\n",
    "search_icon=driver.find_element_by_xpath(\"//button[@type='submit']\")\n",
    "search_icon.click()"
   ]
  },
  {
   "cell_type": "code",
   "execution_count": 31,
   "metadata": {},
   "outputs": [],
   "source": [
    "#scrapping brand\n",
    "\n",
    "sneaker_brand=[]\n",
    "\n",
    "for i in driver.find_elements_by_xpath(\"//div[@class='_2WkVRV']\"):\n",
    "    sneaker_brand.append(i.text)"
   ]
  },
  {
   "cell_type": "code",
   "execution_count": 32,
   "metadata": {},
   "outputs": [
    {
     "data": {
      "text/plain": [
       "['VISTAARA',\n",
       " 'BRUTON',\n",
       " 'restinfoot',\n",
       " 'D-SNEAKERZ',\n",
       " 'Robbie jones',\n",
       " 'Deny Brown',\n",
       " 'Numenzo',\n",
       " 'Robbie jones',\n",
       " 'ORICUM',\n",
       " 'HOTSTYLE',\n",
       " 'seekort',\n",
       " 'SHOEFLY',\n",
       " 'Stefano Rads',\n",
       " 'aadi',\n",
       " 'Shoes Bank',\n",
       " 'Echor',\n",
       " 'VIPSJAZZY',\n",
       " 'World Wear Footwear',\n",
       " 'ROCKFIELD',\n",
       " 'World Wear Footwear',\n",
       " 'Birde',\n",
       " 'Robbie jones',\n",
       " '\"trend\"',\n",
       " 'JUBENTA',\n",
       " 'VORII',\n",
       " 'Aura',\n",
       " 'Echor',\n",
       " 'Magnolia',\n",
       " 'Robbie jones',\n",
       " 'BRUTON',\n",
       " 'TR',\n",
       " 'bluemaker',\n",
       " 'Ktiz',\n",
       " 'Deep',\n",
       " 'LuvShus',\n",
       " 'T-ROCK',\n",
       " 'SCATCHITE',\n",
       " 'Robbie jones',\n",
       " 'World Wear Footwear',\n",
       " 'World Wear Footwear']"
      ]
     },
     "execution_count": 32,
     "metadata": {},
     "output_type": "execute_result"
    }
   ],
   "source": [
    "sneaker_brand[:100]"
   ]
  },
  {
   "cell_type": "code",
   "execution_count": 39,
   "metadata": {},
   "outputs": [],
   "source": [
    "sneaker_discription=[]\n",
    "\n",
    "\n",
    "for i in driver.find_elements_by_xpath(\"//a[@class='IRpwTa']\"):\n",
    "    sneaker_discription.append(i.get_attribute(\"href\"))\n",
    "    sneaker_discription.append(i.text)\n"
   ]
  },
  {
   "cell_type": "code",
   "execution_count": 40,
   "metadata": {},
   "outputs": [
    {
     "data": {
      "text/plain": [
       "['https://www.flipkart.com/vistaara-489-black-sneakers-men/p/itmf29f5677b6978?pid=SHOFY3CEFFHZUWHR&lid=LSTSHOFY3CEFFHZUWHRFJJN3U&marketplace=FLIPKART&q=sneakers&store=osp%2Fcil%2Fe1f&srno=s_1_1&otracker=search&otracker1=search&fm=SEARCH&iid=en_qfC5ud%2FfshBeyVRJEmcI2qgVnOw5OH3GsaGeVOu34lQ3GU4wFq1i2P4rYLve3EYd%2F5O1Us0fqhnPtV8RbJ0rTQ%3D%3D&ppt=sp&ppn=sp&qH=a1743c0d39461290',\n",
       " '489 Black Sneakers For Men',\n",
       " 'https://www.flipkart.com/bruton-men-sports-sneakers/p/itmbce840fa850e5?pid=SHOFVBYZHD3QDAP8&lid=LSTSHOFVBYZHD3QDAP8RSLSSY&marketplace=FLIPKART&q=sneakers&store=osp%2Fcil%2Fe1f&srno=s_1_2&otracker=search&otracker1=search&fm=SEARCH&iid=en_qfC5ud%2FfshBeyVRJEmcI2qgVnOw5OH3GsaGeVOu34lTSuPvrZv%2FoVbrO3zgjrUYyTjJUGVWUbYzUcUjoFFwxJw%3D%3D&ppt=sp&ppn=sp&qH=a1743c0d39461290',\n",
       " 'Men Sports Sneakers For Men',\n",
       " 'https://www.flipkart.com/restinfoot-casual-shoes-sneakers-men/p/itmfeuvtqzmpswx7?pid=SHOFEUP9KHS4RZZX&lid=LSTSHOFEUP9KHS4RZZXC1XQYS&marketplace=FLIPKART&q=sneakers&store=osp%2Fcil%2Fe1f&srno=s_1_3&otracker=search&otracker1=search&fm=SEARCH&iid=b301abe4-5aeb-4f3c-9f23-1d23d2a4d52f.SHOFEUP9KHS4RZZX.SEARCH&ppt=sp&ppn=sp&ssid=c5806u4hmo0000001621777229812&qH=a1743c0d39461290',\n",
       " 'Casual shoes Sneakers For Men',\n",
       " 'https://www.flipkart.com/d-sneakerz-casual-partywear-sneakers-shoes-men-s-boys-white-color-men/p/itmf3xujnyvhbeqh?pid=SHOFFT35TZJFPTA4&lid=LSTSHOFFT35TZJFPTA4GQXUMX&marketplace=FLIPKART&q=sneakers&store=osp%2Fcil%2Fe1f&srno=s_1_4&otracker=search&otracker1=search&fm=SEARCH&iid=b301abe4-5aeb-4f3c-9f23-1d23d2a4d52f.SHOFFT35TZJFPTA4.SEARCH&ppt=hp&ppn=homepage&ssid=c5806u4hmo0000001621777229812&qH=a1743c0d39461290',\n",
       " \"Casual , Partywear Sneakers Shoes For Men's And Boys Wh...\",\n",
       " 'https://www.flipkart.com/robbie-jones-casual-sneakers-shoes-men/p/itm5ee18096b212e?pid=SHOFVJG9AWTPN5GJ&lid=LSTSHOFVJG9AWTPN5GJT4JSYQ&marketplace=FLIPKART&q=sneakers&store=osp%2Fcil%2Fe1f&srno=s_1_5&otracker=search&otracker1=search&fm=SEARCH&iid=b301abe4-5aeb-4f3c-9f23-1d23d2a4d52f.SHOFVJG9AWTPN5GJ.SEARCH&ppt=sp&ppn=sp&ssid=c5806u4hmo0000001621777229812&qH=a1743c0d39461290',\n",
       " 'Casual Sneakers Shoes For Men Sneakers For Men',\n",
       " 'https://www.flipkart.com/deny-brown-445-sports-shoes-running-men/p/itmfa3aeae3673eb?pid=SHOFJY9ZHHAU8QT9&lid=LSTSHOFJY9ZHHAU8QT9QPN23J&marketplace=FLIPKART&q=sneakers&store=osp%2Fcil%2Fe1f&srno=s_1_6&otracker=search&otracker1=search&fm=SEARCH&iid=b301abe4-5aeb-4f3c-9f23-1d23d2a4d52f.SHOFJY9ZHHAU8QT9.SEARCH&ppt=sp&ppn=sp&qH=a1743c0d39461290',\n",
       " '445 Sports Shoes Running Shoes For Men',\n",
       " 'https://www.flipkart.com/numenzo-sneakers-men/p/itm072bfb0c5e869?pid=SHOFZ4RGEGXFYHY9&lid=LSTSHOFZ4RGEGXFYHY9UPNWTY&marketplace=FLIPKART&q=sneakers&store=osp%2Fcil%2Fe1f&srno=s_1_7&otracker=search&otracker1=search&fm=SEARCH&iid=b301abe4-5aeb-4f3c-9f23-1d23d2a4d52f.SHOFZ4RGEGXFYHY9.SEARCH&ppt=sp&ppn=sp&ssid=c5806u4hmo0000001621777229812&qH=a1743c0d39461290',\n",
       " 'Sneakers For Men',\n",
       " 'https://www.flipkart.com/robbie-jones-sneakers-men/p/itmb630cbefaaf97?pid=SHOGF4HZY4QYKZ6M&lid=LSTSHOGF4HZY4QYKZ6MZSLDPN&marketplace=FLIPKART&q=sneakers&store=osp%2Fcil%2Fe1f&srno=s_1_8&otracker=search&otracker1=search&fm=SEARCH&iid=b301abe4-5aeb-4f3c-9f23-1d23d2a4d52f.SHOGF4HZY4QYKZ6M.SEARCH&ppt=hp&ppn=homepage&ssid=c5806u4hmo0000001621777229812&qH=a1743c0d39461290',\n",
       " 'Sneakers For Men',\n",
       " 'https://www.flipkart.com/oricum-combo-pack-2-casual-sneaker-shoes-men-sneakers/p/itma5aedefdee8eb?pid=SHOFQ4KHSV9FKZYC&lid=LSTSHOFQ4KHSV9FKZYCVASKZA&marketplace=FLIPKART&q=sneakers&store=osp%2Fcil%2Fe1f&srno=s_1_9&otracker=search&otracker1=search&fm=SEARCH&iid=b301abe4-5aeb-4f3c-9f23-1d23d2a4d52f.SHOFQ4KHSV9FKZYC.SEARCH&ppt=hp&ppn=homepage&ssid=c5806u4hmo0000001621777229812&qH=a1743c0d39461290',\n",
       " 'Combo pack of 2 casual sneaker shoes for men Sneakers F...',\n",
       " 'https://www.flipkart.com/hotstyle-sneakers-men/p/itmd61642c1b04ea?pid=SHOFQ3GJZ5HSMZKM&lid=LSTSHOFQ3GJZ5HSMZKMFINX2I&marketplace=FLIPKART&q=sneakers&store=osp%2Fcil%2Fe1f&srno=s_1_10&otracker=search&otracker1=search&fm=SEARCH&iid=b301abe4-5aeb-4f3c-9f23-1d23d2a4d52f.SHOFQ3GJZ5HSMZKM.SEARCH&ppt=hp&ppn=homepage&ssid=c5806u4hmo0000001621777229812&qH=a1743c0d39461290',\n",
       " 'Sneakers Sneakers For Men',\n",
       " 'https://www.flipkart.com/shoefly-combo-pack-4-casual-shoes-men-sneakers/p/itma9b53a08503e9?pid=SHOFP78M8FVU5YRW&lid=LSTSHOFP78M8FVU5YRWSNSFFT&marketplace=FLIPKART&q=sneakers&store=osp%2Fcil%2Fe1f&srno=s_1_12&otracker=search&otracker1=search&fm=SEARCH&iid=b301abe4-5aeb-4f3c-9f23-1d23d2a4d52f.SHOFP78M8FVU5YRW.SEARCH&ppt=hp&ppn=homepage&ssid=c5806u4hmo0000001621777229812&qH=a1743c0d39461290',\n",
       " 'Combo Pack of 4 Casual Shoes For Men Sneakers For Men',\n",
       " 'https://www.flipkart.com/aadi-sneakers-men/p/itmd112c87241dfd?pid=SHOFQU45JZSCDHAX&lid=LSTSHOFQU45JZSCDHAXSI8S2C&marketplace=FLIPKART&q=sneakers&store=osp%2Fcil%2Fe1f&srno=s_1_14&otracker=search&otracker1=search&fm=SEARCH&iid=en_qfC5ud%2FfshBeyVRJEmcI2qgVnOw5OH3GsaGeVOu34lSUGP6Pw9syjMqbf89rVecyfnxTEqnQbBxrP6Sh2dPtrQ%3D%3D&ppt=hp&ppn=homepage&ssid=c5806u4hmo0000001621777229812&qH=a1743c0d39461290',\n",
       " 'Sneakers For Men',\n",
       " 'https://www.flipkart.com/shoes-bank-white-sneaker-men-s-boy-s-sneakers-men/p/itmf9p2zdypz2jyt?pid=SHOF9Z766NFHAEVE&lid=LSTSHOF9Z766NFHAEVEQA8YL7&marketplace=FLIPKART&q=sneakers&store=osp%2Fcil%2Fe1f&srno=s_1_15&otracker=search&otracker1=search&fm=SEARCH&iid=b301abe4-5aeb-4f3c-9f23-1d23d2a4d52f.SHOF9Z766NFHAEVE.SEARCH&ppt=hp&ppn=homepage&ssid=c5806u4hmo0000001621777229812&qH=a1743c0d39461290',\n",
       " \"White Sneaker For Men's/Boy's Sneakers For Men\",\n",
       " 'https://www.flipkart.com/echor-shoes-boys-sneakers-men/p/itmc0cfc7dd25ed8?pid=SHOFXKA47WXDKFSQ&lid=LSTSHOFXKA47WXDKFSQP72ZNY&marketplace=FLIPKART&q=sneakers&store=osp%2Fcil%2Fe1f&srno=s_1_16&otracker=search&otracker1=search&fm=SEARCH&iid=b301abe4-5aeb-4f3c-9f23-1d23d2a4d52f.SHOFXKA47WXDKFSQ.SEARCH&ppt=hp&ppn=homepage&ssid=c5806u4hmo0000001621777229812&qH=a1743c0d39461290',\n",
       " 'shoes for boys Sneakers For Men',\n",
       " 'https://www.flipkart.com/world-wear-footwear-combo-pack-latest-collection-stylish-sneakers-men/p/itm0435a630752ca?pid=SHOFPAHHZVBJHSSH&lid=LSTSHOFPAHHZVBJHSSHBCXQOB&marketplace=FLIPKART&q=sneakers&store=osp%2Fcil%2Fe1f&srno=s_1_18&otracker=search&otracker1=search&fm=SEARCH&iid=b301abe4-5aeb-4f3c-9f23-1d23d2a4d52f.SHOFPAHHZVBJHSSH.SEARCH&ppt=hp&ppn=homepage&ssid=c5806u4hmo0000001621777229812&qH=a1743c0d39461290',\n",
       " 'Combo Pack Latest Collection Stylish Sneakers For Men',\n",
       " 'https://www.flipkart.com/world-wear-footwear-latest-collection-1227-stylish-casual-sports-sneakers-men/p/itmf417d91f7b7b2?pid=SHOFJGUEDZHDZUVX&lid=LSTSHOFJGUEDZHDZUVXQ6DIGS&marketplace=FLIPKART&q=sneakers&store=osp%2Fcil%2Fe1f&srno=s_1_20&otracker=search&otracker1=search&fm=SEARCH&iid=en_qfC5ud%2FfshBeyVRJEmcI2qgVnOw5OH3GsaGeVOu34lSPaHtsBGw%2B6Lm8ilrk4iM8lLQJSi3Q0p0yBsoHxpUrpA%3D%3D&ppt=hp&ppn=homepage&ssid=c5806u4hmo0000001621777229812&qH=a1743c0d39461290',\n",
       " 'Latest Collection-1227 Stylish Casual Sports Sneakers F...',\n",
       " 'https://www.flipkart.com/birde-combo-pack-4-casual-shoes-sneakers-men/p/itm3915ef2ffae83?pid=SHOGFAZ9GTDPBCWR&lid=LSTSHOGFAZ9GTDPBCWR1JIPNM&marketplace=FLIPKART&q=sneakers&store=osp%2Fcil%2Fe1f&srno=s_1_21&otracker=search&otracker1=search&fm=SEARCH&iid=b301abe4-5aeb-4f3c-9f23-1d23d2a4d52f.SHOGFAZ9GTDPBCWR.SEARCH&ppt=hp&ppn=homepage&ssid=c5806u4hmo0000001621777229812&qH=a1743c0d39461290',\n",
       " 'Combo Pack of 4 Casual Shoes Sneakers For Men',\n",
       " 'https://www.flipkart.com/robbie-jones-casual-sneakers-black-shoes-men/p/itm24381c8c53d77?pid=SHOFXU3SQAMZVS6N&lid=LSTSHOFXU3SQAMZVS6NV2CTO8&marketplace=FLIPKART&q=sneakers&store=osp%2Fcil%2Fe1f&srno=s_1_22&otracker=search&otracker1=search&fm=SEARCH&iid=b301abe4-5aeb-4f3c-9f23-1d23d2a4d52f.SHOFXU3SQAMZVS6N.SEARCH&ppt=hp&ppn=homepage&ssid=c5806u4hmo0000001621777229812&qH=a1743c0d39461290',\n",
       " 'Casual Sneakers Black Shoes For Men Sneakers For Men',\n",
       " 'https://www.flipkart.com/trend-fashionable-casual-sneakers-shoes-men/p/itm504712db3822a?pid=SHOFQ6Y6KKNGE2GW&lid=LSTSHOFQ6Y6KKNGE2GWFZO0XQ&marketplace=FLIPKART&q=sneakers&store=osp%2Fcil%2Fe1f&srno=s_1_23&otracker=search&otracker1=search&fm=SEARCH&iid=b301abe4-5aeb-4f3c-9f23-1d23d2a4d52f.SHOFQ6Y6KKNGE2GW.SEARCH&ppt=hp&ppn=homepage&ssid=c5806u4hmo0000001621777229812&qH=a1743c0d39461290',\n",
       " 'Fashionable casual sneakers shoes for men Sneakers For ...',\n",
       " 'https://www.flipkart.com/vorii-latest-stylish-casual-sneakers-men-lace-up-lightweight-shoes-running-walking-gym-trekking-running-black/p/itm777adc3721ab6?pid=SHOFZWZ9ZKX9GVVT&lid=LSTSHOFZWZ9ZKX9GVVTPO2NJ6&marketplace=FLIPKART&q=sneakers&store=osp%2Fcil%2Fe1f&srno=s_1_25&otracker=search&otracker1=search&fm=SEARCH&iid=b301abe4-5aeb-4f3c-9f23-1d23d2a4d52f.SHOFZWZ9ZKX9GVVT.SEARCH&ppt=hp&ppn=homepage&ssid=c5806u4hmo0000001621777229812&qH=a1743c0d39461290',\n",
       " 'Latest Stylish Casual sneakers for men | Lace up lightw...',\n",
       " 'https://www.flipkart.com/aura-combo-pack-5-casual-shoes-sneakers-loafers-sneakers-men/p/itm4040ab85698c8?pid=SHOFK8MGYUDYYRSF&lid=LSTSHOFK8MGYUDYYRSFMSFKIM&marketplace=FLIPKART&q=sneakers&store=osp%2Fcil%2Fe1f&srno=s_1_26&otracker=search&otracker1=search&fm=SEARCH&iid=b301abe4-5aeb-4f3c-9f23-1d23d2a4d52f.SHOFK8MGYUDYYRSF.SEARCH&ppt=hp&ppn=homepage&ssid=c5806u4hmo0000001621777229812&qH=a1743c0d39461290',\n",
       " 'Combo Pack of 5 Casual Shoes Sneakers, Loafers Sneakers...',\n",
       " 'https://www.flipkart.com/echor-shoes-boys-sneakers-men/p/itmc477268461ffe?pid=SHOFXKA4JUVQBJJ6&lid=LSTSHOFXKA4JUVQBJJ6U49XHT&marketplace=FLIPKART&q=sneakers&store=osp%2Fcil%2Fe1f&srno=s_1_27&otracker=search&otracker1=search&fm=SEARCH&iid=b301abe4-5aeb-4f3c-9f23-1d23d2a4d52f.SHOFXKA4JUVQBJJ6.SEARCH&ppt=hp&ppn=homepage&ssid=c5806u4hmo0000001621777229812&qH=a1743c0d39461290',\n",
       " 'shoes for boys Sneakers For Men',\n",
       " 'https://www.flipkart.com/magnolia-white-sneakers-men/p/itmf7n8d9pspsdvp?pid=SHOF7NYRYRMUHBUF&lid=LSTSHOF7NYRYRMUHBUFNU3NPK&marketplace=FLIPKART&q=sneakers&store=osp%2Fcil%2Fe1f&srno=s_1_28&otracker=search&otracker1=search&fm=SEARCH&iid=b301abe4-5aeb-4f3c-9f23-1d23d2a4d52f.SHOF7NYRYRMUHBUF.SEARCH&ppt=hp&ppn=homepage&ssid=c5806u4hmo0000001621777229812&qH=a1743c0d39461290',\n",
       " 'White Sneakers Sneakers For Men',\n",
       " 'https://www.flipkart.com/robbie-jones-casual-sneakers-shoes-men-boys/p/itm63089f27865b6?pid=SHOG3FFGTCMWWH9F&lid=LSTSHOG3FFGTCMWWH9FC7QVCI&marketplace=FLIPKART&q=sneakers&store=osp%2Fcil%2Fe1f&srno=s_1_29&otracker=search&otracker1=search&fm=SEARCH&iid=b301abe4-5aeb-4f3c-9f23-1d23d2a4d52f.SHOG3FFGTCMWWH9F.SEARCH&ppt=hp&ppn=homepage&ssid=c5806u4hmo0000001621777229812&qH=a1743c0d39461290',\n",
       " 'Casual Sneakers Shoes For Men And Boys Sneakers For Men',\n",
       " 'https://www.flipkart.com/bruton-combo-pack-2-casual-sneakers-men/p/itm4d33d053e6904?pid=SHOFJN5JHHMZYHT2&lid=LSTSHOFJN5JHHMZYHT2NONZOF&marketplace=FLIPKART&q=sneakers&store=osp%2Fcil%2Fe1f&srno=s_1_30&otracker=search&otracker1=search&fm=SEARCH&iid=en_qfC5ud%2FfshBeyVRJEmcI2qgVnOw5OH3GsaGeVOu34lQBer3jESg%2BGndp7EjeRnvwXRsWU9qTBcAgG0l2LbMSmw%3D%3D&ppt=hp&ppn=homepage&ssid=c5806u4hmo0000001621777229812&qH=a1743c0d39461290',\n",
       " 'Combo Pack of 2 Casual Sneakers For Men',\n",
       " 'https://www.flipkart.com/tr-sneakers-men/p/itmfhegftdjf3cqt?pid=SHOFHEGHFJVGZ4MY&lid=LSTSHOFHEGHFJVGZ4MYFXPB1Q&marketplace=FLIPKART&q=sneakers&store=osp%2Fcil%2Fe1f&srno=s_1_31&otracker=search&otracker1=search&fm=SEARCH&iid=b301abe4-5aeb-4f3c-9f23-1d23d2a4d52f.SHOFHEGHFJVGZ4MY.SEARCH&ppt=hp&ppn=homepage&ssid=c5806u4hmo0000001621777229812&qH=a1743c0d39461290',\n",
       " 'Sneakers For Men',\n",
       " 'https://www.flipkart.com/bluemaker-casual-men-blue-06-sneakers/p/itm3f838f669177a?pid=SHOFUSH75ABRTZMY&lid=LSTSHOFUSH75ABRTZMY8H410M&marketplace=FLIPKART&q=sneakers&store=osp%2Fcil%2Fe1f&srno=s_1_32&otracker=search&otracker1=search&fm=SEARCH&iid=b301abe4-5aeb-4f3c-9f23-1d23d2a4d52f.SHOFUSH75ABRTZMY.SEARCH&ppt=hp&ppn=homepage&ssid=c5806u4hmo0000001621777229812&qH=a1743c0d39461290',\n",
       " 'casual for men (blue 06) Sneakers For Men',\n",
       " 'https://www.flipkart.com/luvshus-sneakers-men/p/itm19b696027d60c?pid=SHOFUAWNHHTXYZEF&lid=LSTSHOFUAWNHHTXYZEFUM376J&marketplace=FLIPKART&q=sneakers&store=osp%2Fcil%2Fe1f&srno=s_1_35&otracker=search&otracker1=search&fm=SEARCH&iid=b301abe4-5aeb-4f3c-9f23-1d23d2a4d52f.SHOFUAWNHHTXYZEF.SEARCH&ppt=hp&ppn=homepage&ssid=c5806u4hmo0000001621777229812&qH=a1743c0d39461290',\n",
       " 'Sneakers For Men',\n",
       " 'https://www.flipkart.com/t-rock-synthetic-leather-casual-partywear-wedding-sneakers-shoes-men/p/itmfhkz7qghnktdg?pid=SHOFHKH6B39PV5HE&lid=LSTSHOFHKH6B39PV5HE3W1SEV&marketplace=FLIPKART&q=sneakers&store=osp%2Fcil%2Fe1f&srno=s_1_36&otracker=search&otracker1=search&fm=SEARCH&iid=b301abe4-5aeb-4f3c-9f23-1d23d2a4d52f.SHOFHKH6B39PV5HE.SEARCH&ppt=hp&ppn=homepage&ssid=c5806u4hmo0000001621777229812&qH=a1743c0d39461290',\n",
       " 'Synthetic Leather Casual Partywear Wedding Sneakers Sho...',\n",
       " 'https://www.flipkart.com/scatchite-sneakers-men/p/itmc13680b1d9604?pid=SHOFUDSUUG8AAMZZ&lid=LSTSHOFUDSUUG8AAMZZXEJRH6&marketplace=FLIPKART&q=sneakers&store=osp%2Fcil%2Fe1f&srno=s_1_37&otracker=search&otracker1=search&fm=SEARCH&iid=b301abe4-5aeb-4f3c-9f23-1d23d2a4d52f.SHOFUDSUUG8AAMZZ.SEARCH&ppt=hp&ppn=homepage&ssid=c5806u4hmo0000001621777229812&qH=a1743c0d39461290',\n",
       " 'Sneakers Sneakers For Men',\n",
       " 'https://www.flipkart.com/robbie-jones-sneakers-men/p/itmfdsgg35pvqftp?pid=SHOFDS33HYSWREDZ&lid=LSTSHOFDS33HYSWREDZD0WL1F&marketplace=FLIPKART&q=sneakers&store=osp%2Fcil%2Fe1f&srno=s_1_38&otracker=search&otracker1=search&fm=SEARCH&iid=b301abe4-5aeb-4f3c-9f23-1d23d2a4d52f.SHOFDS33HYSWREDZ.SEARCH&ppt=hp&ppn=homepage&ssid=c5806u4hmo0000001621777229812&qH=a1743c0d39461290',\n",
       " 'Sneakers Sneakers For Men',\n",
       " 'https://www.flipkart.com/world-wear-footwear-combo-pack-4-latest-collection-stylish-casual-loafer-sneakers-shoes-men/p/itm4d7438636eeaa?pid=SHOFZYY2HTUKFGCB&lid=LSTSHOFZYY2HTUKFGCBMWD0RN&marketplace=FLIPKART&q=sneakers&store=osp%2Fcil%2Fe1f&srno=s_1_39&otracker=search&otracker1=search&fm=SEARCH&iid=b301abe4-5aeb-4f3c-9f23-1d23d2a4d52f.SHOFZYY2HTUKFGCB.SEARCH&ppt=hp&ppn=homepage&ssid=c5806u4hmo0000001621777229812&qH=a1743c0d39461290',\n",
       " 'Combo Pack of 4 Latest Collection Stylish Casual Loafer...',\n",
       " 'https://www.flipkart.com/world-wear-footwear-combo-pack-4-latest-collection-stylish-casual-loafer-sneakers-shoes-men/p/itm4d7438636eeaa?pid=SHOFZYY24GXDFYTP&lid=LSTSHOFZYY24GXDFYTP6MVUCU&marketplace=FLIPKART&q=sneakers&store=osp%2Fcil%2Fe1f&srno=s_1_40&otracker=search&otracker1=search&fm=SEARCH&iid=en_qfC5ud%2FfshBeyVRJEmcI2qgVnOw5OH3GsaGeVOu34lQByDfiikKayyDNrnnW27fEV9NVaXNyik6Coz%2FUPg0kmQ%3D%3D&ppt=hp&ppn=homepage&ssid=c5806u4hmo0000001621777229812&qH=a1743c0d39461290',\n",
       " 'Combo Pack of 4 Latest Collection Stylish Casual Loafer...']"
      ]
     },
     "execution_count": 40,
     "metadata": {},
     "output_type": "execute_result"
    }
   ],
   "source": [
    "sneaker_discription[:100]"
   ]
  },
  {
   "cell_type": "code",
   "execution_count": 41,
   "metadata": {},
   "outputs": [],
   "source": [
    "sneaker_price=[]\n",
    "\n",
    "for i in driver.find_elements_by_xpath(\"//div[@class='_30jeq3']\"):\n",
    "    sneaker_price.append(i.text)"
   ]
  },
  {
   "cell_type": "code",
   "execution_count": 42,
   "metadata": {},
   "outputs": [
    {
     "data": {
      "text/plain": [
       "['₹279',\n",
       " '₹299',\n",
       " '₹379',\n",
       " '₹367',\n",
       " '₹379',\n",
       " '₹347',\n",
       " '₹399',\n",
       " '₹474',\n",
       " '₹377',\n",
       " '₹283',\n",
       " '₹429',\n",
       " '₹448',\n",
       " '₹242',\n",
       " '₹367',\n",
       " '₹349',\n",
       " '₹569',\n",
       " '₹419',\n",
       " '₹539',\n",
       " '₹499',\n",
       " '₹273',\n",
       " '₹757',\n",
       " '₹428',\n",
       " '₹426',\n",
       " '₹549',\n",
       " '₹379',\n",
       " '₹699',\n",
       " '₹569',\n",
       " '₹305',\n",
       " '₹499',\n",
       " '₹404',\n",
       " '₹329',\n",
       " '₹474',\n",
       " '₹474',\n",
       " '₹445',\n",
       " '₹369',\n",
       " '₹378',\n",
       " '₹398',\n",
       " '₹428',\n",
       " '₹449',\n",
       " '₹799']"
      ]
     },
     "execution_count": 42,
     "metadata": {},
     "output_type": "execute_result"
    }
   ],
   "source": [
    "sneaker_price[:100]"
   ]
  },
  {
   "cell_type": "code",
   "execution_count": 43,
   "metadata": {},
   "outputs": [],
   "source": [
    "\n",
    "sneaker_discount=[]\n",
    "\n",
    "for i in driver.find_elements_by_xpath(\"//div[@class='_3Ay6Sb']\"):\n",
    "    sneaker_discount.append(i.text)"
   ]
  },
  {
   "cell_type": "code",
   "execution_count": 44,
   "metadata": {},
   "outputs": [
    {
     "data": {
      "text/plain": [
       "['72% off',\n",
       " '76% off',\n",
       " '62% off',\n",
       " '44% off',\n",
       " '62% off',\n",
       " '30% off',\n",
       " '60% off',\n",
       " '52% off',\n",
       " '62% off',\n",
       " '43% off',\n",
       " '57% off',\n",
       " '77% off',\n",
       " '65% off',\n",
       " '63% off',\n",
       " '65% off',\n",
       " '43% off',\n",
       " '58% off',\n",
       " '63% off',\n",
       " '50% off',\n",
       " '45% off',\n",
       " '62% off',\n",
       " '57% off',\n",
       " '78% off',\n",
       " '45% off',\n",
       " '62% off',\n",
       " '71% off',\n",
       " '43% off',\n",
       " '69% off',\n",
       " '50% off',\n",
       " '83% off',\n",
       " '67% off',\n",
       " '52% off',\n",
       " '63% off',\n",
       " '55% off',\n",
       " '63% off',\n",
       " '62% off',\n",
       " '60% off',\n",
       " '38% off',\n",
       " '82% off',\n",
       " '64% off']"
      ]
     },
     "execution_count": 44,
     "metadata": {},
     "output_type": "execute_result"
    }
   ],
   "source": [
    "sneaker_discount[:100]"
   ]
  },
  {
   "cell_type": "code",
   "execution_count": 45,
   "metadata": {},
   "outputs": [],
   "source": [
    "#moving to next page\n",
    "\n",
    "sneaker_page2=driver.find_element_by_xpath(\"//a[@class='_1LKTO3']\")    \n",
    "sneaker_page2.click()\n",
    "    "
   ]
  },
  {
   "cell_type": "code",
   "execution_count": 46,
   "metadata": {},
   "outputs": [],
   "source": [
    "sneaker_page3=driver.find_elements_by_xpath(\"//a[@class='_1LKTO3'][2]\")\n",
    "sneaker_page3[0].click()"
   ]
  },
  {
   "cell_type": "code",
   "execution_count": null,
   "metadata": {},
   "outputs": [],
   "source": []
  },
  {
   "cell_type": "code",
   "execution_count": null,
   "metadata": {},
   "outputs": [],
   "source": []
  },
  {
   "cell_type": "markdown",
   "metadata": {},
   "source": [
    "# Question 9"
   ]
  },
  {
   "cell_type": "code",
   "execution_count": 101,
   "metadata": {},
   "outputs": [],
   "source": [
    "driver= webdriver.Chrome(\"C:/Users/Techitfirst/Desktop/Abhinay/chromedriver.exe\")\n",
    "url='https://www.myntra.com/shoes'\n",
    "driver.get(url)"
   ]
  },
  {
   "cell_type": "code",
   "execution_count": 102,
   "metadata": {},
   "outputs": [],
   "source": [
    "#common-customCheckbox vertical-filters-label\n",
    "\n",
    "filter_button=driver.find_elements_by_xpath(\"//span[@class='colour-label colour-colorDisplay']\")\n",
    "filter_button[0].click()"
   ]
  },
  {
   "cell_type": "code",
   "execution_count": 103,
   "metadata": {},
   "outputs": [
    {
     "ename": "ElementNotInteractableException",
     "evalue": "Message: element not interactable\n  (Session info: chrome=90.0.4430.212)\n",
     "output_type": "error",
     "traceback": [
      "\u001b[1;31m---------------------------------------------------------------------------\u001b[0m",
      "\u001b[1;31mElementNotInteractableException\u001b[0m           Traceback (most recent call last)",
      "\u001b[1;32m<ipython-input-103-899b8e46bd74>\u001b[0m in \u001b[0;36m<module>\u001b[1;34m\u001b[0m\n\u001b[0;32m      1\u001b[0m \u001b[1;31m#6657.0 TO 13105.0\u001b[0m\u001b[1;33m\u001b[0m\u001b[1;33m\u001b[0m\u001b[1;33m\u001b[0m\u001b[0m\n\u001b[0;32m      2\u001b[0m \u001b[0mprice_button\u001b[0m\u001b[1;33m=\u001b[0m\u001b[0mdriver\u001b[0m\u001b[1;33m.\u001b[0m\u001b[0mfind_elements_by_xpath\u001b[0m\u001b[1;33m(\u001b[0m\u001b[1;34m\"//*[@id='mountRoot']/div/div[1]/main/div[3]/div[1]/section/div/div[5]/ul/li[2]/label/input\"\u001b[0m\u001b[1;33m)\u001b[0m\u001b[1;33m\u001b[0m\u001b[1;33m\u001b[0m\u001b[0m\n\u001b[1;32m----> 3\u001b[1;33m \u001b[0mprice_button\u001b[0m\u001b[1;33m[\u001b[0m\u001b[1;36m0\u001b[0m\u001b[1;33m]\u001b[0m\u001b[1;33m.\u001b[0m\u001b[0mclick\u001b[0m\u001b[1;33m(\u001b[0m\u001b[1;33m)\u001b[0m\u001b[1;33m\u001b[0m\u001b[1;33m\u001b[0m\u001b[0m\n\u001b[0m",
      "\u001b[1;32m~\\anaconda3\\lib\\site-packages\\selenium\\webdriver\\remote\\webelement.py\u001b[0m in \u001b[0;36mclick\u001b[1;34m(self)\u001b[0m\n\u001b[0;32m     78\u001b[0m     \u001b[1;32mdef\u001b[0m \u001b[0mclick\u001b[0m\u001b[1;33m(\u001b[0m\u001b[0mself\u001b[0m\u001b[1;33m)\u001b[0m\u001b[1;33m:\u001b[0m\u001b[1;33m\u001b[0m\u001b[1;33m\u001b[0m\u001b[0m\n\u001b[0;32m     79\u001b[0m         \u001b[1;34m\"\"\"Clicks the element.\"\"\"\u001b[0m\u001b[1;33m\u001b[0m\u001b[1;33m\u001b[0m\u001b[0m\n\u001b[1;32m---> 80\u001b[1;33m         \u001b[0mself\u001b[0m\u001b[1;33m.\u001b[0m\u001b[0m_execute\u001b[0m\u001b[1;33m(\u001b[0m\u001b[0mCommand\u001b[0m\u001b[1;33m.\u001b[0m\u001b[0mCLICK_ELEMENT\u001b[0m\u001b[1;33m)\u001b[0m\u001b[1;33m\u001b[0m\u001b[1;33m\u001b[0m\u001b[0m\n\u001b[0m\u001b[0;32m     81\u001b[0m \u001b[1;33m\u001b[0m\u001b[0m\n\u001b[0;32m     82\u001b[0m     \u001b[1;32mdef\u001b[0m \u001b[0msubmit\u001b[0m\u001b[1;33m(\u001b[0m\u001b[0mself\u001b[0m\u001b[1;33m)\u001b[0m\u001b[1;33m:\u001b[0m\u001b[1;33m\u001b[0m\u001b[1;33m\u001b[0m\u001b[0m\n",
      "\u001b[1;32m~\\anaconda3\\lib\\site-packages\\selenium\\webdriver\\remote\\webelement.py\u001b[0m in \u001b[0;36m_execute\u001b[1;34m(self, command, params)\u001b[0m\n\u001b[0;32m    631\u001b[0m             \u001b[0mparams\u001b[0m \u001b[1;33m=\u001b[0m \u001b[1;33m{\u001b[0m\u001b[1;33m}\u001b[0m\u001b[1;33m\u001b[0m\u001b[1;33m\u001b[0m\u001b[0m\n\u001b[0;32m    632\u001b[0m         \u001b[0mparams\u001b[0m\u001b[1;33m[\u001b[0m\u001b[1;34m'id'\u001b[0m\u001b[1;33m]\u001b[0m \u001b[1;33m=\u001b[0m \u001b[0mself\u001b[0m\u001b[1;33m.\u001b[0m\u001b[0m_id\u001b[0m\u001b[1;33m\u001b[0m\u001b[1;33m\u001b[0m\u001b[0m\n\u001b[1;32m--> 633\u001b[1;33m         \u001b[1;32mreturn\u001b[0m \u001b[0mself\u001b[0m\u001b[1;33m.\u001b[0m\u001b[0m_parent\u001b[0m\u001b[1;33m.\u001b[0m\u001b[0mexecute\u001b[0m\u001b[1;33m(\u001b[0m\u001b[0mcommand\u001b[0m\u001b[1;33m,\u001b[0m \u001b[0mparams\u001b[0m\u001b[1;33m)\u001b[0m\u001b[1;33m\u001b[0m\u001b[1;33m\u001b[0m\u001b[0m\n\u001b[0m\u001b[0;32m    634\u001b[0m \u001b[1;33m\u001b[0m\u001b[0m\n\u001b[0;32m    635\u001b[0m     \u001b[1;32mdef\u001b[0m \u001b[0mfind_element\u001b[0m\u001b[1;33m(\u001b[0m\u001b[0mself\u001b[0m\u001b[1;33m,\u001b[0m \u001b[0mby\u001b[0m\u001b[1;33m=\u001b[0m\u001b[0mBy\u001b[0m\u001b[1;33m.\u001b[0m\u001b[0mID\u001b[0m\u001b[1;33m,\u001b[0m \u001b[0mvalue\u001b[0m\u001b[1;33m=\u001b[0m\u001b[1;32mNone\u001b[0m\u001b[1;33m)\u001b[0m\u001b[1;33m:\u001b[0m\u001b[1;33m\u001b[0m\u001b[1;33m\u001b[0m\u001b[0m\n",
      "\u001b[1;32m~\\anaconda3\\lib\\site-packages\\selenium\\webdriver\\remote\\webdriver.py\u001b[0m in \u001b[0;36mexecute\u001b[1;34m(self, driver_command, params)\u001b[0m\n\u001b[0;32m    319\u001b[0m         \u001b[0mresponse\u001b[0m \u001b[1;33m=\u001b[0m \u001b[0mself\u001b[0m\u001b[1;33m.\u001b[0m\u001b[0mcommand_executor\u001b[0m\u001b[1;33m.\u001b[0m\u001b[0mexecute\u001b[0m\u001b[1;33m(\u001b[0m\u001b[0mdriver_command\u001b[0m\u001b[1;33m,\u001b[0m \u001b[0mparams\u001b[0m\u001b[1;33m)\u001b[0m\u001b[1;33m\u001b[0m\u001b[1;33m\u001b[0m\u001b[0m\n\u001b[0;32m    320\u001b[0m         \u001b[1;32mif\u001b[0m \u001b[0mresponse\u001b[0m\u001b[1;33m:\u001b[0m\u001b[1;33m\u001b[0m\u001b[1;33m\u001b[0m\u001b[0m\n\u001b[1;32m--> 321\u001b[1;33m             \u001b[0mself\u001b[0m\u001b[1;33m.\u001b[0m\u001b[0merror_handler\u001b[0m\u001b[1;33m.\u001b[0m\u001b[0mcheck_response\u001b[0m\u001b[1;33m(\u001b[0m\u001b[0mresponse\u001b[0m\u001b[1;33m)\u001b[0m\u001b[1;33m\u001b[0m\u001b[1;33m\u001b[0m\u001b[0m\n\u001b[0m\u001b[0;32m    322\u001b[0m             response['value'] = self._unwrap_value(\n\u001b[0;32m    323\u001b[0m                 response.get('value', None))\n",
      "\u001b[1;32m~\\anaconda3\\lib\\site-packages\\selenium\\webdriver\\remote\\errorhandler.py\u001b[0m in \u001b[0;36mcheck_response\u001b[1;34m(self, response)\u001b[0m\n\u001b[0;32m    240\u001b[0m                 \u001b[0malert_text\u001b[0m \u001b[1;33m=\u001b[0m \u001b[0mvalue\u001b[0m\u001b[1;33m[\u001b[0m\u001b[1;34m'alert'\u001b[0m\u001b[1;33m]\u001b[0m\u001b[1;33m.\u001b[0m\u001b[0mget\u001b[0m\u001b[1;33m(\u001b[0m\u001b[1;34m'text'\u001b[0m\u001b[1;33m)\u001b[0m\u001b[1;33m\u001b[0m\u001b[1;33m\u001b[0m\u001b[0m\n\u001b[0;32m    241\u001b[0m             \u001b[1;32mraise\u001b[0m \u001b[0mexception_class\u001b[0m\u001b[1;33m(\u001b[0m\u001b[0mmessage\u001b[0m\u001b[1;33m,\u001b[0m \u001b[0mscreen\u001b[0m\u001b[1;33m,\u001b[0m \u001b[0mstacktrace\u001b[0m\u001b[1;33m,\u001b[0m \u001b[0malert_text\u001b[0m\u001b[1;33m)\u001b[0m\u001b[1;33m\u001b[0m\u001b[1;33m\u001b[0m\u001b[0m\n\u001b[1;32m--> 242\u001b[1;33m         \u001b[1;32mraise\u001b[0m \u001b[0mexception_class\u001b[0m\u001b[1;33m(\u001b[0m\u001b[0mmessage\u001b[0m\u001b[1;33m,\u001b[0m \u001b[0mscreen\u001b[0m\u001b[1;33m,\u001b[0m \u001b[0mstacktrace\u001b[0m\u001b[1;33m)\u001b[0m\u001b[1;33m\u001b[0m\u001b[1;33m\u001b[0m\u001b[0m\n\u001b[0m\u001b[0;32m    243\u001b[0m \u001b[1;33m\u001b[0m\u001b[0m\n\u001b[0;32m    244\u001b[0m     \u001b[1;32mdef\u001b[0m \u001b[0m_value_or_default\u001b[0m\u001b[1;33m(\u001b[0m\u001b[0mself\u001b[0m\u001b[1;33m,\u001b[0m \u001b[0mobj\u001b[0m\u001b[1;33m,\u001b[0m \u001b[0mkey\u001b[0m\u001b[1;33m,\u001b[0m \u001b[0mdefault\u001b[0m\u001b[1;33m)\u001b[0m\u001b[1;33m:\u001b[0m\u001b[1;33m\u001b[0m\u001b[1;33m\u001b[0m\u001b[0m\n",
      "\u001b[1;31mElementNotInteractableException\u001b[0m: Message: element not interactable\n  (Session info: chrome=90.0.4430.212)\n"
     ]
    }
   ],
   "source": [
    "#6657.0 TO 13105.0\n",
    "price_button=driver.find_elements_by_xpath(\"//*[@id='mountRoot']/div/div[1]/main/div[3]/div[1]/section/div/div[5]/ul/li[2]/label/input\")\n",
    "price_button[0].click()"
   ]
  },
  {
   "cell_type": "code",
   "execution_count": 105,
   "metadata": {},
   "outputs": [],
   "source": [
    "#Rs. 6657 to Rs. 13105\n",
    "price_filter=driver.find_elements_by_xpath(\"//ul[@class='price-list']\")\n",
    "for i in price_filter:\n",
    "    if i.text=='Rs. 6657 to Rs. 13105':\n",
    "        i.click()\n",
    "        break\n"
   ]
  },
  {
   "cell_type": "code",
   "execution_count": 106,
   "metadata": {},
   "outputs": [],
   "source": [
    "shoe_brand=[]\n",
    "\n",
    "for i in driver.find_elements_by_xpath(\"//h3[@class='product-brand']\"):\n",
    "    shoe_brand.append(i.text)"
   ]
  },
  {
   "cell_type": "code",
   "execution_count": 107,
   "metadata": {},
   "outputs": [
    {
     "data": {
      "text/plain": [
       "['Red Tape',\n",
       " 'MENGLER',\n",
       " 'Nike',\n",
       " 'Sparx',\n",
       " 'ADIDAS',\n",
       " 'Eego Italy',\n",
       " 'Provogue',\n",
       " 'ADIDAS',\n",
       " 'Red Tape',\n",
       " 'Nike',\n",
       " 'Mode by Red Tape',\n",
       " 'Nike',\n",
       " 'Puma',\n",
       " 'Skechers',\n",
       " 'Nike',\n",
       " 'Puma',\n",
       " 'Nabaiji By Decathlon',\n",
       " 'Sparx',\n",
       " 'Skechers',\n",
       " 'Nike',\n",
       " 'ALDO',\n",
       " 'UNDER ARMOUR',\n",
       " 'ZAPATOZ',\n",
       " 'Nike',\n",
       " 'Nike',\n",
       " 'Champs',\n",
       " 'Nike',\n",
       " 'Nike',\n",
       " 'ASICS',\n",
       " 'Puma',\n",
       " 'Shoetopia',\n",
       " 'HRX by Hrithik Roshan',\n",
       " 'Nike',\n",
       " 'Crew STREET',\n",
       " 'Puma',\n",
       " 'Sparx',\n",
       " 'Puma',\n",
       " 'Skechers',\n",
       " 'HRX by Hrithik Roshan',\n",
       " 'Street Style Store',\n",
       " 'ALDO',\n",
       " 'Puma',\n",
       " 'ADIDAS Originals',\n",
       " 'AfroJack',\n",
       " 'Marc Loire',\n",
       " 'Crocs',\n",
       " 'HIGHLANDER',\n",
       " 'Nike',\n",
       " 'Nike',\n",
       " 'PERFLY By Decathlon']"
      ]
     },
     "execution_count": 107,
     "metadata": {},
     "output_type": "execute_result"
    }
   ],
   "source": [
    "shoe_brand[:100]"
   ]
  },
  {
   "cell_type": "code",
   "execution_count": 108,
   "metadata": {},
   "outputs": [],
   "source": [
    "shoe_discription=[]\n",
    "\n",
    "for i in driver.find_elements_by_xpath(\"//h4[@class='product-product']\"):\n",
    "    shoe_discription.append(i.text)"
   ]
  },
  {
   "cell_type": "code",
   "execution_count": 109,
   "metadata": {},
   "outputs": [
    {
     "data": {
      "text/plain": [
       "['Men Walking Shoes',\n",
       " 'Men Walking Shoes',\n",
       " 'Men ZOOM SPAN 3 Running Shoes',\n",
       " 'Men Running Shoes',\n",
       " 'Men Adicaz Running Shoes',\n",
       " 'Men Trekking Shoes',\n",
       " 'Men Solid Horsebit Loafers',\n",
       " 'Men Shereton Running Shoes',\n",
       " 'Men Walking Shoes',\n",
       " 'Men SPEEDREP Training Shoes',\n",
       " 'Women Pumps',\n",
       " 'Men JOYRIDE Running Shoes',\n",
       " 'Men Mesh Fuse Training Or Gym Shoes',\n",
       " 'Women Sports Shoes',\n",
       " 'LEBRON XVIII Basketball Shoes',\n",
       " 'Running Shoes',\n",
       " 'Unisex Aqua Aerobics Shoes',\n",
       " 'Men Running Shoes',\n",
       " 'Men ELITE FLEX CLEAR Sneakers',\n",
       " 'Unisex PHANTOM Football Shoes',\n",
       " 'Men Leather Horsebit Loafers',\n",
       " 'Men Surge 2 Running Shoes',\n",
       " 'Women Walking Shoes',\n",
       " 'Unisex Skateboarding Shoes',\n",
       " 'Women REACT Running Shoes',\n",
       " 'Men SCOPE-ON Running Shoes',\n",
       " 'AIR ZOOM PEGASUS Running Shoes',\n",
       " 'Unisex LEBRON XVIII Shoes',\n",
       " 'Pre Contend 4 Ps Running Shoes',\n",
       " 'Men Trinity IDP Shoes Sneakers',\n",
       " 'Women Running Shoes',\n",
       " 'Men Street Run Shoes',\n",
       " 'Men COURT LITE 2 Tennis Shoes',\n",
       " 'Men Running Shoes',\n",
       " 'Men Sneakers',\n",
       " 'Men Running Shoes',\n",
       " 'Men Running Slip-On Sneakers',\n",
       " 'Men BOUNDER Slip-On Sneakers',\n",
       " 'Women Metalite Running Shoes',\n",
       " 'Women Open Toe Flats',\n",
       " 'Men Driving Shoes',\n",
       " 'Flex Essential Running Shoes',\n",
       " 'Men X_PLR S Sneakers',\n",
       " 'Men Running Shoes',\n",
       " 'Women Pumps',\n",
       " 'Women Solid Comfort Sandals',\n",
       " 'Men Solid Sneakers',\n",
       " 'Men ZOOM SPAN 3 Running Shoes',\n",
       " 'Men KD13 EP Basketball Shoes',\n",
       " 'Men BS 530 Badminton Shoes']"
      ]
     },
     "execution_count": 109,
     "metadata": {},
     "output_type": "execute_result"
    }
   ],
   "source": [
    "shoe_discription[:100]"
   ]
  },
  {
   "cell_type": "code",
   "execution_count": 112,
   "metadata": {},
   "outputs": [],
   "source": [
    "#product-discountedPrice\n",
    "shoe_price=[]\n",
    "\n",
    "for i in driver.find_elements_by_xpath(\"//span[@class='product-discountedPrice']\"):\n",
    "    shoe_price.append(i.text)"
   ]
  },
  {
   "cell_type": "code",
   "execution_count": 113,
   "metadata": {},
   "outputs": [
    {
     "data": {
      "text/plain": [
       "['Rs. 1224',\n",
       " 'Rs. 628',\n",
       " 'Rs. 6115',\n",
       " 'Rs. 996',\n",
       " 'Rs. 2339',\n",
       " 'Rs. 899',\n",
       " 'Rs. 799',\n",
       " 'Rs. 1949',\n",
       " 'Rs. 1224',\n",
       " 'Rs. 6115',\n",
       " 'Rs. 924',\n",
       " 'Rs. 11246',\n",
       " 'Rs. 4479',\n",
       " 'Rs. 2649',\n",
       " 'Rs. 2624',\n",
       " 'Rs. 1049',\n",
       " 'Rs. 3599',\n",
       " 'Rs. 5996',\n",
       " 'Rs. 4199',\n",
       " 'Rs. 599',\n",
       " 'Rs. 4546',\n",
       " 'Rs. 8396',\n",
       " 'Rs. 749',\n",
       " 'Rs. 14955',\n",
       " 'Rs. 689',\n",
       " 'Rs. 2694',\n",
       " 'Rs. 749',\n",
       " 'Rs. 999',\n",
       " 'Rs. 3996',\n",
       " 'Rs. 999',\n",
       " 'Rs. 2239',\n",
       " 'Rs. 986',\n",
       " 'Rs. 2239',\n",
       " 'Rs. 1379',\n",
       " 'Rs. 599',\n",
       " 'Rs. 1679',\n",
       " 'Rs. 4939',\n",
       " 'Rs. 599',\n",
       " 'Rs. 983',\n",
       " 'Rs. 1497',\n",
       " 'Rs. 895',\n",
       " 'Rs. 6115',\n",
       " 'Rs. 2519']"
      ]
     },
     "execution_count": 113,
     "metadata": {},
     "output_type": "execute_result"
    }
   ],
   "source": [
    "shoe_price[:100]"
   ]
  },
  {
   "cell_type": "code",
   "execution_count": null,
   "metadata": {},
   "outputs": [],
   "source": []
  },
  {
   "cell_type": "code",
   "execution_count": null,
   "metadata": {},
   "outputs": [],
   "source": []
  },
  {
   "cell_type": "markdown",
   "metadata": {},
   "source": [
    "# Question 10"
   ]
  },
  {
   "cell_type": "code",
   "execution_count": null,
   "metadata": {},
   "outputs": [],
   "source": []
  },
  {
   "cell_type": "code",
   "execution_count": 173,
   "metadata": {},
   "outputs": [],
   "source": [
    "driver= webdriver.Chrome(\"C:/Users/Techitfirst/Desktop/Abhinay/chromedriver.exe\")\n",
    "url='https://www.amazon.in/'\n",
    "driver.get(url)"
   ]
  },
  {
   "cell_type": "code",
   "execution_count": 174,
   "metadata": {},
   "outputs": [
    {
     "data": {
      "text/plain": [
       "<selenium.webdriver.remote.webelement.WebElement (session=\"f082c45b8bbb2e3cfeebec7cfe34b56e\", element=\"dd110784-4ecc-4c82-9927-68d6f61393ab\")>"
      ]
     },
     "execution_count": 174,
     "metadata": {},
     "output_type": "execute_result"
    }
   ],
   "source": [
    "#laptop key word in search box\n",
    "\n",
    "laptop_search=driver.find_element_by_id('twotabsearchtextbox')\n",
    "laptop_search"
   ]
  },
  {
   "cell_type": "code",
   "execution_count": 175,
   "metadata": {},
   "outputs": [],
   "source": [
    "laptop_search.clear()\n",
    "laptop_search.send_keys('Laptop')"
   ]
  },
  {
   "cell_type": "code",
   "execution_count": 176,
   "metadata": {},
   "outputs": [],
   "source": [
    "#nav-search-submit-button\n",
    "\n",
    "search_icon_laptop=driver.find_element_by_id('nav-search-submit-button')\n",
    "search_icon_laptop.click()"
   ]
  },
  {
   "cell_type": "code",
   "execution_count": 177,
   "metadata": {},
   "outputs": [],
   "source": [
    "price_filter=driver.find_elements_by_xpath(\"//a[@class='a-link-normal s-navigation-item']\")\n",
    "for a in price_filter:\n",
    "    if a.text=='Intel Core i7':\n",
    "        a.click()\n",
    "        break"
   ]
  },
  {
   "cell_type": "code",
   "execution_count": 169,
   "metadata": {},
   "outputs": [],
   "source": [
    "price_filter=driver.find_elements_by_xpath(\"//a[@class='a-link-normal s-navigation-item']\")\n",
    "for a in price_filter:\n",
    "    if a.text=='Intel Core i9':\n",
    "        a.click()\n",
    "        break"
   ]
  },
  {
   "cell_type": "code",
   "execution_count": 126,
   "metadata": {},
   "outputs": [],
   "source": [
    "Title_i9=[]\n",
    "\n",
    "for i in driver.find_elements_by_xpath(\"//h2[@class='a-size-mini a-spacing-none a-color-base s-line-clamp-2']\"):\n",
    "    Title_i9.append(i.text)"
   ]
  },
  {
   "cell_type": "code",
   "execution_count": 127,
   "metadata": {},
   "outputs": [
    {
     "data": {
      "text/plain": [
       "['ASUS ROG Zephyrus Duo 15, 15.6\" FHD 300Hz/3ms, Intel Core i9-10980HK 10th Gen, RTX 2080 SUPER Max-Q 8GB Graphic, Gaming Laptop (32GB/2TB RAID 0 SSD/Office 2019/Windows 10/Gray/2.4 Kg) GX550LXS-HF168TS',\n",
       " 'Dell XPS 9570 15.6\" (39.62cms) UHD Laptop (8th Gen i9-8950HK/32GB/1TB SSD/Win 10 + MS Office/Integrated Graphics), Silver',\n",
       " 'ASUS ZenBook Pro Duo Intel Core i9-10980HK 10th Gen 15.6\" 4K UHD OLED Touchscreen Laptop (32GB RAM/1TB NVMe SSD/Windows 10/6GB NVIDIA GeForce RTX 2060 Graphics/Celestial Blue/2.5 Kg), UX581LV-H2035T',\n",
       " 'Dell G7 7500 15.6inch FHD 300 Hz Display Gaming Laptop (10th Gen i9-10885H / 16 GB / 1TB SSD / NVIDIA RTX 2070 8GB Graphics / 1Yr Premium Warranty / Win 10 + MS Office H&S 2019) D560233WIN9B, Black',\n",
       " 'Dell Alienware m15(R3) 15.6\" (39.62cms) UHD Gaming Laptop (10th Gen Core i9-10980HK/32GB/1TB SSD/Windows 10 Home & MS Office/8GB NVIDIA RTX 2080 Graphics), Lunar Light',\n",
       " 'ASUS ROG Strix Scar 17 (2020), 17.3\" FHD 300Hz/3ms, Intel Core i9-10980HK 10th Gen, RTX 2080 Super GDDR6 8GB Graphics, Gaming Laptop (32GB/2TB RAID 0 SSD/Windows 10/Black/2.99 Kg), G732LXS-HG059T',\n",
       " 'Lenovo Legion 7 10th Gen Intel Core i9 15.6 inch Full HD Gaming Laptop (16GB/1TB SSD/Windows 10/MS Office 2019/144 Hz/NVIDIA RTX 2080 8GB GDDR6 Graphics/Slate Grey/2.25Kg), 81YU006HIN',\n",
       " '(Renewed) Dell XPS 9570 Laptop|i9-8950HK|32GB DDR4|1TB SSD|15.6\" 4K Touch|NVIDIA GTX 1050Ti 4GB|Win 10 HSL|Backlit',\n",
       " '(Renewed) Dell G Series G7  7588 15.6-inch FHD Laptop (8th gen Core i9-8950HK/16GB/1TB + 128GB SSD/Windows 10/MS Office/6 GB Nvidia GeForce GTX 1060 Graphics)',\n",
       " 'Apple MacBook Pro (16-inch, 16GB RAM, 1TB Storage, 2.3GHz 9th Gen Intel Core i9) - Silver']"
      ]
     },
     "execution_count": 127,
     "metadata": {},
     "output_type": "execute_result"
    }
   ],
   "source": [
    "Title_i9[:10]"
   ]
  },
  {
   "cell_type": "code",
   "execution_count": 129,
   "metadata": {},
   "outputs": [],
   "source": [
    "#a-price-whole\n",
    "\n",
    "Price_i9=[]\n",
    "\n",
    "for i in driver.find_elements_by_xpath(\"//span[@class='a-price-whole']\"):\n",
    "    Price_i9.append(i.text)"
   ]
  },
  {
   "cell_type": "code",
   "execution_count": 130,
   "metadata": {},
   "outputs": [
    {
     "data": {
      "text/plain": [
       "['2,66,990',\n",
       " '2,48,790',\n",
       " '2,99,999',\n",
       " '2,00,690',\n",
       " '3,19,990',\n",
       " '2,77,490',\n",
       " '2,62,990',\n",
       " '1,22,000',\n",
       " '2,24,990',\n",
       " '2,69,900']"
      ]
     },
     "execution_count": 130,
     "metadata": {},
     "output_type": "execute_result"
    }
   ],
   "source": [
    "Price_i9[:10]"
   ]
  },
  {
   "cell_type": "code",
   "execution_count": 161,
   "metadata": {},
   "outputs": [],
   "source": [
    "#a-icon a-icon-star-small a-star-small-2-5 aok-align-bottom\n",
    "\n",
    "Review_i9=[]\n",
    "\n",
    "for i in driver.find_elements_by_xpath(\"//span[@class='a-icon-alt']\"):\n",
    "    Review_i9.append(i.text)"
   ]
  },
  {
   "cell_type": "code",
   "execution_count": 162,
   "metadata": {},
   "outputs": [
    {
     "data": {
      "text/plain": [
       "['', '', '', '', '', '', '', '', '', '']"
      ]
     },
     "execution_count": 162,
     "metadata": {},
     "output_type": "execute_result"
    }
   ],
   "source": [
    "Review_i9[:10]"
   ]
  },
  {
   "cell_type": "code",
   "execution_count": 178,
   "metadata": {},
   "outputs": [],
   "source": [
    "Title_i7=[]\n",
    "\n",
    "for i in driver.find_elements_by_xpath(\"//h2[@class='a-size-mini a-spacing-none a-color-base s-line-clamp-2']\"):\n",
    "    Title_i7.append(i.text)"
   ]
  },
  {
   "cell_type": "code",
   "execution_count": 179,
   "metadata": {},
   "outputs": [
    {
     "data": {
      "text/plain": [
       "['Lenovo Yoga Slim 7 10th Gen Intel Core i7 14 inch Full HD IPS Thin and Light Laptop (8GB/512GB SSD/Windows 10/MS Office 2019/NVIDIA MX350 2GB GDDR5 Graphics/Slate Grey/1.55Kg), 82A1009KIN',\n",
       " 'HP Pavilion (2021) Thin & Light 11th Gen Core i7 Laptop, 16 GB RAM, 1TB SSD, Iris Xe Graphics, 14\" (35.56cms) FHD Screen, Windows 10, MS Office, Backlit Keyboard (14-dv0058TU)',\n",
       " 'Mi Notebook Horizon Edition 14 Intel Core i5-10210U 10th Gen 14-inch (35.56 cms) Thin and Light Laptop(8GB/512GB SSD/Windows 10/Nvidia MX350 2GB Graphics/Grey/1.35Kg), XMA1904-AR+Webcam',\n",
       " 'Lenovo Yoga Slim 7i 11th Gen Intel Core i7 14\" FHD IPS Thin and Light Laptop (16GB/1TB SSD/Win 10/Office/Intel Iris Xe Graphics/Fingerprint/HD IR Camera/Aluminium Surface/Slate Grey/1.36Kg) 82A3009QIN',\n",
       " 'Life Digital Laptop 15.6-inch (39.62 cms) (Intel Core i7, 8GB RAM, 512GB SSD, Windows 10), ZED AIR CX7',\n",
       " 'HP Pavilion Gaming 10th Gen Intel Core i7 Processor 15.6-inch FHD Gaming Laptop (16GB/512GB SSD + 32GB Intel Optane/Windows 10/NVIDIA 1650Ti 4GB/Shadow Black), 15-dk1509TX',\n",
       " 'Dell Inspiron 5406 14\" FHD Touch Display 2in1 Laptop (11th Gen i7-1165G7 / 8Gb / 512Gb SSD / Integrated Graphics / Win 10 + MSO / Titan Grey Color / FPR/ Active Pen) D560414WIN9S',\n",
       " 'Lenovo IdeaPad Flex 5 11th Gen Intel Core i7 14-inch FHD IPS 2-in-1 Touchscreen Laptop (16GB/512GB SSD/Win 10/Office 2019/Lenovo Digital Pen Stylus/Fingerprint Reader/Graphite Grey/1.5Kg), 82HS0092IN',\n",
       " 'CUK VivoBook K571 by ASUS 15 Inch Gaming Laptop (Intel Core i7, 16GB RAM, 256GB NVMe SSD + 1TB HDD, NVIDIA GeForce GTX 1650 Ti 4GB, 15.6\" FHD, Windows 10 Home) Thin Notebook Computer',\n",
       " 'HP Pavilion x360 (2021) 14\" (35.56cms) FHD Touchscreen Laptop, 11th Gen Core i7, 8 GB RAM, 512GB SSD, 2-in-1 Convertible, Windows 10, MS Office, Finger Print Reader (14-dw1040TU)']"
      ]
     },
     "execution_count": 179,
     "metadata": {},
     "output_type": "execute_result"
    }
   ],
   "source": [
    "Title_i7[:10]"
   ]
  },
  {
   "cell_type": "code",
   "execution_count": 180,
   "metadata": {},
   "outputs": [],
   "source": [
    "Price_i7=[]\n",
    "\n",
    "for i in driver.find_elements_by_xpath(\"//span[@class='a-price-whole']\"):\n",
    "    Price_i7.append(i.text)"
   ]
  },
  {
   "cell_type": "code",
   "execution_count": 181,
   "metadata": {},
   "outputs": [
    {
     "data": {
      "text/plain": [
       "['83,990',\n",
       " '79,990',\n",
       " '49,999',\n",
       " '97,990',\n",
       " '47,050',\n",
       " '84,990',\n",
       " '84,872',\n",
       " '83,990',\n",
       " '1,44,643',\n",
       " '78,493']"
      ]
     },
     "execution_count": 181,
     "metadata": {},
     "output_type": "execute_result"
    }
   ],
   "source": [
    "Price_i7[:10]"
   ]
  },
  {
   "cell_type": "code",
   "execution_count": 182,
   "metadata": {},
   "outputs": [],
   "source": [
    "#a-icon a-icon-star-small a-star-small-2-5 aok-align-bottom\n",
    "\n",
    "Review_i7=[]\n",
    "\n",
    "for i in driver.find_elements_by_xpath(\"//span[@class='a-icon-alt']\"):\n",
    "    Review_i7.append(i.text)"
   ]
  },
  {
   "cell_type": "code",
   "execution_count": 183,
   "metadata": {},
   "outputs": [
    {
     "data": {
      "text/plain": [
       "['', '', '', '', '', '', '', '', '', '']"
      ]
     },
     "execution_count": 183,
     "metadata": {},
     "output_type": "execute_result"
    }
   ],
   "source": [
    "Review_i7[:10]"
   ]
  },
  {
   "cell_type": "code",
   "execution_count": null,
   "metadata": {},
   "outputs": [],
   "source": []
  }
 ],
 "metadata": {
  "kernelspec": {
   "display_name": "Python 3",
   "language": "python",
   "name": "python3"
  },
  "language_info": {
   "codemirror_mode": {
    "name": "ipython",
    "version": 3
   },
   "file_extension": ".py",
   "mimetype": "text/x-python",
   "name": "python",
   "nbconvert_exporter": "python",
   "pygments_lexer": "ipython3",
   "version": "3.8.3"
  }
 },
 "nbformat": 4,
 "nbformat_minor": 4
}
